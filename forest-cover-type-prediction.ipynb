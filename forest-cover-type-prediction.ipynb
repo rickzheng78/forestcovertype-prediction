{
 "cells": [
  {
   "cell_type": "code",
   "metadata": {
    "tags": [],
    "cell_id": "00000-9d2f3d5b-3742-4af5-b0d8-8bad41d34777",
    "deepnote_to_be_reexecuted": false,
    "source_hash": "772827e5",
    "execution_start": 1646776549681,
    "execution_millis": 2069,
    "deepnote_cell_type": "code",
    "deepnote_cell_height": 153
   },
   "source": "import numpy as np\nimport pandas as pd\nimport matplotlib.pyplot as plt\nimport seaborn as sns\nimport math",
   "execution_count": 1,
   "outputs": []
  },
  {
   "cell_type": "markdown",
   "source": "## Loading Data",
   "metadata": {
    "tags": [],
    "cell_id": "00001-ec0794fd-44c4-4454-84fb-cef70c075ae1",
    "deepnote_cell_type": "markdown",
    "deepnote_cell_height": 70
   }
  },
  {
   "cell_type": "code",
   "metadata": {
    "tags": [],
    "cell_id": "00001-ed0d1c04-f660-4d24-a4fa-dc42d6ff1cbc",
    "deepnote_to_be_reexecuted": false,
    "source_hash": "d44f6338",
    "execution_start": 1646776551758,
    "execution_millis": 62,
    "deepnote_cell_type": "code",
    "deepnote_cell_height": 81
   },
   "source": "train = pd.read_csv(\"forest-cover-type-prediction/train.csv\")",
   "execution_count": 2,
   "outputs": []
  },
  {
   "cell_type": "code",
   "metadata": {
    "tags": [],
    "cell_id": "00002-e3b69aff-bd1e-4c6e-bd43-a422a020377e",
    "deepnote_to_be_reexecuted": false,
    "source_hash": "e1f0b45",
    "execution_start": 1646776551858,
    "execution_millis": 537,
    "deepnote_cell_type": "code",
    "deepnote_cell_height": 342
   },
   "source": "train.head()",
   "execution_count": 3,
   "outputs": [
    {
     "output_type": "execute_result",
     "execution_count": 3,
     "data": {
      "application/vnd.deepnote.dataframe.v3+json": {
       "column_count": 56,
       "row_count": 5,
       "columns": [
        {
         "name": "Id",
         "dtype": "int64",
         "stats": {
          "unique_count": 5,
          "nan_count": 0,
          "min": "1",
          "max": "5",
          "histogram": [
           {
            "bin_start": 1,
            "bin_end": 1.4,
            "count": 1
           },
           {
            "bin_start": 1.4,
            "bin_end": 1.8,
            "count": 0
           },
           {
            "bin_start": 1.8,
            "bin_end": 2.2,
            "count": 1
           },
           {
            "bin_start": 2.2,
            "bin_end": 2.6,
            "count": 0
           },
           {
            "bin_start": 2.6,
            "bin_end": 3,
            "count": 0
           },
           {
            "bin_start": 3,
            "bin_end": 3.4000000000000004,
            "count": 1
           },
           {
            "bin_start": 3.4000000000000004,
            "bin_end": 3.8000000000000003,
            "count": 0
           },
           {
            "bin_start": 3.8000000000000003,
            "bin_end": 4.2,
            "count": 1
           },
           {
            "bin_start": 4.2,
            "bin_end": 4.6,
            "count": 0
           },
           {
            "bin_start": 4.6,
            "bin_end": 5,
            "count": 1
           }
          ]
         }
        },
        {
         "name": "Elevation",
         "dtype": "int64",
         "stats": {
          "unique_count": 5,
          "nan_count": 0,
          "min": "2590",
          "max": "2804",
          "histogram": [
           {
            "bin_start": 2590,
            "bin_end": 2611.4,
            "count": 3
           },
           {
            "bin_start": 2611.4,
            "bin_end": 2632.8,
            "count": 0
           },
           {
            "bin_start": 2632.8,
            "bin_end": 2654.2,
            "count": 0
           },
           {
            "bin_start": 2654.2,
            "bin_end": 2675.6,
            "count": 0
           },
           {
            "bin_start": 2675.6,
            "bin_end": 2697,
            "count": 0
           },
           {
            "bin_start": 2697,
            "bin_end": 2718.4,
            "count": 0
           },
           {
            "bin_start": 2718.4,
            "bin_end": 2739.8,
            "count": 0
           },
           {
            "bin_start": 2739.8,
            "bin_end": 2761.2,
            "count": 0
           },
           {
            "bin_start": 2761.2,
            "bin_end": 2782.6,
            "count": 0
           },
           {
            "bin_start": 2782.6,
            "bin_end": 2804,
            "count": 2
           }
          ]
         }
        },
        {
         "name": "Aspect",
         "dtype": "int64",
         "stats": {
          "unique_count": 5,
          "nan_count": 0,
          "min": "45",
          "max": "155",
          "histogram": [
           {
            "bin_start": 45,
            "bin_end": 56,
            "count": 2
           },
           {
            "bin_start": 56,
            "bin_end": 67,
            "count": 1
           },
           {
            "bin_start": 67,
            "bin_end": 78,
            "count": 0
           },
           {
            "bin_start": 78,
            "bin_end": 89,
            "count": 0
           },
           {
            "bin_start": 89,
            "bin_end": 100,
            "count": 0
           },
           {
            "bin_start": 100,
            "bin_end": 111,
            "count": 0
           },
           {
            "bin_start": 111,
            "bin_end": 122,
            "count": 0
           },
           {
            "bin_start": 122,
            "bin_end": 133,
            "count": 0
           },
           {
            "bin_start": 133,
            "bin_end": 144,
            "count": 1
           },
           {
            "bin_start": 144,
            "bin_end": 155,
            "count": 1
           }
          ]
         }
        },
        {
         "name": "Slope",
         "dtype": "int64",
         "stats": {
          "unique_count": 4,
          "nan_count": 0,
          "min": "2",
          "max": "18",
          "histogram": [
           {
            "bin_start": 2,
            "bin_end": 3.6,
            "count": 3
           },
           {
            "bin_start": 3.6,
            "bin_end": 5.2,
            "count": 0
           },
           {
            "bin_start": 5.2,
            "bin_end": 6.800000000000001,
            "count": 0
           },
           {
            "bin_start": 6.800000000000001,
            "bin_end": 8.4,
            "count": 0
           },
           {
            "bin_start": 8.4,
            "bin_end": 10,
            "count": 1
           },
           {
            "bin_start": 10,
            "bin_end": 11.600000000000001,
            "count": 0
           },
           {
            "bin_start": 11.600000000000001,
            "bin_end": 13.200000000000001,
            "count": 0
           },
           {
            "bin_start": 13.200000000000001,
            "bin_end": 14.8,
            "count": 0
           },
           {
            "bin_start": 14.8,
            "bin_end": 16.4,
            "count": 0
           },
           {
            "bin_start": 16.4,
            "bin_end": 18,
            "count": 1
           }
          ]
         }
        },
        {
         "name": "Horizontal_Distance_To_Hydrology",
         "dtype": "int64",
         "stats": {
          "unique_count": 5,
          "nan_count": 0,
          "min": "153",
          "max": "268",
          "histogram": [
           {
            "bin_start": 153,
            "bin_end": 164.5,
            "count": 1
           },
           {
            "bin_start": 164.5,
            "bin_end": 176,
            "count": 0
           },
           {
            "bin_start": 176,
            "bin_end": 187.5,
            "count": 0
           },
           {
            "bin_start": 187.5,
            "bin_end": 199,
            "count": 0
           },
           {
            "bin_start": 199,
            "bin_end": 210.5,
            "count": 0
           },
           {
            "bin_start": 210.5,
            "bin_end": 222,
            "count": 1
           },
           {
            "bin_start": 222,
            "bin_end": 233.5,
            "count": 0
           },
           {
            "bin_start": 233.5,
            "bin_end": 245,
            "count": 1
           },
           {
            "bin_start": 245,
            "bin_end": 256.5,
            "count": 0
           },
           {
            "bin_start": 256.5,
            "bin_end": 268,
            "count": 2
           }
          ]
         }
        },
        {
         "name": "Vertical_Distance_To_Hydrology",
         "dtype": "int64",
         "stats": {
          "unique_count": 5,
          "nan_count": 0,
          "min": "-6",
          "max": "118",
          "histogram": [
           {
            "bin_start": -6,
            "bin_end": 6.4,
            "count": 3
           },
           {
            "bin_start": 6.4,
            "bin_end": 18.8,
            "count": 0
           },
           {
            "bin_start": 18.8,
            "bin_end": 31.200000000000003,
            "count": 0
           },
           {
            "bin_start": 31.200000000000003,
            "bin_end": 43.6,
            "count": 0
           },
           {
            "bin_start": 43.6,
            "bin_end": 56,
            "count": 0
           },
           {
            "bin_start": 56,
            "bin_end": 68.4,
            "count": 1
           },
           {
            "bin_start": 68.4,
            "bin_end": 80.8,
            "count": 0
           },
           {
            "bin_start": 80.8,
            "bin_end": 93.2,
            "count": 0
           },
           {
            "bin_start": 93.2,
            "bin_end": 105.60000000000001,
            "count": 0
           },
           {
            "bin_start": 105.60000000000001,
            "bin_end": 118,
            "count": 1
           }
          ]
         }
        },
        {
         "name": "Horizontal_Distance_To_Roadways",
         "dtype": "int64",
         "stats": {
          "unique_count": 5,
          "nan_count": 0,
          "min": "390",
          "max": "3180",
          "histogram": [
           {
            "bin_start": 390,
            "bin_end": 669,
            "count": 3
           },
           {
            "bin_start": 669,
            "bin_end": 948,
            "count": 0
           },
           {
            "bin_start": 948,
            "bin_end": 1227,
            "count": 0
           },
           {
            "bin_start": 1227,
            "bin_end": 1506,
            "count": 0
           },
           {
            "bin_start": 1506,
            "bin_end": 1785,
            "count": 0
           },
           {
            "bin_start": 1785,
            "bin_end": 2064,
            "count": 0
           },
           {
            "bin_start": 2064,
            "bin_end": 2343,
            "count": 0
           },
           {
            "bin_start": 2343,
            "bin_end": 2622,
            "count": 0
           },
           {
            "bin_start": 2622,
            "bin_end": 2901,
            "count": 0
           },
           {
            "bin_start": 2901,
            "bin_end": 3180,
            "count": 2
           }
          ]
         }
        },
        {
         "name": "Hillshade_9am",
         "dtype": "int64",
         "stats": {
          "unique_count": 4,
          "nan_count": 0,
          "min": "220",
          "max": "238",
          "histogram": [
           {
            "bin_start": 220,
            "bin_end": 221.8,
            "count": 3
           },
           {
            "bin_start": 221.8,
            "bin_end": 223.6,
            "count": 0
           },
           {
            "bin_start": 223.6,
            "bin_end": 225.4,
            "count": 0
           },
           {
            "bin_start": 225.4,
            "bin_end": 227.2,
            "count": 0
           },
           {
            "bin_start": 227.2,
            "bin_end": 229,
            "count": 0
           },
           {
            "bin_start": 229,
            "bin_end": 230.8,
            "count": 0
           },
           {
            "bin_start": 230.8,
            "bin_end": 232.6,
            "count": 0
           },
           {
            "bin_start": 232.6,
            "bin_end": 234.4,
            "count": 1
           },
           {
            "bin_start": 234.4,
            "bin_end": 236.2,
            "count": 0
           },
           {
            "bin_start": 236.2,
            "bin_end": 238,
            "count": 1
           }
          ]
         }
        },
        {
         "name": "Hillshade_Noon",
         "dtype": "int64",
         "stats": {
          "unique_count": 4,
          "nan_count": 0,
          "min": "232",
          "max": "238",
          "histogram": [
           {
            "bin_start": 232,
            "bin_end": 232.6,
            "count": 1
           },
           {
            "bin_start": 232.6,
            "bin_end": 233.2,
            "count": 0
           },
           {
            "bin_start": 233.2,
            "bin_end": 233.8,
            "count": 0
           },
           {
            "bin_start": 233.8,
            "bin_end": 234.4,
            "count": 1
           },
           {
            "bin_start": 234.4,
            "bin_end": 235,
            "count": 0
           },
           {
            "bin_start": 235,
            "bin_end": 235.6,
            "count": 1
           },
           {
            "bin_start": 235.6,
            "bin_end": 236.2,
            "count": 0
           },
           {
            "bin_start": 236.2,
            "bin_end": 236.8,
            "count": 0
           },
           {
            "bin_start": 236.8,
            "bin_end": 237.4,
            "count": 0
           },
           {
            "bin_start": 237.4,
            "bin_end": 238,
            "count": 2
           }
          ]
         }
        },
        {
         "name": "Hillshade_3pm",
         "dtype": "int64",
         "stats": {
          "unique_count": 5,
          "nan_count": 0,
          "min": "122",
          "max": "151",
          "histogram": [
           {
            "bin_start": 122,
            "bin_end": 124.9,
            "count": 1
           },
           {
            "bin_start": 124.9,
            "bin_end": 127.8,
            "count": 0
           },
           {
            "bin_start": 127.8,
            "bin_end": 130.7,
            "count": 0
           },
           {
            "bin_start": 130.7,
            "bin_end": 133.6,
            "count": 0
           },
           {
            "bin_start": 133.6,
            "bin_end": 136.5,
            "count": 1
           },
           {
            "bin_start": 136.5,
            "bin_end": 139.4,
            "count": 0
           },
           {
            "bin_start": 139.4,
            "bin_end": 142.3,
            "count": 0
           },
           {
            "bin_start": 142.3,
            "bin_end": 145.2,
            "count": 0
           },
           {
            "bin_start": 145.2,
            "bin_end": 148.1,
            "count": 1
           },
           {
            "bin_start": 148.1,
            "bin_end": 151,
            "count": 2
           }
          ]
         }
        },
        {
         "name": "Horizontal_Distance_To_Fire_Points",
         "dtype": "int64",
         "stats": {
          "unique_count": 5,
          "nan_count": 0,
          "min": "6121",
          "max": "6279",
          "histogram": [
           {
            "bin_start": 6121,
            "bin_end": 6136.8,
            "count": 1
           },
           {
            "bin_start": 6136.8,
            "bin_end": 6152.6,
            "count": 0
           },
           {
            "bin_start": 6152.6,
            "bin_end": 6168.4,
            "count": 0
           },
           {
            "bin_start": 6168.4,
            "bin_end": 6184.2,
            "count": 1
           },
           {
            "bin_start": 6184.2,
            "bin_end": 6200,
            "count": 0
           },
           {
            "bin_start": 6200,
            "bin_end": 6215.8,
            "count": 1
           },
           {
            "bin_start": 6215.8,
            "bin_end": 6231.6,
            "count": 1
           },
           {
            "bin_start": 6231.6,
            "bin_end": 6247.4,
            "count": 0
           },
           {
            "bin_start": 6247.4,
            "bin_end": 6263.2,
            "count": 0
           },
           {
            "bin_start": 6263.2,
            "bin_end": 6279,
            "count": 1
           }
          ]
         }
        },
        {
         "name": "Wilderness_Area1",
         "dtype": "int64",
         "stats": {
          "unique_count": 1,
          "nan_count": 0,
          "min": "1",
          "max": "1",
          "histogram": [
           {
            "bin_start": 0.5,
            "bin_end": 0.6,
            "count": 0
           },
           {
            "bin_start": 0.6,
            "bin_end": 0.7,
            "count": 0
           },
           {
            "bin_start": 0.7,
            "bin_end": 0.8,
            "count": 0
           },
           {
            "bin_start": 0.8,
            "bin_end": 0.9,
            "count": 0
           },
           {
            "bin_start": 0.9,
            "bin_end": 1,
            "count": 0
           },
           {
            "bin_start": 1,
            "bin_end": 1.1,
            "count": 5
           },
           {
            "bin_start": 1.1,
            "bin_end": 1.2000000000000002,
            "count": 0
           },
           {
            "bin_start": 1.2000000000000002,
            "bin_end": 1.3,
            "count": 0
           },
           {
            "bin_start": 1.3,
            "bin_end": 1.4,
            "count": 0
           },
           {
            "bin_start": 1.4,
            "bin_end": 1.5,
            "count": 0
           }
          ]
         }
        },
        {
         "name": "Wilderness_Area2",
         "dtype": "int64",
         "stats": {
          "unique_count": 1,
          "nan_count": 0,
          "min": "0",
          "max": "0",
          "histogram": [
           {
            "bin_start": -0.5,
            "bin_end": -0.4,
            "count": 0
           },
           {
            "bin_start": -0.4,
            "bin_end": -0.3,
            "count": 0
           },
           {
            "bin_start": -0.3,
            "bin_end": -0.19999999999999996,
            "count": 0
           },
           {
            "bin_start": -0.19999999999999996,
            "bin_end": -0.09999999999999998,
            "count": 0
           },
           {
            "bin_start": -0.09999999999999998,
            "bin_end": 0,
            "count": 0
           },
           {
            "bin_start": 0,
            "bin_end": 0.10000000000000009,
            "count": 5
           },
           {
            "bin_start": 0.10000000000000009,
            "bin_end": 0.20000000000000007,
            "count": 0
           },
           {
            "bin_start": 0.20000000000000007,
            "bin_end": 0.30000000000000004,
            "count": 0
           },
           {
            "bin_start": 0.30000000000000004,
            "bin_end": 0.4,
            "count": 0
           },
           {
            "bin_start": 0.4,
            "bin_end": 0.5,
            "count": 0
           }
          ]
         }
        },
        {
         "name": "Wilderness_Area3",
         "dtype": "int64",
         "stats": {
          "unique_count": 1,
          "nan_count": 0,
          "min": "0",
          "max": "0",
          "histogram": [
           {
            "bin_start": -0.5,
            "bin_end": -0.4,
            "count": 0
           },
           {
            "bin_start": -0.4,
            "bin_end": -0.3,
            "count": 0
           },
           {
            "bin_start": -0.3,
            "bin_end": -0.19999999999999996,
            "count": 0
           },
           {
            "bin_start": -0.19999999999999996,
            "bin_end": -0.09999999999999998,
            "count": 0
           },
           {
            "bin_start": -0.09999999999999998,
            "bin_end": 0,
            "count": 0
           },
           {
            "bin_start": 0,
            "bin_end": 0.10000000000000009,
            "count": 5
           },
           {
            "bin_start": 0.10000000000000009,
            "bin_end": 0.20000000000000007,
            "count": 0
           },
           {
            "bin_start": 0.20000000000000007,
            "bin_end": 0.30000000000000004,
            "count": 0
           },
           {
            "bin_start": 0.30000000000000004,
            "bin_end": 0.4,
            "count": 0
           },
           {
            "bin_start": 0.4,
            "bin_end": 0.5,
            "count": 0
           }
          ]
         }
        },
        {
         "name": "Wilderness_Area4",
         "dtype": "int64",
         "stats": {
          "unique_count": 1,
          "nan_count": 0,
          "min": "0",
          "max": "0",
          "histogram": [
           {
            "bin_start": -0.5,
            "bin_end": -0.4,
            "count": 0
           },
           {
            "bin_start": -0.4,
            "bin_end": -0.3,
            "count": 0
           },
           {
            "bin_start": -0.3,
            "bin_end": -0.19999999999999996,
            "count": 0
           },
           {
            "bin_start": -0.19999999999999996,
            "bin_end": -0.09999999999999998,
            "count": 0
           },
           {
            "bin_start": -0.09999999999999998,
            "bin_end": 0,
            "count": 0
           },
           {
            "bin_start": 0,
            "bin_end": 0.10000000000000009,
            "count": 5
           },
           {
            "bin_start": 0.10000000000000009,
            "bin_end": 0.20000000000000007,
            "count": 0
           },
           {
            "bin_start": 0.20000000000000007,
            "bin_end": 0.30000000000000004,
            "count": 0
           },
           {
            "bin_start": 0.30000000000000004,
            "bin_end": 0.4,
            "count": 0
           },
           {
            "bin_start": 0.4,
            "bin_end": 0.5,
            "count": 0
           }
          ]
         }
        },
        {
         "name": "Soil_Type1",
         "dtype": "int64",
         "stats": {
          "unique_count": 1,
          "nan_count": 0,
          "min": "0",
          "max": "0",
          "histogram": [
           {
            "bin_start": -0.5,
            "bin_end": -0.4,
            "count": 0
           },
           {
            "bin_start": -0.4,
            "bin_end": -0.3,
            "count": 0
           },
           {
            "bin_start": -0.3,
            "bin_end": -0.19999999999999996,
            "count": 0
           },
           {
            "bin_start": -0.19999999999999996,
            "bin_end": -0.09999999999999998,
            "count": 0
           },
           {
            "bin_start": -0.09999999999999998,
            "bin_end": 0,
            "count": 0
           },
           {
            "bin_start": 0,
            "bin_end": 0.10000000000000009,
            "count": 5
           },
           {
            "bin_start": 0.10000000000000009,
            "bin_end": 0.20000000000000007,
            "count": 0
           },
           {
            "bin_start": 0.20000000000000007,
            "bin_end": 0.30000000000000004,
            "count": 0
           },
           {
            "bin_start": 0.30000000000000004,
            "bin_end": 0.4,
            "count": 0
           },
           {
            "bin_start": 0.4,
            "bin_end": 0.5,
            "count": 0
           }
          ]
         }
        },
        {
         "name": "Soil_Type2",
         "dtype": "int64",
         "stats": {
          "unique_count": 1,
          "nan_count": 0,
          "min": "0",
          "max": "0",
          "histogram": [
           {
            "bin_start": -0.5,
            "bin_end": -0.4,
            "count": 0
           },
           {
            "bin_start": -0.4,
            "bin_end": -0.3,
            "count": 0
           },
           {
            "bin_start": -0.3,
            "bin_end": -0.19999999999999996,
            "count": 0
           },
           {
            "bin_start": -0.19999999999999996,
            "bin_end": -0.09999999999999998,
            "count": 0
           },
           {
            "bin_start": -0.09999999999999998,
            "bin_end": 0,
            "count": 0
           },
           {
            "bin_start": 0,
            "bin_end": 0.10000000000000009,
            "count": 5
           },
           {
            "bin_start": 0.10000000000000009,
            "bin_end": 0.20000000000000007,
            "count": 0
           },
           {
            "bin_start": 0.20000000000000007,
            "bin_end": 0.30000000000000004,
            "count": 0
           },
           {
            "bin_start": 0.30000000000000004,
            "bin_end": 0.4,
            "count": 0
           },
           {
            "bin_start": 0.4,
            "bin_end": 0.5,
            "count": 0
           }
          ]
         }
        },
        {
         "name": "Soil_Type3",
         "dtype": "int64",
         "stats": {
          "unique_count": 1,
          "nan_count": 0,
          "min": "0",
          "max": "0",
          "histogram": [
           {
            "bin_start": -0.5,
            "bin_end": -0.4,
            "count": 0
           },
           {
            "bin_start": -0.4,
            "bin_end": -0.3,
            "count": 0
           },
           {
            "bin_start": -0.3,
            "bin_end": -0.19999999999999996,
            "count": 0
           },
           {
            "bin_start": -0.19999999999999996,
            "bin_end": -0.09999999999999998,
            "count": 0
           },
           {
            "bin_start": -0.09999999999999998,
            "bin_end": 0,
            "count": 0
           },
           {
            "bin_start": 0,
            "bin_end": 0.10000000000000009,
            "count": 5
           },
           {
            "bin_start": 0.10000000000000009,
            "bin_end": 0.20000000000000007,
            "count": 0
           },
           {
            "bin_start": 0.20000000000000007,
            "bin_end": 0.30000000000000004,
            "count": 0
           },
           {
            "bin_start": 0.30000000000000004,
            "bin_end": 0.4,
            "count": 0
           },
           {
            "bin_start": 0.4,
            "bin_end": 0.5,
            "count": 0
           }
          ]
         }
        },
        {
         "name": "Soil_Type4",
         "dtype": "int64",
         "stats": {
          "unique_count": 1,
          "nan_count": 0,
          "min": "0",
          "max": "0",
          "histogram": [
           {
            "bin_start": -0.5,
            "bin_end": -0.4,
            "count": 0
           },
           {
            "bin_start": -0.4,
            "bin_end": -0.3,
            "count": 0
           },
           {
            "bin_start": -0.3,
            "bin_end": -0.19999999999999996,
            "count": 0
           },
           {
            "bin_start": -0.19999999999999996,
            "bin_end": -0.09999999999999998,
            "count": 0
           },
           {
            "bin_start": -0.09999999999999998,
            "bin_end": 0,
            "count": 0
           },
           {
            "bin_start": 0,
            "bin_end": 0.10000000000000009,
            "count": 5
           },
           {
            "bin_start": 0.10000000000000009,
            "bin_end": 0.20000000000000007,
            "count": 0
           },
           {
            "bin_start": 0.20000000000000007,
            "bin_end": 0.30000000000000004,
            "count": 0
           },
           {
            "bin_start": 0.30000000000000004,
            "bin_end": 0.4,
            "count": 0
           },
           {
            "bin_start": 0.4,
            "bin_end": 0.5,
            "count": 0
           }
          ]
         }
        },
        {
         "name": "Soil_Type5",
         "dtype": "int64",
         "stats": {
          "unique_count": 1,
          "nan_count": 0,
          "min": "0",
          "max": "0",
          "histogram": [
           {
            "bin_start": -0.5,
            "bin_end": -0.4,
            "count": 0
           },
           {
            "bin_start": -0.4,
            "bin_end": -0.3,
            "count": 0
           },
           {
            "bin_start": -0.3,
            "bin_end": -0.19999999999999996,
            "count": 0
           },
           {
            "bin_start": -0.19999999999999996,
            "bin_end": -0.09999999999999998,
            "count": 0
           },
           {
            "bin_start": -0.09999999999999998,
            "bin_end": 0,
            "count": 0
           },
           {
            "bin_start": 0,
            "bin_end": 0.10000000000000009,
            "count": 5
           },
           {
            "bin_start": 0.10000000000000009,
            "bin_end": 0.20000000000000007,
            "count": 0
           },
           {
            "bin_start": 0.20000000000000007,
            "bin_end": 0.30000000000000004,
            "count": 0
           },
           {
            "bin_start": 0.30000000000000004,
            "bin_end": 0.4,
            "count": 0
           },
           {
            "bin_start": 0.4,
            "bin_end": 0.5,
            "count": 0
           }
          ]
         }
        },
        {
         "name": "Soil_Type6",
         "dtype": "int64",
         "stats": {
          "unique_count": 1,
          "nan_count": 0,
          "min": "0",
          "max": "0",
          "histogram": [
           {
            "bin_start": -0.5,
            "bin_end": -0.4,
            "count": 0
           },
           {
            "bin_start": -0.4,
            "bin_end": -0.3,
            "count": 0
           },
           {
            "bin_start": -0.3,
            "bin_end": -0.19999999999999996,
            "count": 0
           },
           {
            "bin_start": -0.19999999999999996,
            "bin_end": -0.09999999999999998,
            "count": 0
           },
           {
            "bin_start": -0.09999999999999998,
            "bin_end": 0,
            "count": 0
           },
           {
            "bin_start": 0,
            "bin_end": 0.10000000000000009,
            "count": 5
           },
           {
            "bin_start": 0.10000000000000009,
            "bin_end": 0.20000000000000007,
            "count": 0
           },
           {
            "bin_start": 0.20000000000000007,
            "bin_end": 0.30000000000000004,
            "count": 0
           },
           {
            "bin_start": 0.30000000000000004,
            "bin_end": 0.4,
            "count": 0
           },
           {
            "bin_start": 0.4,
            "bin_end": 0.5,
            "count": 0
           }
          ]
         }
        },
        {
         "name": "Soil_Type7",
         "dtype": "int64",
         "stats": {
          "unique_count": 1,
          "nan_count": 0,
          "min": "0",
          "max": "0",
          "histogram": [
           {
            "bin_start": -0.5,
            "bin_end": -0.4,
            "count": 0
           },
           {
            "bin_start": -0.4,
            "bin_end": -0.3,
            "count": 0
           },
           {
            "bin_start": -0.3,
            "bin_end": -0.19999999999999996,
            "count": 0
           },
           {
            "bin_start": -0.19999999999999996,
            "bin_end": -0.09999999999999998,
            "count": 0
           },
           {
            "bin_start": -0.09999999999999998,
            "bin_end": 0,
            "count": 0
           },
           {
            "bin_start": 0,
            "bin_end": 0.10000000000000009,
            "count": 5
           },
           {
            "bin_start": 0.10000000000000009,
            "bin_end": 0.20000000000000007,
            "count": 0
           },
           {
            "bin_start": 0.20000000000000007,
            "bin_end": 0.30000000000000004,
            "count": 0
           },
           {
            "bin_start": 0.30000000000000004,
            "bin_end": 0.4,
            "count": 0
           },
           {
            "bin_start": 0.4,
            "bin_end": 0.5,
            "count": 0
           }
          ]
         }
        },
        {
         "name": "Soil_Type8",
         "dtype": "int64",
         "stats": {
          "unique_count": 1,
          "nan_count": 0,
          "min": "0",
          "max": "0",
          "histogram": [
           {
            "bin_start": -0.5,
            "bin_end": -0.4,
            "count": 0
           },
           {
            "bin_start": -0.4,
            "bin_end": -0.3,
            "count": 0
           },
           {
            "bin_start": -0.3,
            "bin_end": -0.19999999999999996,
            "count": 0
           },
           {
            "bin_start": -0.19999999999999996,
            "bin_end": -0.09999999999999998,
            "count": 0
           },
           {
            "bin_start": -0.09999999999999998,
            "bin_end": 0,
            "count": 0
           },
           {
            "bin_start": 0,
            "bin_end": 0.10000000000000009,
            "count": 5
           },
           {
            "bin_start": 0.10000000000000009,
            "bin_end": 0.20000000000000007,
            "count": 0
           },
           {
            "bin_start": 0.20000000000000007,
            "bin_end": 0.30000000000000004,
            "count": 0
           },
           {
            "bin_start": 0.30000000000000004,
            "bin_end": 0.4,
            "count": 0
           },
           {
            "bin_start": 0.4,
            "bin_end": 0.5,
            "count": 0
           }
          ]
         }
        },
        {
         "name": "Soil_Type9",
         "dtype": "int64",
         "stats": {
          "unique_count": 1,
          "nan_count": 0,
          "min": "0",
          "max": "0",
          "histogram": [
           {
            "bin_start": -0.5,
            "bin_end": -0.4,
            "count": 0
           },
           {
            "bin_start": -0.4,
            "bin_end": -0.3,
            "count": 0
           },
           {
            "bin_start": -0.3,
            "bin_end": -0.19999999999999996,
            "count": 0
           },
           {
            "bin_start": -0.19999999999999996,
            "bin_end": -0.09999999999999998,
            "count": 0
           },
           {
            "bin_start": -0.09999999999999998,
            "bin_end": 0,
            "count": 0
           },
           {
            "bin_start": 0,
            "bin_end": 0.10000000000000009,
            "count": 5
           },
           {
            "bin_start": 0.10000000000000009,
            "bin_end": 0.20000000000000007,
            "count": 0
           },
           {
            "bin_start": 0.20000000000000007,
            "bin_end": 0.30000000000000004,
            "count": 0
           },
           {
            "bin_start": 0.30000000000000004,
            "bin_end": 0.4,
            "count": 0
           },
           {
            "bin_start": 0.4,
            "bin_end": 0.5,
            "count": 0
           }
          ]
         }
        },
        {
         "name": "Soil_Type10",
         "dtype": "int64",
         "stats": {
          "unique_count": 1,
          "nan_count": 0,
          "min": "0",
          "max": "0",
          "histogram": [
           {
            "bin_start": -0.5,
            "bin_end": -0.4,
            "count": 0
           },
           {
            "bin_start": -0.4,
            "bin_end": -0.3,
            "count": 0
           },
           {
            "bin_start": -0.3,
            "bin_end": -0.19999999999999996,
            "count": 0
           },
           {
            "bin_start": -0.19999999999999996,
            "bin_end": -0.09999999999999998,
            "count": 0
           },
           {
            "bin_start": -0.09999999999999998,
            "bin_end": 0,
            "count": 0
           },
           {
            "bin_start": 0,
            "bin_end": 0.10000000000000009,
            "count": 5
           },
           {
            "bin_start": 0.10000000000000009,
            "bin_end": 0.20000000000000007,
            "count": 0
           },
           {
            "bin_start": 0.20000000000000007,
            "bin_end": 0.30000000000000004,
            "count": 0
           },
           {
            "bin_start": 0.30000000000000004,
            "bin_end": 0.4,
            "count": 0
           },
           {
            "bin_start": 0.4,
            "bin_end": 0.5,
            "count": 0
           }
          ]
         }
        },
        {
         "name": "Soil_Type11",
         "dtype": "int64",
         "stats": {
          "unique_count": 1,
          "nan_count": 0,
          "min": "0",
          "max": "0",
          "histogram": [
           {
            "bin_start": -0.5,
            "bin_end": -0.4,
            "count": 0
           },
           {
            "bin_start": -0.4,
            "bin_end": -0.3,
            "count": 0
           },
           {
            "bin_start": -0.3,
            "bin_end": -0.19999999999999996,
            "count": 0
           },
           {
            "bin_start": -0.19999999999999996,
            "bin_end": -0.09999999999999998,
            "count": 0
           },
           {
            "bin_start": -0.09999999999999998,
            "bin_end": 0,
            "count": 0
           },
           {
            "bin_start": 0,
            "bin_end": 0.10000000000000009,
            "count": 5
           },
           {
            "bin_start": 0.10000000000000009,
            "bin_end": 0.20000000000000007,
            "count": 0
           },
           {
            "bin_start": 0.20000000000000007,
            "bin_end": 0.30000000000000004,
            "count": 0
           },
           {
            "bin_start": 0.30000000000000004,
            "bin_end": 0.4,
            "count": 0
           },
           {
            "bin_start": 0.4,
            "bin_end": 0.5,
            "count": 0
           }
          ]
         }
        },
        {
         "name": "Soil_Type12",
         "dtype": "int64",
         "stats": {
          "unique_count": 2,
          "nan_count": 0,
          "min": "0",
          "max": "1",
          "histogram": [
           {
            "bin_start": 0,
            "bin_end": 0.1,
            "count": 4
           },
           {
            "bin_start": 0.1,
            "bin_end": 0.2,
            "count": 0
           },
           {
            "bin_start": 0.2,
            "bin_end": 0.30000000000000004,
            "count": 0
           },
           {
            "bin_start": 0.30000000000000004,
            "bin_end": 0.4,
            "count": 0
           },
           {
            "bin_start": 0.4,
            "bin_end": 0.5,
            "count": 0
           },
           {
            "bin_start": 0.5,
            "bin_end": 0.6000000000000001,
            "count": 0
           },
           {
            "bin_start": 0.6000000000000001,
            "bin_end": 0.7000000000000001,
            "count": 0
           },
           {
            "bin_start": 0.7000000000000001,
            "bin_end": 0.8,
            "count": 0
           },
           {
            "bin_start": 0.8,
            "bin_end": 0.9,
            "count": 0
           },
           {
            "bin_start": 0.9,
            "bin_end": 1,
            "count": 1
           }
          ]
         }
        },
        {
         "name": "Soil_Type13",
         "dtype": "int64",
         "stats": {
          "unique_count": 1,
          "nan_count": 0,
          "min": "0",
          "max": "0",
          "histogram": [
           {
            "bin_start": -0.5,
            "bin_end": -0.4,
            "count": 0
           },
           {
            "bin_start": -0.4,
            "bin_end": -0.3,
            "count": 0
           },
           {
            "bin_start": -0.3,
            "bin_end": -0.19999999999999996,
            "count": 0
           },
           {
            "bin_start": -0.19999999999999996,
            "bin_end": -0.09999999999999998,
            "count": 0
           },
           {
            "bin_start": -0.09999999999999998,
            "bin_end": 0,
            "count": 0
           },
           {
            "bin_start": 0,
            "bin_end": 0.10000000000000009,
            "count": 5
           },
           {
            "bin_start": 0.10000000000000009,
            "bin_end": 0.20000000000000007,
            "count": 0
           },
           {
            "bin_start": 0.20000000000000007,
            "bin_end": 0.30000000000000004,
            "count": 0
           },
           {
            "bin_start": 0.30000000000000004,
            "bin_end": 0.4,
            "count": 0
           },
           {
            "bin_start": 0.4,
            "bin_end": 0.5,
            "count": 0
           }
          ]
         }
        },
        {
         "name": "Soil_Type14",
         "dtype": "int64",
         "stats": {
          "unique_count": 1,
          "nan_count": 0,
          "min": "0",
          "max": "0",
          "histogram": [
           {
            "bin_start": -0.5,
            "bin_end": -0.4,
            "count": 0
           },
           {
            "bin_start": -0.4,
            "bin_end": -0.3,
            "count": 0
           },
           {
            "bin_start": -0.3,
            "bin_end": -0.19999999999999996,
            "count": 0
           },
           {
            "bin_start": -0.19999999999999996,
            "bin_end": -0.09999999999999998,
            "count": 0
           },
           {
            "bin_start": -0.09999999999999998,
            "bin_end": 0,
            "count": 0
           },
           {
            "bin_start": 0,
            "bin_end": 0.10000000000000009,
            "count": 5
           },
           {
            "bin_start": 0.10000000000000009,
            "bin_end": 0.20000000000000007,
            "count": 0
           },
           {
            "bin_start": 0.20000000000000007,
            "bin_end": 0.30000000000000004,
            "count": 0
           },
           {
            "bin_start": 0.30000000000000004,
            "bin_end": 0.4,
            "count": 0
           },
           {
            "bin_start": 0.4,
            "bin_end": 0.5,
            "count": 0
           }
          ]
         }
        },
        {
         "name": "Soil_Type15",
         "dtype": "int64",
         "stats": {
          "unique_count": 1,
          "nan_count": 0,
          "min": "0",
          "max": "0",
          "histogram": [
           {
            "bin_start": -0.5,
            "bin_end": -0.4,
            "count": 0
           },
           {
            "bin_start": -0.4,
            "bin_end": -0.3,
            "count": 0
           },
           {
            "bin_start": -0.3,
            "bin_end": -0.19999999999999996,
            "count": 0
           },
           {
            "bin_start": -0.19999999999999996,
            "bin_end": -0.09999999999999998,
            "count": 0
           },
           {
            "bin_start": -0.09999999999999998,
            "bin_end": 0,
            "count": 0
           },
           {
            "bin_start": 0,
            "bin_end": 0.10000000000000009,
            "count": 5
           },
           {
            "bin_start": 0.10000000000000009,
            "bin_end": 0.20000000000000007,
            "count": 0
           },
           {
            "bin_start": 0.20000000000000007,
            "bin_end": 0.30000000000000004,
            "count": 0
           },
           {
            "bin_start": 0.30000000000000004,
            "bin_end": 0.4,
            "count": 0
           },
           {
            "bin_start": 0.4,
            "bin_end": 0.5,
            "count": 0
           }
          ]
         }
        },
        {
         "name": "Soil_Type16",
         "dtype": "int64",
         "stats": {
          "unique_count": 1,
          "nan_count": 0,
          "min": "0",
          "max": "0",
          "histogram": [
           {
            "bin_start": -0.5,
            "bin_end": -0.4,
            "count": 0
           },
           {
            "bin_start": -0.4,
            "bin_end": -0.3,
            "count": 0
           },
           {
            "bin_start": -0.3,
            "bin_end": -0.19999999999999996,
            "count": 0
           },
           {
            "bin_start": -0.19999999999999996,
            "bin_end": -0.09999999999999998,
            "count": 0
           },
           {
            "bin_start": -0.09999999999999998,
            "bin_end": 0,
            "count": 0
           },
           {
            "bin_start": 0,
            "bin_end": 0.10000000000000009,
            "count": 5
           },
           {
            "bin_start": 0.10000000000000009,
            "bin_end": 0.20000000000000007,
            "count": 0
           },
           {
            "bin_start": 0.20000000000000007,
            "bin_end": 0.30000000000000004,
            "count": 0
           },
           {
            "bin_start": 0.30000000000000004,
            "bin_end": 0.4,
            "count": 0
           },
           {
            "bin_start": 0.4,
            "bin_end": 0.5,
            "count": 0
           }
          ]
         }
        },
        {
         "name": "Soil_Type17",
         "dtype": "int64",
         "stats": {
          "unique_count": 1,
          "nan_count": 0,
          "min": "0",
          "max": "0",
          "histogram": [
           {
            "bin_start": -0.5,
            "bin_end": -0.4,
            "count": 0
           },
           {
            "bin_start": -0.4,
            "bin_end": -0.3,
            "count": 0
           },
           {
            "bin_start": -0.3,
            "bin_end": -0.19999999999999996,
            "count": 0
           },
           {
            "bin_start": -0.19999999999999996,
            "bin_end": -0.09999999999999998,
            "count": 0
           },
           {
            "bin_start": -0.09999999999999998,
            "bin_end": 0,
            "count": 0
           },
           {
            "bin_start": 0,
            "bin_end": 0.10000000000000009,
            "count": 5
           },
           {
            "bin_start": 0.10000000000000009,
            "bin_end": 0.20000000000000007,
            "count": 0
           },
           {
            "bin_start": 0.20000000000000007,
            "bin_end": 0.30000000000000004,
            "count": 0
           },
           {
            "bin_start": 0.30000000000000004,
            "bin_end": 0.4,
            "count": 0
           },
           {
            "bin_start": 0.4,
            "bin_end": 0.5,
            "count": 0
           }
          ]
         }
        },
        {
         "name": "Soil_Type18",
         "dtype": "int64",
         "stats": {
          "unique_count": 1,
          "nan_count": 0,
          "min": "0",
          "max": "0",
          "histogram": [
           {
            "bin_start": -0.5,
            "bin_end": -0.4,
            "count": 0
           },
           {
            "bin_start": -0.4,
            "bin_end": -0.3,
            "count": 0
           },
           {
            "bin_start": -0.3,
            "bin_end": -0.19999999999999996,
            "count": 0
           },
           {
            "bin_start": -0.19999999999999996,
            "bin_end": -0.09999999999999998,
            "count": 0
           },
           {
            "bin_start": -0.09999999999999998,
            "bin_end": 0,
            "count": 0
           },
           {
            "bin_start": 0,
            "bin_end": 0.10000000000000009,
            "count": 5
           },
           {
            "bin_start": 0.10000000000000009,
            "bin_end": 0.20000000000000007,
            "count": 0
           },
           {
            "bin_start": 0.20000000000000007,
            "bin_end": 0.30000000000000004,
            "count": 0
           },
           {
            "bin_start": 0.30000000000000004,
            "bin_end": 0.4,
            "count": 0
           },
           {
            "bin_start": 0.4,
            "bin_end": 0.5,
            "count": 0
           }
          ]
         }
        },
        {
         "name": "Soil_Type19",
         "dtype": "int64",
         "stats": {
          "unique_count": 1,
          "nan_count": 0,
          "min": "0",
          "max": "0",
          "histogram": [
           {
            "bin_start": -0.5,
            "bin_end": -0.4,
            "count": 0
           },
           {
            "bin_start": -0.4,
            "bin_end": -0.3,
            "count": 0
           },
           {
            "bin_start": -0.3,
            "bin_end": -0.19999999999999996,
            "count": 0
           },
           {
            "bin_start": -0.19999999999999996,
            "bin_end": -0.09999999999999998,
            "count": 0
           },
           {
            "bin_start": -0.09999999999999998,
            "bin_end": 0,
            "count": 0
           },
           {
            "bin_start": 0,
            "bin_end": 0.10000000000000009,
            "count": 5
           },
           {
            "bin_start": 0.10000000000000009,
            "bin_end": 0.20000000000000007,
            "count": 0
           },
           {
            "bin_start": 0.20000000000000007,
            "bin_end": 0.30000000000000004,
            "count": 0
           },
           {
            "bin_start": 0.30000000000000004,
            "bin_end": 0.4,
            "count": 0
           },
           {
            "bin_start": 0.4,
            "bin_end": 0.5,
            "count": 0
           }
          ]
         }
        },
        {
         "name": "Soil_Type20",
         "dtype": "int64",
         "stats": {
          "unique_count": 1,
          "nan_count": 0,
          "min": "0",
          "max": "0",
          "histogram": [
           {
            "bin_start": -0.5,
            "bin_end": -0.4,
            "count": 0
           },
           {
            "bin_start": -0.4,
            "bin_end": -0.3,
            "count": 0
           },
           {
            "bin_start": -0.3,
            "bin_end": -0.19999999999999996,
            "count": 0
           },
           {
            "bin_start": -0.19999999999999996,
            "bin_end": -0.09999999999999998,
            "count": 0
           },
           {
            "bin_start": -0.09999999999999998,
            "bin_end": 0,
            "count": 0
           },
           {
            "bin_start": 0,
            "bin_end": 0.10000000000000009,
            "count": 5
           },
           {
            "bin_start": 0.10000000000000009,
            "bin_end": 0.20000000000000007,
            "count": 0
           },
           {
            "bin_start": 0.20000000000000007,
            "bin_end": 0.30000000000000004,
            "count": 0
           },
           {
            "bin_start": 0.30000000000000004,
            "bin_end": 0.4,
            "count": 0
           },
           {
            "bin_start": 0.4,
            "bin_end": 0.5,
            "count": 0
           }
          ]
         }
        },
        {
         "name": "Soil_Type21",
         "dtype": "int64",
         "stats": {
          "unique_count": 1,
          "nan_count": 0,
          "min": "0",
          "max": "0",
          "histogram": [
           {
            "bin_start": -0.5,
            "bin_end": -0.4,
            "count": 0
           },
           {
            "bin_start": -0.4,
            "bin_end": -0.3,
            "count": 0
           },
           {
            "bin_start": -0.3,
            "bin_end": -0.19999999999999996,
            "count": 0
           },
           {
            "bin_start": -0.19999999999999996,
            "bin_end": -0.09999999999999998,
            "count": 0
           },
           {
            "bin_start": -0.09999999999999998,
            "bin_end": 0,
            "count": 0
           },
           {
            "bin_start": 0,
            "bin_end": 0.10000000000000009,
            "count": 5
           },
           {
            "bin_start": 0.10000000000000009,
            "bin_end": 0.20000000000000007,
            "count": 0
           },
           {
            "bin_start": 0.20000000000000007,
            "bin_end": 0.30000000000000004,
            "count": 0
           },
           {
            "bin_start": 0.30000000000000004,
            "bin_end": 0.4,
            "count": 0
           },
           {
            "bin_start": 0.4,
            "bin_end": 0.5,
            "count": 0
           }
          ]
         }
        },
        {
         "name": "Soil_Type22",
         "dtype": "int64",
         "stats": {
          "unique_count": 1,
          "nan_count": 0,
          "min": "0",
          "max": "0",
          "histogram": [
           {
            "bin_start": -0.5,
            "bin_end": -0.4,
            "count": 0
           },
           {
            "bin_start": -0.4,
            "bin_end": -0.3,
            "count": 0
           },
           {
            "bin_start": -0.3,
            "bin_end": -0.19999999999999996,
            "count": 0
           },
           {
            "bin_start": -0.19999999999999996,
            "bin_end": -0.09999999999999998,
            "count": 0
           },
           {
            "bin_start": -0.09999999999999998,
            "bin_end": 0,
            "count": 0
           },
           {
            "bin_start": 0,
            "bin_end": 0.10000000000000009,
            "count": 5
           },
           {
            "bin_start": 0.10000000000000009,
            "bin_end": 0.20000000000000007,
            "count": 0
           },
           {
            "bin_start": 0.20000000000000007,
            "bin_end": 0.30000000000000004,
            "count": 0
           },
           {
            "bin_start": 0.30000000000000004,
            "bin_end": 0.4,
            "count": 0
           },
           {
            "bin_start": 0.4,
            "bin_end": 0.5,
            "count": 0
           }
          ]
         }
        },
        {
         "name": "Soil_Type23",
         "dtype": "int64",
         "stats": {
          "unique_count": 1,
          "nan_count": 0,
          "min": "0",
          "max": "0",
          "histogram": [
           {
            "bin_start": -0.5,
            "bin_end": -0.4,
            "count": 0
           },
           {
            "bin_start": -0.4,
            "bin_end": -0.3,
            "count": 0
           },
           {
            "bin_start": -0.3,
            "bin_end": -0.19999999999999996,
            "count": 0
           },
           {
            "bin_start": -0.19999999999999996,
            "bin_end": -0.09999999999999998,
            "count": 0
           },
           {
            "bin_start": -0.09999999999999998,
            "bin_end": 0,
            "count": 0
           },
           {
            "bin_start": 0,
            "bin_end": 0.10000000000000009,
            "count": 5
           },
           {
            "bin_start": 0.10000000000000009,
            "bin_end": 0.20000000000000007,
            "count": 0
           },
           {
            "bin_start": 0.20000000000000007,
            "bin_end": 0.30000000000000004,
            "count": 0
           },
           {
            "bin_start": 0.30000000000000004,
            "bin_end": 0.4,
            "count": 0
           },
           {
            "bin_start": 0.4,
            "bin_end": 0.5,
            "count": 0
           }
          ]
         }
        },
        {
         "name": "Soil_Type24",
         "dtype": "int64",
         "stats": {
          "unique_count": 1,
          "nan_count": 0,
          "min": "0",
          "max": "0",
          "histogram": [
           {
            "bin_start": -0.5,
            "bin_end": -0.4,
            "count": 0
           },
           {
            "bin_start": -0.4,
            "bin_end": -0.3,
            "count": 0
           },
           {
            "bin_start": -0.3,
            "bin_end": -0.19999999999999996,
            "count": 0
           },
           {
            "bin_start": -0.19999999999999996,
            "bin_end": -0.09999999999999998,
            "count": 0
           },
           {
            "bin_start": -0.09999999999999998,
            "bin_end": 0,
            "count": 0
           },
           {
            "bin_start": 0,
            "bin_end": 0.10000000000000009,
            "count": 5
           },
           {
            "bin_start": 0.10000000000000009,
            "bin_end": 0.20000000000000007,
            "count": 0
           },
           {
            "bin_start": 0.20000000000000007,
            "bin_end": 0.30000000000000004,
            "count": 0
           },
           {
            "bin_start": 0.30000000000000004,
            "bin_end": 0.4,
            "count": 0
           },
           {
            "bin_start": 0.4,
            "bin_end": 0.5,
            "count": 0
           }
          ]
         }
        },
        {
         "name": "Soil_Type25",
         "dtype": "int64",
         "stats": {
          "unique_count": 1,
          "nan_count": 0,
          "min": "0",
          "max": "0",
          "histogram": [
           {
            "bin_start": -0.5,
            "bin_end": -0.4,
            "count": 0
           },
           {
            "bin_start": -0.4,
            "bin_end": -0.3,
            "count": 0
           },
           {
            "bin_start": -0.3,
            "bin_end": -0.19999999999999996,
            "count": 0
           },
           {
            "bin_start": -0.19999999999999996,
            "bin_end": -0.09999999999999998,
            "count": 0
           },
           {
            "bin_start": -0.09999999999999998,
            "bin_end": 0,
            "count": 0
           },
           {
            "bin_start": 0,
            "bin_end": 0.10000000000000009,
            "count": 5
           },
           {
            "bin_start": 0.10000000000000009,
            "bin_end": 0.20000000000000007,
            "count": 0
           },
           {
            "bin_start": 0.20000000000000007,
            "bin_end": 0.30000000000000004,
            "count": 0
           },
           {
            "bin_start": 0.30000000000000004,
            "bin_end": 0.4,
            "count": 0
           },
           {
            "bin_start": 0.4,
            "bin_end": 0.5,
            "count": 0
           }
          ]
         }
        },
        {
         "name": "Soil_Type26",
         "dtype": "int64",
         "stats": {
          "unique_count": 1,
          "nan_count": 0,
          "min": "0",
          "max": "0",
          "histogram": [
           {
            "bin_start": -0.5,
            "bin_end": -0.4,
            "count": 0
           },
           {
            "bin_start": -0.4,
            "bin_end": -0.3,
            "count": 0
           },
           {
            "bin_start": -0.3,
            "bin_end": -0.19999999999999996,
            "count": 0
           },
           {
            "bin_start": -0.19999999999999996,
            "bin_end": -0.09999999999999998,
            "count": 0
           },
           {
            "bin_start": -0.09999999999999998,
            "bin_end": 0,
            "count": 0
           },
           {
            "bin_start": 0,
            "bin_end": 0.10000000000000009,
            "count": 5
           },
           {
            "bin_start": 0.10000000000000009,
            "bin_end": 0.20000000000000007,
            "count": 0
           },
           {
            "bin_start": 0.20000000000000007,
            "bin_end": 0.30000000000000004,
            "count": 0
           },
           {
            "bin_start": 0.30000000000000004,
            "bin_end": 0.4,
            "count": 0
           },
           {
            "bin_start": 0.4,
            "bin_end": 0.5,
            "count": 0
           }
          ]
         }
        },
        {
         "name": "Soil_Type27",
         "dtype": "int64",
         "stats": {
          "unique_count": 1,
          "nan_count": 0,
          "min": "0",
          "max": "0",
          "histogram": [
           {
            "bin_start": -0.5,
            "bin_end": -0.4,
            "count": 0
           },
           {
            "bin_start": -0.4,
            "bin_end": -0.3,
            "count": 0
           },
           {
            "bin_start": -0.3,
            "bin_end": -0.19999999999999996,
            "count": 0
           },
           {
            "bin_start": -0.19999999999999996,
            "bin_end": -0.09999999999999998,
            "count": 0
           },
           {
            "bin_start": -0.09999999999999998,
            "bin_end": 0,
            "count": 0
           },
           {
            "bin_start": 0,
            "bin_end": 0.10000000000000009,
            "count": 5
           },
           {
            "bin_start": 0.10000000000000009,
            "bin_end": 0.20000000000000007,
            "count": 0
           },
           {
            "bin_start": 0.20000000000000007,
            "bin_end": 0.30000000000000004,
            "count": 0
           },
           {
            "bin_start": 0.30000000000000004,
            "bin_end": 0.4,
            "count": 0
           },
           {
            "bin_start": 0.4,
            "bin_end": 0.5,
            "count": 0
           }
          ]
         }
        },
        {
         "name": "Soil_Type28",
         "dtype": "int64",
         "stats": {
          "unique_count": 1,
          "nan_count": 0,
          "min": "0",
          "max": "0",
          "histogram": [
           {
            "bin_start": -0.5,
            "bin_end": -0.4,
            "count": 0
           },
           {
            "bin_start": -0.4,
            "bin_end": -0.3,
            "count": 0
           },
           {
            "bin_start": -0.3,
            "bin_end": -0.19999999999999996,
            "count": 0
           },
           {
            "bin_start": -0.19999999999999996,
            "bin_end": -0.09999999999999998,
            "count": 0
           },
           {
            "bin_start": -0.09999999999999998,
            "bin_end": 0,
            "count": 0
           },
           {
            "bin_start": 0,
            "bin_end": 0.10000000000000009,
            "count": 5
           },
           {
            "bin_start": 0.10000000000000009,
            "bin_end": 0.20000000000000007,
            "count": 0
           },
           {
            "bin_start": 0.20000000000000007,
            "bin_end": 0.30000000000000004,
            "count": 0
           },
           {
            "bin_start": 0.30000000000000004,
            "bin_end": 0.4,
            "count": 0
           },
           {
            "bin_start": 0.4,
            "bin_end": 0.5,
            "count": 0
           }
          ]
         }
        },
        {
         "name": "Soil_Type29",
         "dtype": "int64",
         "stats": {
          "unique_count": 2,
          "nan_count": 0,
          "min": "0",
          "max": "1",
          "histogram": [
           {
            "bin_start": 0,
            "bin_end": 0.1,
            "count": 2
           },
           {
            "bin_start": 0.1,
            "bin_end": 0.2,
            "count": 0
           },
           {
            "bin_start": 0.2,
            "bin_end": 0.30000000000000004,
            "count": 0
           },
           {
            "bin_start": 0.30000000000000004,
            "bin_end": 0.4,
            "count": 0
           },
           {
            "bin_start": 0.4,
            "bin_end": 0.5,
            "count": 0
           },
           {
            "bin_start": 0.5,
            "bin_end": 0.6000000000000001,
            "count": 0
           },
           {
            "bin_start": 0.6000000000000001,
            "bin_end": 0.7000000000000001,
            "count": 0
           },
           {
            "bin_start": 0.7000000000000001,
            "bin_end": 0.8,
            "count": 0
           },
           {
            "bin_start": 0.8,
            "bin_end": 0.9,
            "count": 0
           },
           {
            "bin_start": 0.9,
            "bin_end": 1,
            "count": 3
           }
          ]
         }
        },
        {
         "name": "Soil_Type30",
         "dtype": "int64",
         "stats": {
          "unique_count": 2,
          "nan_count": 0,
          "min": "0",
          "max": "1",
          "histogram": [
           {
            "bin_start": 0,
            "bin_end": 0.1,
            "count": 4
           },
           {
            "bin_start": 0.1,
            "bin_end": 0.2,
            "count": 0
           },
           {
            "bin_start": 0.2,
            "bin_end": 0.30000000000000004,
            "count": 0
           },
           {
            "bin_start": 0.30000000000000004,
            "bin_end": 0.4,
            "count": 0
           },
           {
            "bin_start": 0.4,
            "bin_end": 0.5,
            "count": 0
           },
           {
            "bin_start": 0.5,
            "bin_end": 0.6000000000000001,
            "count": 0
           },
           {
            "bin_start": 0.6000000000000001,
            "bin_end": 0.7000000000000001,
            "count": 0
           },
           {
            "bin_start": 0.7000000000000001,
            "bin_end": 0.8,
            "count": 0
           },
           {
            "bin_start": 0.8,
            "bin_end": 0.9,
            "count": 0
           },
           {
            "bin_start": 0.9,
            "bin_end": 1,
            "count": 1
           }
          ]
         }
        },
        {
         "name": "Soil_Type31",
         "dtype": "int64",
         "stats": {
          "unique_count": 1,
          "nan_count": 0,
          "min": "0",
          "max": "0",
          "histogram": [
           {
            "bin_start": -0.5,
            "bin_end": -0.4,
            "count": 0
           },
           {
            "bin_start": -0.4,
            "bin_end": -0.3,
            "count": 0
           },
           {
            "bin_start": -0.3,
            "bin_end": -0.19999999999999996,
            "count": 0
           },
           {
            "bin_start": -0.19999999999999996,
            "bin_end": -0.09999999999999998,
            "count": 0
           },
           {
            "bin_start": -0.09999999999999998,
            "bin_end": 0,
            "count": 0
           },
           {
            "bin_start": 0,
            "bin_end": 0.10000000000000009,
            "count": 5
           },
           {
            "bin_start": 0.10000000000000009,
            "bin_end": 0.20000000000000007,
            "count": 0
           },
           {
            "bin_start": 0.20000000000000007,
            "bin_end": 0.30000000000000004,
            "count": 0
           },
           {
            "bin_start": 0.30000000000000004,
            "bin_end": 0.4,
            "count": 0
           },
           {
            "bin_start": 0.4,
            "bin_end": 0.5,
            "count": 0
           }
          ]
         }
        },
        {
         "name": "Soil_Type32",
         "dtype": "int64",
         "stats": {
          "unique_count": 1,
          "nan_count": 0,
          "min": "0",
          "max": "0",
          "histogram": [
           {
            "bin_start": -0.5,
            "bin_end": -0.4,
            "count": 0
           },
           {
            "bin_start": -0.4,
            "bin_end": -0.3,
            "count": 0
           },
           {
            "bin_start": -0.3,
            "bin_end": -0.19999999999999996,
            "count": 0
           },
           {
            "bin_start": -0.19999999999999996,
            "bin_end": -0.09999999999999998,
            "count": 0
           },
           {
            "bin_start": -0.09999999999999998,
            "bin_end": 0,
            "count": 0
           },
           {
            "bin_start": 0,
            "bin_end": 0.10000000000000009,
            "count": 5
           },
           {
            "bin_start": 0.10000000000000009,
            "bin_end": 0.20000000000000007,
            "count": 0
           },
           {
            "bin_start": 0.20000000000000007,
            "bin_end": 0.30000000000000004,
            "count": 0
           },
           {
            "bin_start": 0.30000000000000004,
            "bin_end": 0.4,
            "count": 0
           },
           {
            "bin_start": 0.4,
            "bin_end": 0.5,
            "count": 0
           }
          ]
         }
        },
        {
         "name": "Soil_Type33",
         "dtype": "int64",
         "stats": {
          "unique_count": 1,
          "nan_count": 0,
          "min": "0",
          "max": "0",
          "histogram": [
           {
            "bin_start": -0.5,
            "bin_end": -0.4,
            "count": 0
           },
           {
            "bin_start": -0.4,
            "bin_end": -0.3,
            "count": 0
           },
           {
            "bin_start": -0.3,
            "bin_end": -0.19999999999999996,
            "count": 0
           },
           {
            "bin_start": -0.19999999999999996,
            "bin_end": -0.09999999999999998,
            "count": 0
           },
           {
            "bin_start": -0.09999999999999998,
            "bin_end": 0,
            "count": 0
           },
           {
            "bin_start": 0,
            "bin_end": 0.10000000000000009,
            "count": 5
           },
           {
            "bin_start": 0.10000000000000009,
            "bin_end": 0.20000000000000007,
            "count": 0
           },
           {
            "bin_start": 0.20000000000000007,
            "bin_end": 0.30000000000000004,
            "count": 0
           },
           {
            "bin_start": 0.30000000000000004,
            "bin_end": 0.4,
            "count": 0
           },
           {
            "bin_start": 0.4,
            "bin_end": 0.5,
            "count": 0
           }
          ]
         }
        },
        {
         "name": "Soil_Type34",
         "dtype": "int64",
         "stats": {
          "unique_count": 1,
          "nan_count": 0,
          "min": "0",
          "max": "0",
          "histogram": [
           {
            "bin_start": -0.5,
            "bin_end": -0.4,
            "count": 0
           },
           {
            "bin_start": -0.4,
            "bin_end": -0.3,
            "count": 0
           },
           {
            "bin_start": -0.3,
            "bin_end": -0.19999999999999996,
            "count": 0
           },
           {
            "bin_start": -0.19999999999999996,
            "bin_end": -0.09999999999999998,
            "count": 0
           },
           {
            "bin_start": -0.09999999999999998,
            "bin_end": 0,
            "count": 0
           },
           {
            "bin_start": 0,
            "bin_end": 0.10000000000000009,
            "count": 5
           },
           {
            "bin_start": 0.10000000000000009,
            "bin_end": 0.20000000000000007,
            "count": 0
           },
           {
            "bin_start": 0.20000000000000007,
            "bin_end": 0.30000000000000004,
            "count": 0
           },
           {
            "bin_start": 0.30000000000000004,
            "bin_end": 0.4,
            "count": 0
           },
           {
            "bin_start": 0.4,
            "bin_end": 0.5,
            "count": 0
           }
          ]
         }
        },
        {
         "name": "Soil_Type35",
         "dtype": "int64",
         "stats": {
          "unique_count": 1,
          "nan_count": 0,
          "min": "0",
          "max": "0",
          "histogram": [
           {
            "bin_start": -0.5,
            "bin_end": -0.4,
            "count": 0
           },
           {
            "bin_start": -0.4,
            "bin_end": -0.3,
            "count": 0
           },
           {
            "bin_start": -0.3,
            "bin_end": -0.19999999999999996,
            "count": 0
           },
           {
            "bin_start": -0.19999999999999996,
            "bin_end": -0.09999999999999998,
            "count": 0
           },
           {
            "bin_start": -0.09999999999999998,
            "bin_end": 0,
            "count": 0
           },
           {
            "bin_start": 0,
            "bin_end": 0.10000000000000009,
            "count": 5
           },
           {
            "bin_start": 0.10000000000000009,
            "bin_end": 0.20000000000000007,
            "count": 0
           },
           {
            "bin_start": 0.20000000000000007,
            "bin_end": 0.30000000000000004,
            "count": 0
           },
           {
            "bin_start": 0.30000000000000004,
            "bin_end": 0.4,
            "count": 0
           },
           {
            "bin_start": 0.4,
            "bin_end": 0.5,
            "count": 0
           }
          ]
         }
        },
        {
         "name": "Soil_Type36",
         "dtype": "int64",
         "stats": {
          "unique_count": 1,
          "nan_count": 0,
          "min": "0",
          "max": "0",
          "histogram": [
           {
            "bin_start": -0.5,
            "bin_end": -0.4,
            "count": 0
           },
           {
            "bin_start": -0.4,
            "bin_end": -0.3,
            "count": 0
           },
           {
            "bin_start": -0.3,
            "bin_end": -0.19999999999999996,
            "count": 0
           },
           {
            "bin_start": -0.19999999999999996,
            "bin_end": -0.09999999999999998,
            "count": 0
           },
           {
            "bin_start": -0.09999999999999998,
            "bin_end": 0,
            "count": 0
           },
           {
            "bin_start": 0,
            "bin_end": 0.10000000000000009,
            "count": 5
           },
           {
            "bin_start": 0.10000000000000009,
            "bin_end": 0.20000000000000007,
            "count": 0
           },
           {
            "bin_start": 0.20000000000000007,
            "bin_end": 0.30000000000000004,
            "count": 0
           },
           {
            "bin_start": 0.30000000000000004,
            "bin_end": 0.4,
            "count": 0
           },
           {
            "bin_start": 0.4,
            "bin_end": 0.5,
            "count": 0
           }
          ]
         }
        },
        {
         "name": "Soil_Type37",
         "dtype": "int64",
         "stats": {
          "unique_count": 1,
          "nan_count": 0,
          "min": "0",
          "max": "0",
          "histogram": [
           {
            "bin_start": -0.5,
            "bin_end": -0.4,
            "count": 0
           },
           {
            "bin_start": -0.4,
            "bin_end": -0.3,
            "count": 0
           },
           {
            "bin_start": -0.3,
            "bin_end": -0.19999999999999996,
            "count": 0
           },
           {
            "bin_start": -0.19999999999999996,
            "bin_end": -0.09999999999999998,
            "count": 0
           },
           {
            "bin_start": -0.09999999999999998,
            "bin_end": 0,
            "count": 0
           },
           {
            "bin_start": 0,
            "bin_end": 0.10000000000000009,
            "count": 5
           },
           {
            "bin_start": 0.10000000000000009,
            "bin_end": 0.20000000000000007,
            "count": 0
           },
           {
            "bin_start": 0.20000000000000007,
            "bin_end": 0.30000000000000004,
            "count": 0
           },
           {
            "bin_start": 0.30000000000000004,
            "bin_end": 0.4,
            "count": 0
           },
           {
            "bin_start": 0.4,
            "bin_end": 0.5,
            "count": 0
           }
          ]
         }
        },
        {
         "name": "Soil_Type38",
         "dtype": "int64",
         "stats": {
          "unique_count": 1,
          "nan_count": 0,
          "min": "0",
          "max": "0",
          "histogram": [
           {
            "bin_start": -0.5,
            "bin_end": -0.4,
            "count": 0
           },
           {
            "bin_start": -0.4,
            "bin_end": -0.3,
            "count": 0
           },
           {
            "bin_start": -0.3,
            "bin_end": -0.19999999999999996,
            "count": 0
           },
           {
            "bin_start": -0.19999999999999996,
            "bin_end": -0.09999999999999998,
            "count": 0
           },
           {
            "bin_start": -0.09999999999999998,
            "bin_end": 0,
            "count": 0
           },
           {
            "bin_start": 0,
            "bin_end": 0.10000000000000009,
            "count": 5
           },
           {
            "bin_start": 0.10000000000000009,
            "bin_end": 0.20000000000000007,
            "count": 0
           },
           {
            "bin_start": 0.20000000000000007,
            "bin_end": 0.30000000000000004,
            "count": 0
           },
           {
            "bin_start": 0.30000000000000004,
            "bin_end": 0.4,
            "count": 0
           },
           {
            "bin_start": 0.4,
            "bin_end": 0.5,
            "count": 0
           }
          ]
         }
        },
        {
         "name": "Soil_Type39",
         "dtype": "int64",
         "stats": {
          "unique_count": 1,
          "nan_count": 0,
          "min": "0",
          "max": "0",
          "histogram": [
           {
            "bin_start": -0.5,
            "bin_end": -0.4,
            "count": 0
           },
           {
            "bin_start": -0.4,
            "bin_end": -0.3,
            "count": 0
           },
           {
            "bin_start": -0.3,
            "bin_end": -0.19999999999999996,
            "count": 0
           },
           {
            "bin_start": -0.19999999999999996,
            "bin_end": -0.09999999999999998,
            "count": 0
           },
           {
            "bin_start": -0.09999999999999998,
            "bin_end": 0,
            "count": 0
           },
           {
            "bin_start": 0,
            "bin_end": 0.10000000000000009,
            "count": 5
           },
           {
            "bin_start": 0.10000000000000009,
            "bin_end": 0.20000000000000007,
            "count": 0
           },
           {
            "bin_start": 0.20000000000000007,
            "bin_end": 0.30000000000000004,
            "count": 0
           },
           {
            "bin_start": 0.30000000000000004,
            "bin_end": 0.4,
            "count": 0
           },
           {
            "bin_start": 0.4,
            "bin_end": 0.5,
            "count": 0
           }
          ]
         }
        },
        {
         "name": "Soil_Type40",
         "dtype": "int64",
         "stats": {
          "unique_count": 1,
          "nan_count": 0,
          "min": "0",
          "max": "0",
          "histogram": [
           {
            "bin_start": -0.5,
            "bin_end": -0.4,
            "count": 0
           },
           {
            "bin_start": -0.4,
            "bin_end": -0.3,
            "count": 0
           },
           {
            "bin_start": -0.3,
            "bin_end": -0.19999999999999996,
            "count": 0
           },
           {
            "bin_start": -0.19999999999999996,
            "bin_end": -0.09999999999999998,
            "count": 0
           },
           {
            "bin_start": -0.09999999999999998,
            "bin_end": 0,
            "count": 0
           },
           {
            "bin_start": 0,
            "bin_end": 0.10000000000000009,
            "count": 5
           },
           {
            "bin_start": 0.10000000000000009,
            "bin_end": 0.20000000000000007,
            "count": 0
           },
           {
            "bin_start": 0.20000000000000007,
            "bin_end": 0.30000000000000004,
            "count": 0
           },
           {
            "bin_start": 0.30000000000000004,
            "bin_end": 0.4,
            "count": 0
           },
           {
            "bin_start": 0.4,
            "bin_end": 0.5,
            "count": 0
           }
          ]
         }
        },
        {
         "name": "Cover_Type",
         "dtype": "int64",
         "stats": {
          "unique_count": 2,
          "nan_count": 0,
          "min": "2",
          "max": "5",
          "histogram": [
           {
            "bin_start": 2,
            "bin_end": 2.3,
            "count": 2
           },
           {
            "bin_start": 2.3,
            "bin_end": 2.6,
            "count": 0
           },
           {
            "bin_start": 2.6,
            "bin_end": 2.9,
            "count": 0
           },
           {
            "bin_start": 2.9,
            "bin_end": 3.2,
            "count": 0
           },
           {
            "bin_start": 3.2,
            "bin_end": 3.5,
            "count": 0
           },
           {
            "bin_start": 3.5,
            "bin_end": 3.8,
            "count": 0
           },
           {
            "bin_start": 3.8,
            "bin_end": 4.1,
            "count": 0
           },
           {
            "bin_start": 4.1,
            "bin_end": 4.4,
            "count": 0
           },
           {
            "bin_start": 4.4,
            "bin_end": 4.699999999999999,
            "count": 0
           },
           {
            "bin_start": 4.699999999999999,
            "bin_end": 5,
            "count": 3
           }
          ]
         }
        },
        {
         "name": "_deepnote_index_column",
         "dtype": "int64"
        }
       ],
       "rows": [
        {
         "Id": 1,
         "Elevation": 2596,
         "Aspect": 51,
         "Slope": 3,
         "Horizontal_Distance_To_Hydrology": 258,
         "Vertical_Distance_To_Hydrology": 0,
         "Horizontal_Distance_To_Roadways": 510,
         "Hillshade_9am": 221,
         "Hillshade_Noon": 232,
         "Hillshade_3pm": 148,
         "Horizontal_Distance_To_Fire_Points": 6279,
         "Wilderness_Area1": 1,
         "Wilderness_Area2": 0,
         "Wilderness_Area3": 0,
         "Wilderness_Area4": 0,
         "Soil_Type1": 0,
         "Soil_Type2": 0,
         "Soil_Type3": 0,
         "Soil_Type4": 0,
         "Soil_Type5": 0,
         "Soil_Type6": 0,
         "Soil_Type7": 0,
         "Soil_Type8": 0,
         "Soil_Type9": 0,
         "Soil_Type10": 0,
         "Soil_Type11": 0,
         "Soil_Type12": 0,
         "Soil_Type13": 0,
         "Soil_Type14": 0,
         "Soil_Type15": 0,
         "Soil_Type16": 0,
         "Soil_Type17": 0,
         "Soil_Type18": 0,
         "Soil_Type19": 0,
         "Soil_Type20": 0,
         "Soil_Type21": 0,
         "Soil_Type22": 0,
         "Soil_Type23": 0,
         "Soil_Type24": 0,
         "Soil_Type25": 0,
         "Soil_Type26": 0,
         "Soil_Type27": 0,
         "Soil_Type28": 0,
         "Soil_Type29": 1,
         "Soil_Type30": 0,
         "Soil_Type31": 0,
         "Soil_Type32": 0,
         "Soil_Type33": 0,
         "Soil_Type34": 0,
         "Soil_Type35": 0,
         "Soil_Type36": 0,
         "Soil_Type37": 0,
         "Soil_Type38": 0,
         "Soil_Type39": 0,
         "Soil_Type40": 0,
         "Cover_Type": 5,
         "_deepnote_index_column": 0
        },
        {
         "Id": 2,
         "Elevation": 2590,
         "Aspect": 56,
         "Slope": 2,
         "Horizontal_Distance_To_Hydrology": 212,
         "Vertical_Distance_To_Hydrology": -6,
         "Horizontal_Distance_To_Roadways": 390,
         "Hillshade_9am": 220,
         "Hillshade_Noon": 235,
         "Hillshade_3pm": 151,
         "Horizontal_Distance_To_Fire_Points": 6225,
         "Wilderness_Area1": 1,
         "Wilderness_Area2": 0,
         "Wilderness_Area3": 0,
         "Wilderness_Area4": 0,
         "Soil_Type1": 0,
         "Soil_Type2": 0,
         "Soil_Type3": 0,
         "Soil_Type4": 0,
         "Soil_Type5": 0,
         "Soil_Type6": 0,
         "Soil_Type7": 0,
         "Soil_Type8": 0,
         "Soil_Type9": 0,
         "Soil_Type10": 0,
         "Soil_Type11": 0,
         "Soil_Type12": 0,
         "Soil_Type13": 0,
         "Soil_Type14": 0,
         "Soil_Type15": 0,
         "Soil_Type16": 0,
         "Soil_Type17": 0,
         "Soil_Type18": 0,
         "Soil_Type19": 0,
         "Soil_Type20": 0,
         "Soil_Type21": 0,
         "Soil_Type22": 0,
         "Soil_Type23": 0,
         "Soil_Type24": 0,
         "Soil_Type25": 0,
         "Soil_Type26": 0,
         "Soil_Type27": 0,
         "Soil_Type28": 0,
         "Soil_Type29": 1,
         "Soil_Type30": 0,
         "Soil_Type31": 0,
         "Soil_Type32": 0,
         "Soil_Type33": 0,
         "Soil_Type34": 0,
         "Soil_Type35": 0,
         "Soil_Type36": 0,
         "Soil_Type37": 0,
         "Soil_Type38": 0,
         "Soil_Type39": 0,
         "Soil_Type40": 0,
         "Cover_Type": 5,
         "_deepnote_index_column": 1
        },
        {
         "Id": 3,
         "Elevation": 2804,
         "Aspect": 139,
         "Slope": 9,
         "Horizontal_Distance_To_Hydrology": 268,
         "Vertical_Distance_To_Hydrology": 65,
         "Horizontal_Distance_To_Roadways": 3180,
         "Hillshade_9am": 234,
         "Hillshade_Noon": 238,
         "Hillshade_3pm": 135,
         "Horizontal_Distance_To_Fire_Points": 6121,
         "Wilderness_Area1": 1,
         "Wilderness_Area2": 0,
         "Wilderness_Area3": 0,
         "Wilderness_Area4": 0,
         "Soil_Type1": 0,
         "Soil_Type2": 0,
         "Soil_Type3": 0,
         "Soil_Type4": 0,
         "Soil_Type5": 0,
         "Soil_Type6": 0,
         "Soil_Type7": 0,
         "Soil_Type8": 0,
         "Soil_Type9": 0,
         "Soil_Type10": 0,
         "Soil_Type11": 0,
         "Soil_Type12": 1,
         "Soil_Type13": 0,
         "Soil_Type14": 0,
         "Soil_Type15": 0,
         "Soil_Type16": 0,
         "Soil_Type17": 0,
         "Soil_Type18": 0,
         "Soil_Type19": 0,
         "Soil_Type20": 0,
         "Soil_Type21": 0,
         "Soil_Type22": 0,
         "Soil_Type23": 0,
         "Soil_Type24": 0,
         "Soil_Type25": 0,
         "Soil_Type26": 0,
         "Soil_Type27": 0,
         "Soil_Type28": 0,
         "Soil_Type29": 0,
         "Soil_Type30": 0,
         "Soil_Type31": 0,
         "Soil_Type32": 0,
         "Soil_Type33": 0,
         "Soil_Type34": 0,
         "Soil_Type35": 0,
         "Soil_Type36": 0,
         "Soil_Type37": 0,
         "Soil_Type38": 0,
         "Soil_Type39": 0,
         "Soil_Type40": 0,
         "Cover_Type": 2,
         "_deepnote_index_column": 2
        },
        {
         "Id": 4,
         "Elevation": 2785,
         "Aspect": 155,
         "Slope": 18,
         "Horizontal_Distance_To_Hydrology": 242,
         "Vertical_Distance_To_Hydrology": 118,
         "Horizontal_Distance_To_Roadways": 3090,
         "Hillshade_9am": 238,
         "Hillshade_Noon": 238,
         "Hillshade_3pm": 122,
         "Horizontal_Distance_To_Fire_Points": 6211,
         "Wilderness_Area1": 1,
         "Wilderness_Area2": 0,
         "Wilderness_Area3": 0,
         "Wilderness_Area4": 0,
         "Soil_Type1": 0,
         "Soil_Type2": 0,
         "Soil_Type3": 0,
         "Soil_Type4": 0,
         "Soil_Type5": 0,
         "Soil_Type6": 0,
         "Soil_Type7": 0,
         "Soil_Type8": 0,
         "Soil_Type9": 0,
         "Soil_Type10": 0,
         "Soil_Type11": 0,
         "Soil_Type12": 0,
         "Soil_Type13": 0,
         "Soil_Type14": 0,
         "Soil_Type15": 0,
         "Soil_Type16": 0,
         "Soil_Type17": 0,
         "Soil_Type18": 0,
         "Soil_Type19": 0,
         "Soil_Type20": 0,
         "Soil_Type21": 0,
         "Soil_Type22": 0,
         "Soil_Type23": 0,
         "Soil_Type24": 0,
         "Soil_Type25": 0,
         "Soil_Type26": 0,
         "Soil_Type27": 0,
         "Soil_Type28": 0,
         "Soil_Type29": 0,
         "Soil_Type30": 1,
         "Soil_Type31": 0,
         "Soil_Type32": 0,
         "Soil_Type33": 0,
         "Soil_Type34": 0,
         "Soil_Type35": 0,
         "Soil_Type36": 0,
         "Soil_Type37": 0,
         "Soil_Type38": 0,
         "Soil_Type39": 0,
         "Soil_Type40": 0,
         "Cover_Type": 2,
         "_deepnote_index_column": 3
        },
        {
         "Id": 5,
         "Elevation": 2595,
         "Aspect": 45,
         "Slope": 2,
         "Horizontal_Distance_To_Hydrology": 153,
         "Vertical_Distance_To_Hydrology": -1,
         "Horizontal_Distance_To_Roadways": 391,
         "Hillshade_9am": 220,
         "Hillshade_Noon": 234,
         "Hillshade_3pm": 150,
         "Horizontal_Distance_To_Fire_Points": 6172,
         "Wilderness_Area1": 1,
         "Wilderness_Area2": 0,
         "Wilderness_Area3": 0,
         "Wilderness_Area4": 0,
         "Soil_Type1": 0,
         "Soil_Type2": 0,
         "Soil_Type3": 0,
         "Soil_Type4": 0,
         "Soil_Type5": 0,
         "Soil_Type6": 0,
         "Soil_Type7": 0,
         "Soil_Type8": 0,
         "Soil_Type9": 0,
         "Soil_Type10": 0,
         "Soil_Type11": 0,
         "Soil_Type12": 0,
         "Soil_Type13": 0,
         "Soil_Type14": 0,
         "Soil_Type15": 0,
         "Soil_Type16": 0,
         "Soil_Type17": 0,
         "Soil_Type18": 0,
         "Soil_Type19": 0,
         "Soil_Type20": 0,
         "Soil_Type21": 0,
         "Soil_Type22": 0,
         "Soil_Type23": 0,
         "Soil_Type24": 0,
         "Soil_Type25": 0,
         "Soil_Type26": 0,
         "Soil_Type27": 0,
         "Soil_Type28": 0,
         "Soil_Type29": 1,
         "Soil_Type30": 0,
         "Soil_Type31": 0,
         "Soil_Type32": 0,
         "Soil_Type33": 0,
         "Soil_Type34": 0,
         "Soil_Type35": 0,
         "Soil_Type36": 0,
         "Soil_Type37": 0,
         "Soil_Type38": 0,
         "Soil_Type39": 0,
         "Soil_Type40": 0,
         "Cover_Type": 5,
         "_deepnote_index_column": 4
        }
       ]
      },
      "text/plain": "   Id  Elevation  Aspect  Slope  Horizontal_Distance_To_Hydrology  \\\n0   1       2596      51      3                               258   \n1   2       2590      56      2                               212   \n2   3       2804     139      9                               268   \n3   4       2785     155     18                               242   \n4   5       2595      45      2                               153   \n\n   Vertical_Distance_To_Hydrology  Horizontal_Distance_To_Roadways  \\\n0                               0                              510   \n1                              -6                              390   \n2                              65                             3180   \n3                             118                             3090   \n4                              -1                              391   \n\n   Hillshade_9am  Hillshade_Noon  Hillshade_3pm  ...  Soil_Type32  \\\n0            221             232            148  ...            0   \n1            220             235            151  ...            0   \n2            234             238            135  ...            0   \n3            238             238            122  ...            0   \n4            220             234            150  ...            0   \n\n   Soil_Type33  Soil_Type34  Soil_Type35  Soil_Type36  Soil_Type37  \\\n0            0            0            0            0            0   \n1            0            0            0            0            0   \n2            0            0            0            0            0   \n3            0            0            0            0            0   \n4            0            0            0            0            0   \n\n   Soil_Type38  Soil_Type39  Soil_Type40  Cover_Type  \n0            0            0            0           5  \n1            0            0            0           5  \n2            0            0            0           2  \n3            0            0            0           2  \n4            0            0            0           5  \n\n[5 rows x 56 columns]",
      "text/html": "<div>\n<style scoped>\n    .dataframe tbody tr th:only-of-type {\n        vertical-align: middle;\n    }\n\n    .dataframe tbody tr th {\n        vertical-align: top;\n    }\n\n    .dataframe thead th {\n        text-align: right;\n    }\n</style>\n<table border=\"1\" class=\"dataframe\">\n  <thead>\n    <tr style=\"text-align: right;\">\n      <th></th>\n      <th>Id</th>\n      <th>Elevation</th>\n      <th>Aspect</th>\n      <th>Slope</th>\n      <th>Horizontal_Distance_To_Hydrology</th>\n      <th>Vertical_Distance_To_Hydrology</th>\n      <th>Horizontal_Distance_To_Roadways</th>\n      <th>Hillshade_9am</th>\n      <th>Hillshade_Noon</th>\n      <th>Hillshade_3pm</th>\n      <th>...</th>\n      <th>Soil_Type32</th>\n      <th>Soil_Type33</th>\n      <th>Soil_Type34</th>\n      <th>Soil_Type35</th>\n      <th>Soil_Type36</th>\n      <th>Soil_Type37</th>\n      <th>Soil_Type38</th>\n      <th>Soil_Type39</th>\n      <th>Soil_Type40</th>\n      <th>Cover_Type</th>\n    </tr>\n  </thead>\n  <tbody>\n    <tr>\n      <th>0</th>\n      <td>1</td>\n      <td>2596</td>\n      <td>51</td>\n      <td>3</td>\n      <td>258</td>\n      <td>0</td>\n      <td>510</td>\n      <td>221</td>\n      <td>232</td>\n      <td>148</td>\n      <td>...</td>\n      <td>0</td>\n      <td>0</td>\n      <td>0</td>\n      <td>0</td>\n      <td>0</td>\n      <td>0</td>\n      <td>0</td>\n      <td>0</td>\n      <td>0</td>\n      <td>5</td>\n    </tr>\n    <tr>\n      <th>1</th>\n      <td>2</td>\n      <td>2590</td>\n      <td>56</td>\n      <td>2</td>\n      <td>212</td>\n      <td>-6</td>\n      <td>390</td>\n      <td>220</td>\n      <td>235</td>\n      <td>151</td>\n      <td>...</td>\n      <td>0</td>\n      <td>0</td>\n      <td>0</td>\n      <td>0</td>\n      <td>0</td>\n      <td>0</td>\n      <td>0</td>\n      <td>0</td>\n      <td>0</td>\n      <td>5</td>\n    </tr>\n    <tr>\n      <th>2</th>\n      <td>3</td>\n      <td>2804</td>\n      <td>139</td>\n      <td>9</td>\n      <td>268</td>\n      <td>65</td>\n      <td>3180</td>\n      <td>234</td>\n      <td>238</td>\n      <td>135</td>\n      <td>...</td>\n      <td>0</td>\n      <td>0</td>\n      <td>0</td>\n      <td>0</td>\n      <td>0</td>\n      <td>0</td>\n      <td>0</td>\n      <td>0</td>\n      <td>0</td>\n      <td>2</td>\n    </tr>\n    <tr>\n      <th>3</th>\n      <td>4</td>\n      <td>2785</td>\n      <td>155</td>\n      <td>18</td>\n      <td>242</td>\n      <td>118</td>\n      <td>3090</td>\n      <td>238</td>\n      <td>238</td>\n      <td>122</td>\n      <td>...</td>\n      <td>0</td>\n      <td>0</td>\n      <td>0</td>\n      <td>0</td>\n      <td>0</td>\n      <td>0</td>\n      <td>0</td>\n      <td>0</td>\n      <td>0</td>\n      <td>2</td>\n    </tr>\n    <tr>\n      <th>4</th>\n      <td>5</td>\n      <td>2595</td>\n      <td>45</td>\n      <td>2</td>\n      <td>153</td>\n      <td>-1</td>\n      <td>391</td>\n      <td>220</td>\n      <td>234</td>\n      <td>150</td>\n      <td>...</td>\n      <td>0</td>\n      <td>0</td>\n      <td>0</td>\n      <td>0</td>\n      <td>0</td>\n      <td>0</td>\n      <td>0</td>\n      <td>0</td>\n      <td>0</td>\n      <td>5</td>\n    </tr>\n  </tbody>\n</table>\n<p>5 rows × 56 columns</p>\n</div>"
     },
     "metadata": {}
    }
   ]
  },
  {
   "cell_type": "code",
   "metadata": {
    "tags": [],
    "cell_id": "00003-e599fd2b-4959-43f0-8761-9b9a7c877c8c",
    "deepnote_to_be_reexecuted": false,
    "source_hash": "ba43a07c",
    "execution_start": 1646776551942,
    "execution_millis": 2244,
    "deepnote_cell_type": "code",
    "deepnote_cell_height": 186
   },
   "source": "test = pd.read_csv(\"forest-cover-type-prediction/test.csv\")\ntest.head()\nprint(train.shape)\nprint(test.shape)",
   "execution_count": 4,
   "outputs": [
    {
     "name": "stdout",
     "text": "(15120, 56)\n(565892, 55)\n",
     "output_type": "stream"
    }
   ]
  },
  {
   "cell_type": "markdown",
   "source": "## Exploratory Data Analysis",
   "metadata": {
    "tags": [],
    "cell_id": "00006-726e40f3-0617-40c3-bcae-54cda7ec1b7f",
    "deepnote_cell_type": "markdown",
    "deepnote_cell_height": 70
   }
  },
  {
   "cell_type": "code",
   "metadata": {
    "tags": [],
    "cell_id": "00007-5e5ca82a-4369-4a7a-bdba-51e99f5ab1fa",
    "deepnote_to_be_reexecuted": false,
    "source_hash": "fea28bdd",
    "execution_start": 1646776554228,
    "execution_millis": 1,
    "deepnote_cell_type": "code",
    "deepnote_cell_height": 701
   },
   "source": "train.info()",
   "execution_count": 5,
   "outputs": [
    {
     "name": "stdout",
     "text": "<class 'pandas.core.frame.DataFrame'>\nRangeIndex: 15120 entries, 0 to 15119\nData columns (total 56 columns):\n #   Column                              Non-Null Count  Dtype\n---  ------                              --------------  -----\n 0   Id                                  15120 non-null  int64\n 1   Elevation                           15120 non-null  int64\n 2   Aspect                              15120 non-null  int64\n 3   Slope                               15120 non-null  int64\n 4   Horizontal_Distance_To_Hydrology    15120 non-null  int64\n 5   Vertical_Distance_To_Hydrology      15120 non-null  int64\n 6   Horizontal_Distance_To_Roadways     15120 non-null  int64\n 7   Hillshade_9am                       15120 non-null  int64\n 8   Hillshade_Noon                      15120 non-null  int64\n 9   Hillshade_3pm                       15120 non-null  int64\n 10  Horizontal_Distance_To_Fire_Points  15120 non-null  int64\n 11  Wilderness_Area1                    15120 non-null  int64\n 12  Wilderness_Area2                    15120 non-null  int64\n 13  Wilderness_Area3                    15120 non-null  int64\n 14  Wilderness_Area4                    15120 non-null  int64\n 15  Soil_Type1                          15120 non-null  int64\n 16  Soil_Type2                          15120 non-null  int64\n 17  Soil_Type3                          15120 non-null  int64\n 18  Soil_Type4                          15120 non-null  int64\n 19  Soil_Type5                          15120 non-null  int64\n 20  Soil_Type6                          15120 non-null  int64\n 21  Soil_Type7                          15120 non-null  int64\n 22  Soil_Type8                          15120 non-null  int64\n 23  Soil_Type9                          15120 non-null  int64\n 24  Soil_Type10                         15120 non-null  int64\n 25  Soil_Type11                         15120 non-null  int64\n 26  Soil_Type12                         15120 non-null  int64\n 27  Soil_Type13                         15120 non-null  int64\n 28  Soil_Type14                         15120 non-null  int64\n 29  Soil_Type15                         15120 non-null  int64\n 30  Soil_Type16                         15120 non-null  int64\n 31  Soil_Type17                         15120 non-null  int64\n 32  Soil_Type18                         15120 non-null  int64\n 33  Soil_Type19                         15120 non-null  int64\n 34  Soil_Type20                         15120 non-null  int64\n 35  Soil_Type21                         15120 non-null  int64\n 36  Soil_Type22                         15120 non-null  int64\n 37  Soil_Type23                         15120 non-null  int64\n 38  Soil_Type24                         15120 non-null  int64\n 39  Soil_Type25                         15120 non-null  int64\n 40  Soil_Type26                         15120 non-null  int64\n 41  Soil_Type27                         15120 non-null  int64\n 42  Soil_Type28                         15120 non-null  int64\n 43  Soil_Type29                         15120 non-null  int64\n 44  Soil_Type30                         15120 non-null  int64\n 45  Soil_Type31                         15120 non-null  int64\n 46  Soil_Type32                         15120 non-null  int64\n 47  Soil_Type33                         15120 non-null  int64\n 48  Soil_Type34                         15120 non-null  int64\n 49  Soil_Type35                         15120 non-null  int64\n 50  Soil_Type36                         15120 non-null  int64\n 51  Soil_Type37                         15120 non-null  int64\n 52  Soil_Type38                         15120 non-null  int64\n 53  Soil_Type39                         15120 non-null  int64\n 54  Soil_Type40                         15120 non-null  int64\n 55  Cover_Type                          15120 non-null  int64\ndtypes: int64(56)\nmemory usage: 6.5 MB\n",
     "output_type": "stream"
    }
   ]
  },
  {
   "cell_type": "code",
   "metadata": {
    "tags": [],
    "cell_id": "00007-f3fe2a2c-034e-475d-81b8-8e74cfe33c0c",
    "deepnote_to_be_reexecuted": false,
    "source_hash": "f7a44b77",
    "execution_start": 1646776554272,
    "execution_millis": 2,
    "deepnote_cell_type": "code",
    "deepnote_cell_height": 270,
    "deepnote_output_heights": [
     173
    ]
   },
   "source": "train.groupby('Cover_Type').size()",
   "execution_count": 6,
   "outputs": [
    {
     "output_type": "execute_result",
     "execution_count": 6,
     "data": {
      "text/plain": "Cover_Type\n1    2160\n2    2160\n3    2160\n4    2160\n5    2160\n6    2160\n7    2160\ndtype: int64"
     },
     "metadata": {}
    }
   ]
  },
  {
   "cell_type": "code",
   "metadata": {
    "tags": [],
    "cell_id": "00008-b4040e46-5cac-42ab-9c0c-0285984d1038",
    "deepnote_to_be_reexecuted": false,
    "source_hash": "3dc5e06b",
    "execution_start": 1646776554324,
    "execution_millis": 337,
    "deepnote_cell_type": "code",
    "deepnote_cell_height": 465
   },
   "source": "train.describe()",
   "execution_count": 7,
   "outputs": [
    {
     "output_type": "execute_result",
     "execution_count": 7,
     "data": {
      "application/vnd.deepnote.dataframe.v3+json": {
       "column_count": 56,
       "row_count": 8,
       "columns": [
        {
         "name": "Id",
         "dtype": "float64",
         "stats": {
          "unique_count": 6,
          "nan_count": 0,
          "min": "1.0",
          "max": "15120.0",
          "histogram": [
           {
            "bin_start": 1,
            "bin_end": 1512.9,
            "count": 1
           },
           {
            "bin_start": 1512.9,
            "bin_end": 3024.8,
            "count": 0
           },
           {
            "bin_start": 3024.8,
            "bin_end": 4536.700000000001,
            "count": 2
           },
           {
            "bin_start": 4536.700000000001,
            "bin_end": 6048.6,
            "count": 0
           },
           {
            "bin_start": 6048.6,
            "bin_end": 7560.5,
            "count": 0
           },
           {
            "bin_start": 7560.5,
            "bin_end": 9072.400000000001,
            "count": 2
           },
           {
            "bin_start": 9072.400000000001,
            "bin_end": 10584.300000000001,
            "count": 0
           },
           {
            "bin_start": 10584.300000000001,
            "bin_end": 12096.2,
            "count": 1
           },
           {
            "bin_start": 12096.2,
            "bin_end": 13608.1,
            "count": 0
           },
           {
            "bin_start": 13608.1,
            "bin_end": 15120,
            "count": 2
           }
          ]
         }
        },
        {
         "name": "Elevation",
         "dtype": "float64",
         "stats": {
          "unique_count": 8,
          "nan_count": 0,
          "min": "417.6781873480492",
          "max": "15120.0",
          "histogram": [
           {
            "bin_start": 417.6781873480492,
            "bin_end": 1887.9103686132444,
            "count": 2
           },
           {
            "bin_start": 1887.9103686132444,
            "bin_end": 3358.1425498784392,
            "count": 4
           },
           {
            "bin_start": 3358.1425498784392,
            "bin_end": 4828.374731143635,
            "count": 1
           },
           {
            "bin_start": 4828.374731143635,
            "bin_end": 6298.60691240883,
            "count": 0
           },
           {
            "bin_start": 6298.60691240883,
            "bin_end": 7768.839093674025,
            "count": 0
           },
           {
            "bin_start": 7768.839093674025,
            "bin_end": 9239.071274939219,
            "count": 0
           },
           {
            "bin_start": 9239.071274939219,
            "bin_end": 10709.303456204414,
            "count": 0
           },
           {
            "bin_start": 10709.303456204414,
            "bin_end": 12179.53563746961,
            "count": 0
           },
           {
            "bin_start": 12179.53563746961,
            "bin_end": 13649.767818734805,
            "count": 0
           },
           {
            "bin_start": 13649.767818734805,
            "bin_end": 15120,
            "count": 1
           }
          ]
         }
        },
        {
         "name": "Aspect",
         "dtype": "float64",
         "stats": {
          "unique_count": 8,
          "nan_count": 0,
          "min": "0.0",
          "max": "15120.0",
          "histogram": [
           {
            "bin_start": 0,
            "bin_end": 1512,
            "count": 7
           },
           {
            "bin_start": 1512,
            "bin_end": 3024,
            "count": 0
           },
           {
            "bin_start": 3024,
            "bin_end": 4536,
            "count": 0
           },
           {
            "bin_start": 4536,
            "bin_end": 6048,
            "count": 0
           },
           {
            "bin_start": 6048,
            "bin_end": 7560,
            "count": 0
           },
           {
            "bin_start": 7560,
            "bin_end": 9072,
            "count": 0
           },
           {
            "bin_start": 9072,
            "bin_end": 10584,
            "count": 0
           },
           {
            "bin_start": 10584,
            "bin_end": 12096,
            "count": 0
           },
           {
            "bin_start": 12096,
            "bin_end": 13608,
            "count": 0
           },
           {
            "bin_start": 13608,
            "bin_end": 15120,
            "count": 1
           }
          ]
         }
        },
        {
         "name": "Slope",
         "dtype": "float64",
         "stats": {
          "unique_count": 8,
          "nan_count": 0,
          "min": "0.0",
          "max": "15120.0",
          "histogram": [
           {
            "bin_start": 0,
            "bin_end": 1512,
            "count": 7
           },
           {
            "bin_start": 1512,
            "bin_end": 3024,
            "count": 0
           },
           {
            "bin_start": 3024,
            "bin_end": 4536,
            "count": 0
           },
           {
            "bin_start": 4536,
            "bin_end": 6048,
            "count": 0
           },
           {
            "bin_start": 6048,
            "bin_end": 7560,
            "count": 0
           },
           {
            "bin_start": 7560,
            "bin_end": 9072,
            "count": 0
           },
           {
            "bin_start": 9072,
            "bin_end": 10584,
            "count": 0
           },
           {
            "bin_start": 10584,
            "bin_end": 12096,
            "count": 0
           },
           {
            "bin_start": 12096,
            "bin_end": 13608,
            "count": 0
           },
           {
            "bin_start": 13608,
            "bin_end": 15120,
            "count": 1
           }
          ]
         }
        },
        {
         "name": "Horizontal_Distance_To_Hydrology",
         "dtype": "float64",
         "stats": {
          "unique_count": 8,
          "nan_count": 0,
          "min": "0.0",
          "max": "15120.0",
          "histogram": [
           {
            "bin_start": 0,
            "bin_end": 1512,
            "count": 7
           },
           {
            "bin_start": 1512,
            "bin_end": 3024,
            "count": 0
           },
           {
            "bin_start": 3024,
            "bin_end": 4536,
            "count": 0
           },
           {
            "bin_start": 4536,
            "bin_end": 6048,
            "count": 0
           },
           {
            "bin_start": 6048,
            "bin_end": 7560,
            "count": 0
           },
           {
            "bin_start": 7560,
            "bin_end": 9072,
            "count": 0
           },
           {
            "bin_start": 9072,
            "bin_end": 10584,
            "count": 0
           },
           {
            "bin_start": 10584,
            "bin_end": 12096,
            "count": 0
           },
           {
            "bin_start": 12096,
            "bin_end": 13608,
            "count": 0
           },
           {
            "bin_start": 13608,
            "bin_end": 15120,
            "count": 1
           }
          ]
         }
        },
        {
         "name": "Vertical_Distance_To_Hydrology",
         "dtype": "float64",
         "stats": {
          "unique_count": 8,
          "nan_count": 0,
          "min": "-146.0",
          "max": "15120.0",
          "histogram": [
           {
            "bin_start": -146,
            "bin_end": 1380.6,
            "count": 7
           },
           {
            "bin_start": 1380.6,
            "bin_end": 2907.2,
            "count": 0
           },
           {
            "bin_start": 2907.2,
            "bin_end": 4433.799999999999,
            "count": 0
           },
           {
            "bin_start": 4433.799999999999,
            "bin_end": 5960.4,
            "count": 0
           },
           {
            "bin_start": 5960.4,
            "bin_end": 7487,
            "count": 0
           },
           {
            "bin_start": 7487,
            "bin_end": 9013.599999999999,
            "count": 0
           },
           {
            "bin_start": 9013.599999999999,
            "bin_end": 10540.199999999999,
            "count": 0
           },
           {
            "bin_start": 10540.199999999999,
            "bin_end": 12066.8,
            "count": 0
           },
           {
            "bin_start": 12066.8,
            "bin_end": 13593.4,
            "count": 0
           },
           {
            "bin_start": 13593.4,
            "bin_end": 15120,
            "count": 1
           }
          ]
         }
        },
        {
         "name": "Horizontal_Distance_To_Roadways",
         "dtype": "float64",
         "stats": {
          "unique_count": 8,
          "nan_count": 0,
          "min": "0.0",
          "max": "15120.0",
          "histogram": [
           {
            "bin_start": 0,
            "bin_end": 1512,
            "count": 4
           },
           {
            "bin_start": 1512,
            "bin_end": 3024,
            "count": 2
           },
           {
            "bin_start": 3024,
            "bin_end": 4536,
            "count": 0
           },
           {
            "bin_start": 4536,
            "bin_end": 6048,
            "count": 0
           },
           {
            "bin_start": 6048,
            "bin_end": 7560,
            "count": 1
           },
           {
            "bin_start": 7560,
            "bin_end": 9072,
            "count": 0
           },
           {
            "bin_start": 9072,
            "bin_end": 10584,
            "count": 0
           },
           {
            "bin_start": 10584,
            "bin_end": 12096,
            "count": 0
           },
           {
            "bin_start": 12096,
            "bin_end": 13608,
            "count": 0
           },
           {
            "bin_start": 13608,
            "bin_end": 15120,
            "count": 1
           }
          ]
         }
        },
        {
         "name": "Hillshade_9am",
         "dtype": "float64",
         "stats": {
          "unique_count": 8,
          "nan_count": 0,
          "min": "0.0",
          "max": "15120.0",
          "histogram": [
           {
            "bin_start": 0,
            "bin_end": 1512,
            "count": 7
           },
           {
            "bin_start": 1512,
            "bin_end": 3024,
            "count": 0
           },
           {
            "bin_start": 3024,
            "bin_end": 4536,
            "count": 0
           },
           {
            "bin_start": 4536,
            "bin_end": 6048,
            "count": 0
           },
           {
            "bin_start": 6048,
            "bin_end": 7560,
            "count": 0
           },
           {
            "bin_start": 7560,
            "bin_end": 9072,
            "count": 0
           },
           {
            "bin_start": 9072,
            "bin_end": 10584,
            "count": 0
           },
           {
            "bin_start": 10584,
            "bin_end": 12096,
            "count": 0
           },
           {
            "bin_start": 12096,
            "bin_end": 13608,
            "count": 0
           },
           {
            "bin_start": 13608,
            "bin_end": 15120,
            "count": 1
           }
          ]
         }
        },
        {
         "name": "Hillshade_Noon",
         "dtype": "float64",
         "stats": {
          "unique_count": 8,
          "nan_count": 0,
          "min": "22.801965544098575",
          "max": "15120.0",
          "histogram": [
           {
            "bin_start": 22.801965544098575,
            "bin_end": 1532.5217689896886,
            "count": 7
           },
           {
            "bin_start": 1532.5217689896886,
            "bin_end": 3042.2415724352786,
            "count": 0
           },
           {
            "bin_start": 3042.2415724352786,
            "bin_end": 4551.961375880868,
            "count": 0
           },
           {
            "bin_start": 4551.961375880868,
            "bin_end": 6061.681179326459,
            "count": 0
           },
           {
            "bin_start": 6061.681179326459,
            "bin_end": 7571.400982772049,
            "count": 0
           },
           {
            "bin_start": 7571.400982772049,
            "bin_end": 9081.120786217638,
            "count": 0
           },
           {
            "bin_start": 9081.120786217638,
            "bin_end": 10590.840589663228,
            "count": 0
           },
           {
            "bin_start": 10590.840589663228,
            "bin_end": 12100.560393108819,
            "count": 0
           },
           {
            "bin_start": 12100.560393108819,
            "bin_end": 13610.28019655441,
            "count": 0
           },
           {
            "bin_start": 13610.28019655441,
            "bin_end": 15120,
            "count": 1
           }
          ]
         }
        },
        {
         "name": "Hillshade_3pm",
         "dtype": "float64",
         "stats": {
          "unique_count": 8,
          "nan_count": 0,
          "min": "0.0",
          "max": "15120.0",
          "histogram": [
           {
            "bin_start": 0,
            "bin_end": 1512,
            "count": 7
           },
           {
            "bin_start": 1512,
            "bin_end": 3024,
            "count": 0
           },
           {
            "bin_start": 3024,
            "bin_end": 4536,
            "count": 0
           },
           {
            "bin_start": 4536,
            "bin_end": 6048,
            "count": 0
           },
           {
            "bin_start": 6048,
            "bin_end": 7560,
            "count": 0
           },
           {
            "bin_start": 7560,
            "bin_end": 9072,
            "count": 0
           },
           {
            "bin_start": 9072,
            "bin_end": 10584,
            "count": 0
           },
           {
            "bin_start": 10584,
            "bin_end": 12096,
            "count": 0
           },
           {
            "bin_start": 12096,
            "bin_end": 13608,
            "count": 0
           },
           {
            "bin_start": 13608,
            "bin_end": 15120,
            "count": 1
           }
          ]
         }
        },
        {
         "name": "Horizontal_Distance_To_Fire_Points",
         "dtype": "float64",
         "stats": {
          "unique_count": 8,
          "nan_count": 0,
          "min": "0.0",
          "max": "15120.0",
          "histogram": [
           {
            "bin_start": 0,
            "bin_end": 1512,
            "count": 5
           },
           {
            "bin_start": 1512,
            "bin_end": 3024,
            "count": 1
           },
           {
            "bin_start": 3024,
            "bin_end": 4536,
            "count": 0
           },
           {
            "bin_start": 4536,
            "bin_end": 6048,
            "count": 0
           },
           {
            "bin_start": 6048,
            "bin_end": 7560,
            "count": 1
           },
           {
            "bin_start": 7560,
            "bin_end": 9072,
            "count": 0
           },
           {
            "bin_start": 9072,
            "bin_end": 10584,
            "count": 0
           },
           {
            "bin_start": 10584,
            "bin_end": 12096,
            "count": 0
           },
           {
            "bin_start": 12096,
            "bin_end": 13608,
            "count": 0
           },
           {
            "bin_start": 13608,
            "bin_end": 15120,
            "count": 1
           }
          ]
         }
        },
        {
         "name": "Wilderness_Area1",
         "dtype": "float64",
         "stats": {
          "unique_count": 5,
          "nan_count": 0,
          "min": "0.0",
          "max": "15120.0",
          "histogram": [
           {
            "bin_start": 0,
            "bin_end": 1512,
            "count": 7
           },
           {
            "bin_start": 1512,
            "bin_end": 3024,
            "count": 0
           },
           {
            "bin_start": 3024,
            "bin_end": 4536,
            "count": 0
           },
           {
            "bin_start": 4536,
            "bin_end": 6048,
            "count": 0
           },
           {
            "bin_start": 6048,
            "bin_end": 7560,
            "count": 0
           },
           {
            "bin_start": 7560,
            "bin_end": 9072,
            "count": 0
           },
           {
            "bin_start": 9072,
            "bin_end": 10584,
            "count": 0
           },
           {
            "bin_start": 10584,
            "bin_end": 12096,
            "count": 0
           },
           {
            "bin_start": 12096,
            "bin_end": 13608,
            "count": 0
           },
           {
            "bin_start": 13608,
            "bin_end": 15120,
            "count": 1
           }
          ]
         }
        },
        {
         "name": "Wilderness_Area2",
         "dtype": "float64",
         "stats": {
          "unique_count": 5,
          "nan_count": 0,
          "min": "0.0",
          "max": "15120.0",
          "histogram": [
           {
            "bin_start": 0,
            "bin_end": 1512,
            "count": 7
           },
           {
            "bin_start": 1512,
            "bin_end": 3024,
            "count": 0
           },
           {
            "bin_start": 3024,
            "bin_end": 4536,
            "count": 0
           },
           {
            "bin_start": 4536,
            "bin_end": 6048,
            "count": 0
           },
           {
            "bin_start": 6048,
            "bin_end": 7560,
            "count": 0
           },
           {
            "bin_start": 7560,
            "bin_end": 9072,
            "count": 0
           },
           {
            "bin_start": 9072,
            "bin_end": 10584,
            "count": 0
           },
           {
            "bin_start": 10584,
            "bin_end": 12096,
            "count": 0
           },
           {
            "bin_start": 12096,
            "bin_end": 13608,
            "count": 0
           },
           {
            "bin_start": 13608,
            "bin_end": 15120,
            "count": 1
           }
          ]
         }
        },
        {
         "name": "Wilderness_Area3",
         "dtype": "float64",
         "stats": {
          "unique_count": 5,
          "nan_count": 0,
          "min": "0.0",
          "max": "15120.0",
          "histogram": [
           {
            "bin_start": 0,
            "bin_end": 1512,
            "count": 7
           },
           {
            "bin_start": 1512,
            "bin_end": 3024,
            "count": 0
           },
           {
            "bin_start": 3024,
            "bin_end": 4536,
            "count": 0
           },
           {
            "bin_start": 4536,
            "bin_end": 6048,
            "count": 0
           },
           {
            "bin_start": 6048,
            "bin_end": 7560,
            "count": 0
           },
           {
            "bin_start": 7560,
            "bin_end": 9072,
            "count": 0
           },
           {
            "bin_start": 9072,
            "bin_end": 10584,
            "count": 0
           },
           {
            "bin_start": 10584,
            "bin_end": 12096,
            "count": 0
           },
           {
            "bin_start": 12096,
            "bin_end": 13608,
            "count": 0
           },
           {
            "bin_start": 13608,
            "bin_end": 15120,
            "count": 1
           }
          ]
         }
        },
        {
         "name": "Wilderness_Area4",
         "dtype": "float64",
         "stats": {
          "unique_count": 5,
          "nan_count": 0,
          "min": "0.0",
          "max": "15120.0",
          "histogram": [
           {
            "bin_start": 0,
            "bin_end": 1512,
            "count": 7
           },
           {
            "bin_start": 1512,
            "bin_end": 3024,
            "count": 0
           },
           {
            "bin_start": 3024,
            "bin_end": 4536,
            "count": 0
           },
           {
            "bin_start": 4536,
            "bin_end": 6048,
            "count": 0
           },
           {
            "bin_start": 6048,
            "bin_end": 7560,
            "count": 0
           },
           {
            "bin_start": 7560,
            "bin_end": 9072,
            "count": 0
           },
           {
            "bin_start": 9072,
            "bin_end": 10584,
            "count": 0
           },
           {
            "bin_start": 10584,
            "bin_end": 12096,
            "count": 0
           },
           {
            "bin_start": 12096,
            "bin_end": 13608,
            "count": 0
           },
           {
            "bin_start": 13608,
            "bin_end": 15120,
            "count": 1
           }
          ]
         }
        },
        {
         "name": "Soil_Type1",
         "dtype": "float64",
         "stats": {
          "unique_count": 5,
          "nan_count": 0,
          "min": "0.0",
          "max": "15120.0",
          "histogram": [
           {
            "bin_start": 0,
            "bin_end": 1512,
            "count": 7
           },
           {
            "bin_start": 1512,
            "bin_end": 3024,
            "count": 0
           },
           {
            "bin_start": 3024,
            "bin_end": 4536,
            "count": 0
           },
           {
            "bin_start": 4536,
            "bin_end": 6048,
            "count": 0
           },
           {
            "bin_start": 6048,
            "bin_end": 7560,
            "count": 0
           },
           {
            "bin_start": 7560,
            "bin_end": 9072,
            "count": 0
           },
           {
            "bin_start": 9072,
            "bin_end": 10584,
            "count": 0
           },
           {
            "bin_start": 10584,
            "bin_end": 12096,
            "count": 0
           },
           {
            "bin_start": 12096,
            "bin_end": 13608,
            "count": 0
           },
           {
            "bin_start": 13608,
            "bin_end": 15120,
            "count": 1
           }
          ]
         }
        },
        {
         "name": "Soil_Type2",
         "dtype": "float64",
         "stats": {
          "unique_count": 5,
          "nan_count": 0,
          "min": "0.0",
          "max": "15120.0",
          "histogram": [
           {
            "bin_start": 0,
            "bin_end": 1512,
            "count": 7
           },
           {
            "bin_start": 1512,
            "bin_end": 3024,
            "count": 0
           },
           {
            "bin_start": 3024,
            "bin_end": 4536,
            "count": 0
           },
           {
            "bin_start": 4536,
            "bin_end": 6048,
            "count": 0
           },
           {
            "bin_start": 6048,
            "bin_end": 7560,
            "count": 0
           },
           {
            "bin_start": 7560,
            "bin_end": 9072,
            "count": 0
           },
           {
            "bin_start": 9072,
            "bin_end": 10584,
            "count": 0
           },
           {
            "bin_start": 10584,
            "bin_end": 12096,
            "count": 0
           },
           {
            "bin_start": 12096,
            "bin_end": 13608,
            "count": 0
           },
           {
            "bin_start": 13608,
            "bin_end": 15120,
            "count": 1
           }
          ]
         }
        },
        {
         "name": "Soil_Type3",
         "dtype": "float64",
         "stats": {
          "unique_count": 5,
          "nan_count": 0,
          "min": "0.0",
          "max": "15120.0",
          "histogram": [
           {
            "bin_start": 0,
            "bin_end": 1512,
            "count": 7
           },
           {
            "bin_start": 1512,
            "bin_end": 3024,
            "count": 0
           },
           {
            "bin_start": 3024,
            "bin_end": 4536,
            "count": 0
           },
           {
            "bin_start": 4536,
            "bin_end": 6048,
            "count": 0
           },
           {
            "bin_start": 6048,
            "bin_end": 7560,
            "count": 0
           },
           {
            "bin_start": 7560,
            "bin_end": 9072,
            "count": 0
           },
           {
            "bin_start": 9072,
            "bin_end": 10584,
            "count": 0
           },
           {
            "bin_start": 10584,
            "bin_end": 12096,
            "count": 0
           },
           {
            "bin_start": 12096,
            "bin_end": 13608,
            "count": 0
           },
           {
            "bin_start": 13608,
            "bin_end": 15120,
            "count": 1
           }
          ]
         }
        },
        {
         "name": "Soil_Type4",
         "dtype": "float64",
         "stats": {
          "unique_count": 5,
          "nan_count": 0,
          "min": "0.0",
          "max": "15120.0",
          "histogram": [
           {
            "bin_start": 0,
            "bin_end": 1512,
            "count": 7
           },
           {
            "bin_start": 1512,
            "bin_end": 3024,
            "count": 0
           },
           {
            "bin_start": 3024,
            "bin_end": 4536,
            "count": 0
           },
           {
            "bin_start": 4536,
            "bin_end": 6048,
            "count": 0
           },
           {
            "bin_start": 6048,
            "bin_end": 7560,
            "count": 0
           },
           {
            "bin_start": 7560,
            "bin_end": 9072,
            "count": 0
           },
           {
            "bin_start": 9072,
            "bin_end": 10584,
            "count": 0
           },
           {
            "bin_start": 10584,
            "bin_end": 12096,
            "count": 0
           },
           {
            "bin_start": 12096,
            "bin_end": 13608,
            "count": 0
           },
           {
            "bin_start": 13608,
            "bin_end": 15120,
            "count": 1
           }
          ]
         }
        },
        {
         "name": "Soil_Type5",
         "dtype": "float64",
         "stats": {
          "unique_count": 5,
          "nan_count": 0,
          "min": "0.0",
          "max": "15120.0",
          "histogram": [
           {
            "bin_start": 0,
            "bin_end": 1512,
            "count": 7
           },
           {
            "bin_start": 1512,
            "bin_end": 3024,
            "count": 0
           },
           {
            "bin_start": 3024,
            "bin_end": 4536,
            "count": 0
           },
           {
            "bin_start": 4536,
            "bin_end": 6048,
            "count": 0
           },
           {
            "bin_start": 6048,
            "bin_end": 7560,
            "count": 0
           },
           {
            "bin_start": 7560,
            "bin_end": 9072,
            "count": 0
           },
           {
            "bin_start": 9072,
            "bin_end": 10584,
            "count": 0
           },
           {
            "bin_start": 10584,
            "bin_end": 12096,
            "count": 0
           },
           {
            "bin_start": 12096,
            "bin_end": 13608,
            "count": 0
           },
           {
            "bin_start": 13608,
            "bin_end": 15120,
            "count": 1
           }
          ]
         }
        },
        {
         "name": "Soil_Type6",
         "dtype": "float64",
         "stats": {
          "unique_count": 5,
          "nan_count": 0,
          "min": "0.0",
          "max": "15120.0",
          "histogram": [
           {
            "bin_start": 0,
            "bin_end": 1512,
            "count": 7
           },
           {
            "bin_start": 1512,
            "bin_end": 3024,
            "count": 0
           },
           {
            "bin_start": 3024,
            "bin_end": 4536,
            "count": 0
           },
           {
            "bin_start": 4536,
            "bin_end": 6048,
            "count": 0
           },
           {
            "bin_start": 6048,
            "bin_end": 7560,
            "count": 0
           },
           {
            "bin_start": 7560,
            "bin_end": 9072,
            "count": 0
           },
           {
            "bin_start": 9072,
            "bin_end": 10584,
            "count": 0
           },
           {
            "bin_start": 10584,
            "bin_end": 12096,
            "count": 0
           },
           {
            "bin_start": 12096,
            "bin_end": 13608,
            "count": 0
           },
           {
            "bin_start": 13608,
            "bin_end": 15120,
            "count": 1
           }
          ]
         }
        },
        {
         "name": "Soil_Type7",
         "dtype": "float64",
         "stats": {
          "unique_count": 2,
          "nan_count": 0,
          "min": "0.0",
          "max": "15120.0",
          "histogram": [
           {
            "bin_start": 0,
            "bin_end": 1512,
            "count": 7
           },
           {
            "bin_start": 1512,
            "bin_end": 3024,
            "count": 0
           },
           {
            "bin_start": 3024,
            "bin_end": 4536,
            "count": 0
           },
           {
            "bin_start": 4536,
            "bin_end": 6048,
            "count": 0
           },
           {
            "bin_start": 6048,
            "bin_end": 7560,
            "count": 0
           },
           {
            "bin_start": 7560,
            "bin_end": 9072,
            "count": 0
           },
           {
            "bin_start": 9072,
            "bin_end": 10584,
            "count": 0
           },
           {
            "bin_start": 10584,
            "bin_end": 12096,
            "count": 0
           },
           {
            "bin_start": 12096,
            "bin_end": 13608,
            "count": 0
           },
           {
            "bin_start": 13608,
            "bin_end": 15120,
            "count": 1
           }
          ]
         }
        },
        {
         "name": "Soil_Type8",
         "dtype": "float64",
         "stats": {
          "unique_count": 5,
          "nan_count": 0,
          "min": "0.0",
          "max": "15120.0",
          "histogram": [
           {
            "bin_start": 0,
            "bin_end": 1512,
            "count": 7
           },
           {
            "bin_start": 1512,
            "bin_end": 3024,
            "count": 0
           },
           {
            "bin_start": 3024,
            "bin_end": 4536,
            "count": 0
           },
           {
            "bin_start": 4536,
            "bin_end": 6048,
            "count": 0
           },
           {
            "bin_start": 6048,
            "bin_end": 7560,
            "count": 0
           },
           {
            "bin_start": 7560,
            "bin_end": 9072,
            "count": 0
           },
           {
            "bin_start": 9072,
            "bin_end": 10584,
            "count": 0
           },
           {
            "bin_start": 10584,
            "bin_end": 12096,
            "count": 0
           },
           {
            "bin_start": 12096,
            "bin_end": 13608,
            "count": 0
           },
           {
            "bin_start": 13608,
            "bin_end": 15120,
            "count": 1
           }
          ]
         }
        },
        {
         "name": "Soil_Type9",
         "dtype": "float64",
         "stats": {
          "unique_count": 5,
          "nan_count": 0,
          "min": "0.0",
          "max": "15120.0",
          "histogram": [
           {
            "bin_start": 0,
            "bin_end": 1512,
            "count": 7
           },
           {
            "bin_start": 1512,
            "bin_end": 3024,
            "count": 0
           },
           {
            "bin_start": 3024,
            "bin_end": 4536,
            "count": 0
           },
           {
            "bin_start": 4536,
            "bin_end": 6048,
            "count": 0
           },
           {
            "bin_start": 6048,
            "bin_end": 7560,
            "count": 0
           },
           {
            "bin_start": 7560,
            "bin_end": 9072,
            "count": 0
           },
           {
            "bin_start": 9072,
            "bin_end": 10584,
            "count": 0
           },
           {
            "bin_start": 10584,
            "bin_end": 12096,
            "count": 0
           },
           {
            "bin_start": 12096,
            "bin_end": 13608,
            "count": 0
           },
           {
            "bin_start": 13608,
            "bin_end": 15120,
            "count": 1
           }
          ]
         }
        },
        {
         "name": "Soil_Type10",
         "dtype": "float64",
         "stats": {
          "unique_count": 5,
          "nan_count": 0,
          "min": "0.0",
          "max": "15120.0",
          "histogram": [
           {
            "bin_start": 0,
            "bin_end": 1512,
            "count": 7
           },
           {
            "bin_start": 1512,
            "bin_end": 3024,
            "count": 0
           },
           {
            "bin_start": 3024,
            "bin_end": 4536,
            "count": 0
           },
           {
            "bin_start": 4536,
            "bin_end": 6048,
            "count": 0
           },
           {
            "bin_start": 6048,
            "bin_end": 7560,
            "count": 0
           },
           {
            "bin_start": 7560,
            "bin_end": 9072,
            "count": 0
           },
           {
            "bin_start": 9072,
            "bin_end": 10584,
            "count": 0
           },
           {
            "bin_start": 10584,
            "bin_end": 12096,
            "count": 0
           },
           {
            "bin_start": 12096,
            "bin_end": 13608,
            "count": 0
           },
           {
            "bin_start": 13608,
            "bin_end": 15120,
            "count": 1
           }
          ]
         }
        },
        {
         "name": "Soil_Type11",
         "dtype": "float64",
         "stats": {
          "unique_count": 5,
          "nan_count": 0,
          "min": "0.0",
          "max": "15120.0",
          "histogram": [
           {
            "bin_start": 0,
            "bin_end": 1512,
            "count": 7
           },
           {
            "bin_start": 1512,
            "bin_end": 3024,
            "count": 0
           },
           {
            "bin_start": 3024,
            "bin_end": 4536,
            "count": 0
           },
           {
            "bin_start": 4536,
            "bin_end": 6048,
            "count": 0
           },
           {
            "bin_start": 6048,
            "bin_end": 7560,
            "count": 0
           },
           {
            "bin_start": 7560,
            "bin_end": 9072,
            "count": 0
           },
           {
            "bin_start": 9072,
            "bin_end": 10584,
            "count": 0
           },
           {
            "bin_start": 10584,
            "bin_end": 12096,
            "count": 0
           },
           {
            "bin_start": 12096,
            "bin_end": 13608,
            "count": 0
           },
           {
            "bin_start": 13608,
            "bin_end": 15120,
            "count": 1
           }
          ]
         }
        },
        {
         "name": "Soil_Type12",
         "dtype": "float64",
         "stats": {
          "unique_count": 5,
          "nan_count": 0,
          "min": "0.0",
          "max": "15120.0",
          "histogram": [
           {
            "bin_start": 0,
            "bin_end": 1512,
            "count": 7
           },
           {
            "bin_start": 1512,
            "bin_end": 3024,
            "count": 0
           },
           {
            "bin_start": 3024,
            "bin_end": 4536,
            "count": 0
           },
           {
            "bin_start": 4536,
            "bin_end": 6048,
            "count": 0
           },
           {
            "bin_start": 6048,
            "bin_end": 7560,
            "count": 0
           },
           {
            "bin_start": 7560,
            "bin_end": 9072,
            "count": 0
           },
           {
            "bin_start": 9072,
            "bin_end": 10584,
            "count": 0
           },
           {
            "bin_start": 10584,
            "bin_end": 12096,
            "count": 0
           },
           {
            "bin_start": 12096,
            "bin_end": 13608,
            "count": 0
           },
           {
            "bin_start": 13608,
            "bin_end": 15120,
            "count": 1
           }
          ]
         }
        },
        {
         "name": "Soil_Type13",
         "dtype": "float64",
         "stats": {
          "unique_count": 5,
          "nan_count": 0,
          "min": "0.0",
          "max": "15120.0",
          "histogram": [
           {
            "bin_start": 0,
            "bin_end": 1512,
            "count": 7
           },
           {
            "bin_start": 1512,
            "bin_end": 3024,
            "count": 0
           },
           {
            "bin_start": 3024,
            "bin_end": 4536,
            "count": 0
           },
           {
            "bin_start": 4536,
            "bin_end": 6048,
            "count": 0
           },
           {
            "bin_start": 6048,
            "bin_end": 7560,
            "count": 0
           },
           {
            "bin_start": 7560,
            "bin_end": 9072,
            "count": 0
           },
           {
            "bin_start": 9072,
            "bin_end": 10584,
            "count": 0
           },
           {
            "bin_start": 10584,
            "bin_end": 12096,
            "count": 0
           },
           {
            "bin_start": 12096,
            "bin_end": 13608,
            "count": 0
           },
           {
            "bin_start": 13608,
            "bin_end": 15120,
            "count": 1
           }
          ]
         }
        },
        {
         "name": "Soil_Type14",
         "dtype": "float64",
         "stats": {
          "unique_count": 5,
          "nan_count": 0,
          "min": "0.0",
          "max": "15120.0",
          "histogram": [
           {
            "bin_start": 0,
            "bin_end": 1512,
            "count": 7
           },
           {
            "bin_start": 1512,
            "bin_end": 3024,
            "count": 0
           },
           {
            "bin_start": 3024,
            "bin_end": 4536,
            "count": 0
           },
           {
            "bin_start": 4536,
            "bin_end": 6048,
            "count": 0
           },
           {
            "bin_start": 6048,
            "bin_end": 7560,
            "count": 0
           },
           {
            "bin_start": 7560,
            "bin_end": 9072,
            "count": 0
           },
           {
            "bin_start": 9072,
            "bin_end": 10584,
            "count": 0
           },
           {
            "bin_start": 10584,
            "bin_end": 12096,
            "count": 0
           },
           {
            "bin_start": 12096,
            "bin_end": 13608,
            "count": 0
           },
           {
            "bin_start": 13608,
            "bin_end": 15120,
            "count": 1
           }
          ]
         }
        },
        {
         "name": "Soil_Type15",
         "dtype": "float64",
         "stats": {
          "unique_count": 2,
          "nan_count": 0,
          "min": "0.0",
          "max": "15120.0",
          "histogram": [
           {
            "bin_start": 0,
            "bin_end": 1512,
            "count": 7
           },
           {
            "bin_start": 1512,
            "bin_end": 3024,
            "count": 0
           },
           {
            "bin_start": 3024,
            "bin_end": 4536,
            "count": 0
           },
           {
            "bin_start": 4536,
            "bin_end": 6048,
            "count": 0
           },
           {
            "bin_start": 6048,
            "bin_end": 7560,
            "count": 0
           },
           {
            "bin_start": 7560,
            "bin_end": 9072,
            "count": 0
           },
           {
            "bin_start": 9072,
            "bin_end": 10584,
            "count": 0
           },
           {
            "bin_start": 10584,
            "bin_end": 12096,
            "count": 0
           },
           {
            "bin_start": 12096,
            "bin_end": 13608,
            "count": 0
           },
           {
            "bin_start": 13608,
            "bin_end": 15120,
            "count": 1
           }
          ]
         }
        },
        {
         "name": "Soil_Type16",
         "dtype": "float64",
         "stats": {
          "unique_count": 5,
          "nan_count": 0,
          "min": "0.0",
          "max": "15120.0",
          "histogram": [
           {
            "bin_start": 0,
            "bin_end": 1512,
            "count": 7
           },
           {
            "bin_start": 1512,
            "bin_end": 3024,
            "count": 0
           },
           {
            "bin_start": 3024,
            "bin_end": 4536,
            "count": 0
           },
           {
            "bin_start": 4536,
            "bin_end": 6048,
            "count": 0
           },
           {
            "bin_start": 6048,
            "bin_end": 7560,
            "count": 0
           },
           {
            "bin_start": 7560,
            "bin_end": 9072,
            "count": 0
           },
           {
            "bin_start": 9072,
            "bin_end": 10584,
            "count": 0
           },
           {
            "bin_start": 10584,
            "bin_end": 12096,
            "count": 0
           },
           {
            "bin_start": 12096,
            "bin_end": 13608,
            "count": 0
           },
           {
            "bin_start": 13608,
            "bin_end": 15120,
            "count": 1
           }
          ]
         }
        },
        {
         "name": "Soil_Type17",
         "dtype": "float64",
         "stats": {
          "unique_count": 5,
          "nan_count": 0,
          "min": "0.0",
          "max": "15120.0",
          "histogram": [
           {
            "bin_start": 0,
            "bin_end": 1512,
            "count": 7
           },
           {
            "bin_start": 1512,
            "bin_end": 3024,
            "count": 0
           },
           {
            "bin_start": 3024,
            "bin_end": 4536,
            "count": 0
           },
           {
            "bin_start": 4536,
            "bin_end": 6048,
            "count": 0
           },
           {
            "bin_start": 6048,
            "bin_end": 7560,
            "count": 0
           },
           {
            "bin_start": 7560,
            "bin_end": 9072,
            "count": 0
           },
           {
            "bin_start": 9072,
            "bin_end": 10584,
            "count": 0
           },
           {
            "bin_start": 10584,
            "bin_end": 12096,
            "count": 0
           },
           {
            "bin_start": 12096,
            "bin_end": 13608,
            "count": 0
           },
           {
            "bin_start": 13608,
            "bin_end": 15120,
            "count": 1
           }
          ]
         }
        },
        {
         "name": "Soil_Type18",
         "dtype": "float64",
         "stats": {
          "unique_count": 5,
          "nan_count": 0,
          "min": "0.0",
          "max": "15120.0",
          "histogram": [
           {
            "bin_start": 0,
            "bin_end": 1512,
            "count": 7
           },
           {
            "bin_start": 1512,
            "bin_end": 3024,
            "count": 0
           },
           {
            "bin_start": 3024,
            "bin_end": 4536,
            "count": 0
           },
           {
            "bin_start": 4536,
            "bin_end": 6048,
            "count": 0
           },
           {
            "bin_start": 6048,
            "bin_end": 7560,
            "count": 0
           },
           {
            "bin_start": 7560,
            "bin_end": 9072,
            "count": 0
           },
           {
            "bin_start": 9072,
            "bin_end": 10584,
            "count": 0
           },
           {
            "bin_start": 10584,
            "bin_end": 12096,
            "count": 0
           },
           {
            "bin_start": 12096,
            "bin_end": 13608,
            "count": 0
           },
           {
            "bin_start": 13608,
            "bin_end": 15120,
            "count": 1
           }
          ]
         }
        },
        {
         "name": "Soil_Type19",
         "dtype": "float64",
         "stats": {
          "unique_count": 5,
          "nan_count": 0,
          "min": "0.0",
          "max": "15120.0",
          "histogram": [
           {
            "bin_start": 0,
            "bin_end": 1512,
            "count": 7
           },
           {
            "bin_start": 1512,
            "bin_end": 3024,
            "count": 0
           },
           {
            "bin_start": 3024,
            "bin_end": 4536,
            "count": 0
           },
           {
            "bin_start": 4536,
            "bin_end": 6048,
            "count": 0
           },
           {
            "bin_start": 6048,
            "bin_end": 7560,
            "count": 0
           },
           {
            "bin_start": 7560,
            "bin_end": 9072,
            "count": 0
           },
           {
            "bin_start": 9072,
            "bin_end": 10584,
            "count": 0
           },
           {
            "bin_start": 10584,
            "bin_end": 12096,
            "count": 0
           },
           {
            "bin_start": 12096,
            "bin_end": 13608,
            "count": 0
           },
           {
            "bin_start": 13608,
            "bin_end": 15120,
            "count": 1
           }
          ]
         }
        },
        {
         "name": "Soil_Type20",
         "dtype": "float64",
         "stats": {
          "unique_count": 5,
          "nan_count": 0,
          "min": "0.0",
          "max": "15120.0",
          "histogram": [
           {
            "bin_start": 0,
            "bin_end": 1512,
            "count": 7
           },
           {
            "bin_start": 1512,
            "bin_end": 3024,
            "count": 0
           },
           {
            "bin_start": 3024,
            "bin_end": 4536,
            "count": 0
           },
           {
            "bin_start": 4536,
            "bin_end": 6048,
            "count": 0
           },
           {
            "bin_start": 6048,
            "bin_end": 7560,
            "count": 0
           },
           {
            "bin_start": 7560,
            "bin_end": 9072,
            "count": 0
           },
           {
            "bin_start": 9072,
            "bin_end": 10584,
            "count": 0
           },
           {
            "bin_start": 10584,
            "bin_end": 12096,
            "count": 0
           },
           {
            "bin_start": 12096,
            "bin_end": 13608,
            "count": 0
           },
           {
            "bin_start": 13608,
            "bin_end": 15120,
            "count": 1
           }
          ]
         }
        },
        {
         "name": "Soil_Type21",
         "dtype": "float64",
         "stats": {
          "unique_count": 5,
          "nan_count": 0,
          "min": "0.0",
          "max": "15120.0",
          "histogram": [
           {
            "bin_start": 0,
            "bin_end": 1512,
            "count": 7
           },
           {
            "bin_start": 1512,
            "bin_end": 3024,
            "count": 0
           },
           {
            "bin_start": 3024,
            "bin_end": 4536,
            "count": 0
           },
           {
            "bin_start": 4536,
            "bin_end": 6048,
            "count": 0
           },
           {
            "bin_start": 6048,
            "bin_end": 7560,
            "count": 0
           },
           {
            "bin_start": 7560,
            "bin_end": 9072,
            "count": 0
           },
           {
            "bin_start": 9072,
            "bin_end": 10584,
            "count": 0
           },
           {
            "bin_start": 10584,
            "bin_end": 12096,
            "count": 0
           },
           {
            "bin_start": 12096,
            "bin_end": 13608,
            "count": 0
           },
           {
            "bin_start": 13608,
            "bin_end": 15120,
            "count": 1
           }
          ]
         }
        },
        {
         "name": "Soil_Type22",
         "dtype": "float64",
         "stats": {
          "unique_count": 5,
          "nan_count": 0,
          "min": "0.0",
          "max": "15120.0",
          "histogram": [
           {
            "bin_start": 0,
            "bin_end": 1512,
            "count": 7
           },
           {
            "bin_start": 1512,
            "bin_end": 3024,
            "count": 0
           },
           {
            "bin_start": 3024,
            "bin_end": 4536,
            "count": 0
           },
           {
            "bin_start": 4536,
            "bin_end": 6048,
            "count": 0
           },
           {
            "bin_start": 6048,
            "bin_end": 7560,
            "count": 0
           },
           {
            "bin_start": 7560,
            "bin_end": 9072,
            "count": 0
           },
           {
            "bin_start": 9072,
            "bin_end": 10584,
            "count": 0
           },
           {
            "bin_start": 10584,
            "bin_end": 12096,
            "count": 0
           },
           {
            "bin_start": 12096,
            "bin_end": 13608,
            "count": 0
           },
           {
            "bin_start": 13608,
            "bin_end": 15120,
            "count": 1
           }
          ]
         }
        },
        {
         "name": "Soil_Type23",
         "dtype": "float64",
         "stats": {
          "unique_count": 5,
          "nan_count": 0,
          "min": "0.0",
          "max": "15120.0",
          "histogram": [
           {
            "bin_start": 0,
            "bin_end": 1512,
            "count": 7
           },
           {
            "bin_start": 1512,
            "bin_end": 3024,
            "count": 0
           },
           {
            "bin_start": 3024,
            "bin_end": 4536,
            "count": 0
           },
           {
            "bin_start": 4536,
            "bin_end": 6048,
            "count": 0
           },
           {
            "bin_start": 6048,
            "bin_end": 7560,
            "count": 0
           },
           {
            "bin_start": 7560,
            "bin_end": 9072,
            "count": 0
           },
           {
            "bin_start": 9072,
            "bin_end": 10584,
            "count": 0
           },
           {
            "bin_start": 10584,
            "bin_end": 12096,
            "count": 0
           },
           {
            "bin_start": 12096,
            "bin_end": 13608,
            "count": 0
           },
           {
            "bin_start": 13608,
            "bin_end": 15120,
            "count": 1
           }
          ]
         }
        },
        {
         "name": "Soil_Type24",
         "dtype": "float64",
         "stats": {
          "unique_count": 5,
          "nan_count": 0,
          "min": "0.0",
          "max": "15120.0",
          "histogram": [
           {
            "bin_start": 0,
            "bin_end": 1512,
            "count": 7
           },
           {
            "bin_start": 1512,
            "bin_end": 3024,
            "count": 0
           },
           {
            "bin_start": 3024,
            "bin_end": 4536,
            "count": 0
           },
           {
            "bin_start": 4536,
            "bin_end": 6048,
            "count": 0
           },
           {
            "bin_start": 6048,
            "bin_end": 7560,
            "count": 0
           },
           {
            "bin_start": 7560,
            "bin_end": 9072,
            "count": 0
           },
           {
            "bin_start": 9072,
            "bin_end": 10584,
            "count": 0
           },
           {
            "bin_start": 10584,
            "bin_end": 12096,
            "count": 0
           },
           {
            "bin_start": 12096,
            "bin_end": 13608,
            "count": 0
           },
           {
            "bin_start": 13608,
            "bin_end": 15120,
            "count": 1
           }
          ]
         }
        },
        {
         "name": "Soil_Type25",
         "dtype": "float64",
         "stats": {
          "unique_count": 5,
          "nan_count": 0,
          "min": "0.0",
          "max": "15120.0",
          "histogram": [
           {
            "bin_start": 0,
            "bin_end": 1512,
            "count": 7
           },
           {
            "bin_start": 1512,
            "bin_end": 3024,
            "count": 0
           },
           {
            "bin_start": 3024,
            "bin_end": 4536,
            "count": 0
           },
           {
            "bin_start": 4536,
            "bin_end": 6048,
            "count": 0
           },
           {
            "bin_start": 6048,
            "bin_end": 7560,
            "count": 0
           },
           {
            "bin_start": 7560,
            "bin_end": 9072,
            "count": 0
           },
           {
            "bin_start": 9072,
            "bin_end": 10584,
            "count": 0
           },
           {
            "bin_start": 10584,
            "bin_end": 12096,
            "count": 0
           },
           {
            "bin_start": 12096,
            "bin_end": 13608,
            "count": 0
           },
           {
            "bin_start": 13608,
            "bin_end": 15120,
            "count": 1
           }
          ]
         }
        },
        {
         "name": "Soil_Type26",
         "dtype": "float64",
         "stats": {
          "unique_count": 5,
          "nan_count": 0,
          "min": "0.0",
          "max": "15120.0",
          "histogram": [
           {
            "bin_start": 0,
            "bin_end": 1512,
            "count": 7
           },
           {
            "bin_start": 1512,
            "bin_end": 3024,
            "count": 0
           },
           {
            "bin_start": 3024,
            "bin_end": 4536,
            "count": 0
           },
           {
            "bin_start": 4536,
            "bin_end": 6048,
            "count": 0
           },
           {
            "bin_start": 6048,
            "bin_end": 7560,
            "count": 0
           },
           {
            "bin_start": 7560,
            "bin_end": 9072,
            "count": 0
           },
           {
            "bin_start": 9072,
            "bin_end": 10584,
            "count": 0
           },
           {
            "bin_start": 10584,
            "bin_end": 12096,
            "count": 0
           },
           {
            "bin_start": 12096,
            "bin_end": 13608,
            "count": 0
           },
           {
            "bin_start": 13608,
            "bin_end": 15120,
            "count": 1
           }
          ]
         }
        },
        {
         "name": "Soil_Type27",
         "dtype": "float64",
         "stats": {
          "unique_count": 5,
          "nan_count": 0,
          "min": "0.0",
          "max": "15120.0",
          "histogram": [
           {
            "bin_start": 0,
            "bin_end": 1512,
            "count": 7
           },
           {
            "bin_start": 1512,
            "bin_end": 3024,
            "count": 0
           },
           {
            "bin_start": 3024,
            "bin_end": 4536,
            "count": 0
           },
           {
            "bin_start": 4536,
            "bin_end": 6048,
            "count": 0
           },
           {
            "bin_start": 6048,
            "bin_end": 7560,
            "count": 0
           },
           {
            "bin_start": 7560,
            "bin_end": 9072,
            "count": 0
           },
           {
            "bin_start": 9072,
            "bin_end": 10584,
            "count": 0
           },
           {
            "bin_start": 10584,
            "bin_end": 12096,
            "count": 0
           },
           {
            "bin_start": 12096,
            "bin_end": 13608,
            "count": 0
           },
           {
            "bin_start": 13608,
            "bin_end": 15120,
            "count": 1
           }
          ]
         }
        },
        {
         "name": "Soil_Type28",
         "dtype": "float64",
         "stats": {
          "unique_count": 5,
          "nan_count": 0,
          "min": "0.0",
          "max": "15120.0",
          "histogram": [
           {
            "bin_start": 0,
            "bin_end": 1512,
            "count": 7
           },
           {
            "bin_start": 1512,
            "bin_end": 3024,
            "count": 0
           },
           {
            "bin_start": 3024,
            "bin_end": 4536,
            "count": 0
           },
           {
            "bin_start": 4536,
            "bin_end": 6048,
            "count": 0
           },
           {
            "bin_start": 6048,
            "bin_end": 7560,
            "count": 0
           },
           {
            "bin_start": 7560,
            "bin_end": 9072,
            "count": 0
           },
           {
            "bin_start": 9072,
            "bin_end": 10584,
            "count": 0
           },
           {
            "bin_start": 10584,
            "bin_end": 12096,
            "count": 0
           },
           {
            "bin_start": 12096,
            "bin_end": 13608,
            "count": 0
           },
           {
            "bin_start": 13608,
            "bin_end": 15120,
            "count": 1
           }
          ]
         }
        },
        {
         "name": "Soil_Type29",
         "dtype": "float64",
         "stats": {
          "unique_count": 5,
          "nan_count": 0,
          "min": "0.0",
          "max": "15120.0",
          "histogram": [
           {
            "bin_start": 0,
            "bin_end": 1512,
            "count": 7
           },
           {
            "bin_start": 1512,
            "bin_end": 3024,
            "count": 0
           },
           {
            "bin_start": 3024,
            "bin_end": 4536,
            "count": 0
           },
           {
            "bin_start": 4536,
            "bin_end": 6048,
            "count": 0
           },
           {
            "bin_start": 6048,
            "bin_end": 7560,
            "count": 0
           },
           {
            "bin_start": 7560,
            "bin_end": 9072,
            "count": 0
           },
           {
            "bin_start": 9072,
            "bin_end": 10584,
            "count": 0
           },
           {
            "bin_start": 10584,
            "bin_end": 12096,
            "count": 0
           },
           {
            "bin_start": 12096,
            "bin_end": 13608,
            "count": 0
           },
           {
            "bin_start": 13608,
            "bin_end": 15120,
            "count": 1
           }
          ]
         }
        },
        {
         "name": "Soil_Type30",
         "dtype": "float64",
         "stats": {
          "unique_count": 5,
          "nan_count": 0,
          "min": "0.0",
          "max": "15120.0",
          "histogram": [
           {
            "bin_start": 0,
            "bin_end": 1512,
            "count": 7
           },
           {
            "bin_start": 1512,
            "bin_end": 3024,
            "count": 0
           },
           {
            "bin_start": 3024,
            "bin_end": 4536,
            "count": 0
           },
           {
            "bin_start": 4536,
            "bin_end": 6048,
            "count": 0
           },
           {
            "bin_start": 6048,
            "bin_end": 7560,
            "count": 0
           },
           {
            "bin_start": 7560,
            "bin_end": 9072,
            "count": 0
           },
           {
            "bin_start": 9072,
            "bin_end": 10584,
            "count": 0
           },
           {
            "bin_start": 10584,
            "bin_end": 12096,
            "count": 0
           },
           {
            "bin_start": 12096,
            "bin_end": 13608,
            "count": 0
           },
           {
            "bin_start": 13608,
            "bin_end": 15120,
            "count": 1
           }
          ]
         }
        },
        {
         "name": "Soil_Type31",
         "dtype": "float64",
         "stats": {
          "unique_count": 5,
          "nan_count": 0,
          "min": "0.0",
          "max": "15120.0",
          "histogram": [
           {
            "bin_start": 0,
            "bin_end": 1512,
            "count": 7
           },
           {
            "bin_start": 1512,
            "bin_end": 3024,
            "count": 0
           },
           {
            "bin_start": 3024,
            "bin_end": 4536,
            "count": 0
           },
           {
            "bin_start": 4536,
            "bin_end": 6048,
            "count": 0
           },
           {
            "bin_start": 6048,
            "bin_end": 7560,
            "count": 0
           },
           {
            "bin_start": 7560,
            "bin_end": 9072,
            "count": 0
           },
           {
            "bin_start": 9072,
            "bin_end": 10584,
            "count": 0
           },
           {
            "bin_start": 10584,
            "bin_end": 12096,
            "count": 0
           },
           {
            "bin_start": 12096,
            "bin_end": 13608,
            "count": 0
           },
           {
            "bin_start": 13608,
            "bin_end": 15120,
            "count": 1
           }
          ]
         }
        },
        {
         "name": "Soil_Type32",
         "dtype": "float64",
         "stats": {
          "unique_count": 5,
          "nan_count": 0,
          "min": "0.0",
          "max": "15120.0",
          "histogram": [
           {
            "bin_start": 0,
            "bin_end": 1512,
            "count": 7
           },
           {
            "bin_start": 1512,
            "bin_end": 3024,
            "count": 0
           },
           {
            "bin_start": 3024,
            "bin_end": 4536,
            "count": 0
           },
           {
            "bin_start": 4536,
            "bin_end": 6048,
            "count": 0
           },
           {
            "bin_start": 6048,
            "bin_end": 7560,
            "count": 0
           },
           {
            "bin_start": 7560,
            "bin_end": 9072,
            "count": 0
           },
           {
            "bin_start": 9072,
            "bin_end": 10584,
            "count": 0
           },
           {
            "bin_start": 10584,
            "bin_end": 12096,
            "count": 0
           },
           {
            "bin_start": 12096,
            "bin_end": 13608,
            "count": 0
           },
           {
            "bin_start": 13608,
            "bin_end": 15120,
            "count": 1
           }
          ]
         }
        },
        {
         "name": "Soil_Type33",
         "dtype": "float64",
         "stats": {
          "unique_count": 5,
          "nan_count": 0,
          "min": "0.0",
          "max": "15120.0",
          "histogram": [
           {
            "bin_start": 0,
            "bin_end": 1512,
            "count": 7
           },
           {
            "bin_start": 1512,
            "bin_end": 3024,
            "count": 0
           },
           {
            "bin_start": 3024,
            "bin_end": 4536,
            "count": 0
           },
           {
            "bin_start": 4536,
            "bin_end": 6048,
            "count": 0
           },
           {
            "bin_start": 6048,
            "bin_end": 7560,
            "count": 0
           },
           {
            "bin_start": 7560,
            "bin_end": 9072,
            "count": 0
           },
           {
            "bin_start": 9072,
            "bin_end": 10584,
            "count": 0
           },
           {
            "bin_start": 10584,
            "bin_end": 12096,
            "count": 0
           },
           {
            "bin_start": 12096,
            "bin_end": 13608,
            "count": 0
           },
           {
            "bin_start": 13608,
            "bin_end": 15120,
            "count": 1
           }
          ]
         }
        },
        {
         "name": "Soil_Type34",
         "dtype": "float64",
         "stats": {
          "unique_count": 5,
          "nan_count": 0,
          "min": "0.0",
          "max": "15120.0",
          "histogram": [
           {
            "bin_start": 0,
            "bin_end": 1512,
            "count": 7
           },
           {
            "bin_start": 1512,
            "bin_end": 3024,
            "count": 0
           },
           {
            "bin_start": 3024,
            "bin_end": 4536,
            "count": 0
           },
           {
            "bin_start": 4536,
            "bin_end": 6048,
            "count": 0
           },
           {
            "bin_start": 6048,
            "bin_end": 7560,
            "count": 0
           },
           {
            "bin_start": 7560,
            "bin_end": 9072,
            "count": 0
           },
           {
            "bin_start": 9072,
            "bin_end": 10584,
            "count": 0
           },
           {
            "bin_start": 10584,
            "bin_end": 12096,
            "count": 0
           },
           {
            "bin_start": 12096,
            "bin_end": 13608,
            "count": 0
           },
           {
            "bin_start": 13608,
            "bin_end": 15120,
            "count": 1
           }
          ]
         }
        },
        {
         "name": "Soil_Type35",
         "dtype": "float64",
         "stats": {
          "unique_count": 5,
          "nan_count": 0,
          "min": "0.0",
          "max": "15120.0",
          "histogram": [
           {
            "bin_start": 0,
            "bin_end": 1512,
            "count": 7
           },
           {
            "bin_start": 1512,
            "bin_end": 3024,
            "count": 0
           },
           {
            "bin_start": 3024,
            "bin_end": 4536,
            "count": 0
           },
           {
            "bin_start": 4536,
            "bin_end": 6048,
            "count": 0
           },
           {
            "bin_start": 6048,
            "bin_end": 7560,
            "count": 0
           },
           {
            "bin_start": 7560,
            "bin_end": 9072,
            "count": 0
           },
           {
            "bin_start": 9072,
            "bin_end": 10584,
            "count": 0
           },
           {
            "bin_start": 10584,
            "bin_end": 12096,
            "count": 0
           },
           {
            "bin_start": 12096,
            "bin_end": 13608,
            "count": 0
           },
           {
            "bin_start": 13608,
            "bin_end": 15120,
            "count": 1
           }
          ]
         }
        },
        {
         "name": "Soil_Type36",
         "dtype": "float64",
         "stats": {
          "unique_count": 5,
          "nan_count": 0,
          "min": "0.0",
          "max": "15120.0",
          "histogram": [
           {
            "bin_start": 0,
            "bin_end": 1512,
            "count": 7
           },
           {
            "bin_start": 1512,
            "bin_end": 3024,
            "count": 0
           },
           {
            "bin_start": 3024,
            "bin_end": 4536,
            "count": 0
           },
           {
            "bin_start": 4536,
            "bin_end": 6048,
            "count": 0
           },
           {
            "bin_start": 6048,
            "bin_end": 7560,
            "count": 0
           },
           {
            "bin_start": 7560,
            "bin_end": 9072,
            "count": 0
           },
           {
            "bin_start": 9072,
            "bin_end": 10584,
            "count": 0
           },
           {
            "bin_start": 10584,
            "bin_end": 12096,
            "count": 0
           },
           {
            "bin_start": 12096,
            "bin_end": 13608,
            "count": 0
           },
           {
            "bin_start": 13608,
            "bin_end": 15120,
            "count": 1
           }
          ]
         }
        },
        {
         "name": "Soil_Type37",
         "dtype": "float64",
         "stats": {
          "unique_count": 5,
          "nan_count": 0,
          "min": "0.0",
          "max": "15120.0",
          "histogram": [
           {
            "bin_start": 0,
            "bin_end": 1512,
            "count": 7
           },
           {
            "bin_start": 1512,
            "bin_end": 3024,
            "count": 0
           },
           {
            "bin_start": 3024,
            "bin_end": 4536,
            "count": 0
           },
           {
            "bin_start": 4536,
            "bin_end": 6048,
            "count": 0
           },
           {
            "bin_start": 6048,
            "bin_end": 7560,
            "count": 0
           },
           {
            "bin_start": 7560,
            "bin_end": 9072,
            "count": 0
           },
           {
            "bin_start": 9072,
            "bin_end": 10584,
            "count": 0
           },
           {
            "bin_start": 10584,
            "bin_end": 12096,
            "count": 0
           },
           {
            "bin_start": 12096,
            "bin_end": 13608,
            "count": 0
           },
           {
            "bin_start": 13608,
            "bin_end": 15120,
            "count": 1
           }
          ]
         }
        },
        {
         "name": "Soil_Type38",
         "dtype": "float64",
         "stats": {
          "unique_count": 5,
          "nan_count": 0,
          "min": "0.0",
          "max": "15120.0",
          "histogram": [
           {
            "bin_start": 0,
            "bin_end": 1512,
            "count": 7
           },
           {
            "bin_start": 1512,
            "bin_end": 3024,
            "count": 0
           },
           {
            "bin_start": 3024,
            "bin_end": 4536,
            "count": 0
           },
           {
            "bin_start": 4536,
            "bin_end": 6048,
            "count": 0
           },
           {
            "bin_start": 6048,
            "bin_end": 7560,
            "count": 0
           },
           {
            "bin_start": 7560,
            "bin_end": 9072,
            "count": 0
           },
           {
            "bin_start": 9072,
            "bin_end": 10584,
            "count": 0
           },
           {
            "bin_start": 10584,
            "bin_end": 12096,
            "count": 0
           },
           {
            "bin_start": 12096,
            "bin_end": 13608,
            "count": 0
           },
           {
            "bin_start": 13608,
            "bin_end": 15120,
            "count": 1
           }
          ]
         }
        },
        {
         "name": "Soil_Type39",
         "dtype": "float64",
         "stats": {
          "unique_count": 5,
          "nan_count": 0,
          "min": "0.0",
          "max": "15120.0",
          "histogram": [
           {
            "bin_start": 0,
            "bin_end": 1512,
            "count": 7
           },
           {
            "bin_start": 1512,
            "bin_end": 3024,
            "count": 0
           },
           {
            "bin_start": 3024,
            "bin_end": 4536,
            "count": 0
           },
           {
            "bin_start": 4536,
            "bin_end": 6048,
            "count": 0
           },
           {
            "bin_start": 6048,
            "bin_end": 7560,
            "count": 0
           },
           {
            "bin_start": 7560,
            "bin_end": 9072,
            "count": 0
           },
           {
            "bin_start": 9072,
            "bin_end": 10584,
            "count": 0
           },
           {
            "bin_start": 10584,
            "bin_end": 12096,
            "count": 0
           },
           {
            "bin_start": 12096,
            "bin_end": 13608,
            "count": 0
           },
           {
            "bin_start": 13608,
            "bin_end": 15120,
            "count": 1
           }
          ]
         }
        },
        {
         "name": "Soil_Type40",
         "dtype": "float64",
         "stats": {
          "unique_count": 5,
          "nan_count": 0,
          "min": "0.0",
          "max": "15120.0",
          "histogram": [
           {
            "bin_start": 0,
            "bin_end": 1512,
            "count": 7
           },
           {
            "bin_start": 1512,
            "bin_end": 3024,
            "count": 0
           },
           {
            "bin_start": 3024,
            "bin_end": 4536,
            "count": 0
           },
           {
            "bin_start": 4536,
            "bin_end": 6048,
            "count": 0
           },
           {
            "bin_start": 6048,
            "bin_end": 7560,
            "count": 0
           },
           {
            "bin_start": 7560,
            "bin_end": 9072,
            "count": 0
           },
           {
            "bin_start": 9072,
            "bin_end": 10584,
            "count": 0
           },
           {
            "bin_start": 10584,
            "bin_end": 12096,
            "count": 0
           },
           {
            "bin_start": 12096,
            "bin_end": 13608,
            "count": 0
           },
           {
            "bin_start": 13608,
            "bin_end": 15120,
            "count": 1
           }
          ]
         }
        },
        {
         "name": "Cover_Type",
         "dtype": "float64",
         "stats": {
          "unique_count": 7,
          "nan_count": 0,
          "min": "1.0",
          "max": "15120.0",
          "histogram": [
           {
            "bin_start": 1,
            "bin_end": 1512.9,
            "count": 7
           },
           {
            "bin_start": 1512.9,
            "bin_end": 3024.8,
            "count": 0
           },
           {
            "bin_start": 3024.8,
            "bin_end": 4536.700000000001,
            "count": 0
           },
           {
            "bin_start": 4536.700000000001,
            "bin_end": 6048.6,
            "count": 0
           },
           {
            "bin_start": 6048.6,
            "bin_end": 7560.5,
            "count": 0
           },
           {
            "bin_start": 7560.5,
            "bin_end": 9072.400000000001,
            "count": 0
           },
           {
            "bin_start": 9072.400000000001,
            "bin_end": 10584.300000000001,
            "count": 0
           },
           {
            "bin_start": 10584.300000000001,
            "bin_end": 12096.2,
            "count": 0
           },
           {
            "bin_start": 12096.2,
            "bin_end": 13608.1,
            "count": 0
           },
           {
            "bin_start": 13608.1,
            "bin_end": 15120,
            "count": 1
           }
          ]
         }
        },
        {
         "name": "_deepnote_index_column",
         "dtype": "object"
        }
       ],
       "rows": [
        {
         "Id": 15120,
         "Elevation": 15120,
         "Aspect": 15120,
         "Slope": 15120,
         "Horizontal_Distance_To_Hydrology": 15120,
         "Vertical_Distance_To_Hydrology": 15120,
         "Horizontal_Distance_To_Roadways": 15120,
         "Hillshade_9am": 15120,
         "Hillshade_Noon": 15120,
         "Hillshade_3pm": 15120,
         "Horizontal_Distance_To_Fire_Points": 15120,
         "Wilderness_Area1": 15120,
         "Wilderness_Area2": 15120,
         "Wilderness_Area3": 15120,
         "Wilderness_Area4": 15120,
         "Soil_Type1": 15120,
         "Soil_Type2": 15120,
         "Soil_Type3": 15120,
         "Soil_Type4": 15120,
         "Soil_Type5": 15120,
         "Soil_Type6": 15120,
         "Soil_Type7": 15120,
         "Soil_Type8": 15120,
         "Soil_Type9": 15120,
         "Soil_Type10": 15120,
         "Soil_Type11": 15120,
         "Soil_Type12": 15120,
         "Soil_Type13": 15120,
         "Soil_Type14": 15120,
         "Soil_Type15": 15120,
         "Soil_Type16": 15120,
         "Soil_Type17": 15120,
         "Soil_Type18": 15120,
         "Soil_Type19": 15120,
         "Soil_Type20": 15120,
         "Soil_Type21": 15120,
         "Soil_Type22": 15120,
         "Soil_Type23": 15120,
         "Soil_Type24": 15120,
         "Soil_Type25": 15120,
         "Soil_Type26": 15120,
         "Soil_Type27": 15120,
         "Soil_Type28": 15120,
         "Soil_Type29": 15120,
         "Soil_Type30": 15120,
         "Soil_Type31": 15120,
         "Soil_Type32": 15120,
         "Soil_Type33": 15120,
         "Soil_Type34": 15120,
         "Soil_Type35": 15120,
         "Soil_Type36": 15120,
         "Soil_Type37": 15120,
         "Soil_Type38": 15120,
         "Soil_Type39": 15120,
         "Soil_Type40": 15120,
         "Cover_Type": 15120,
         "_deepnote_index_column": "count"
        },
        {
         "Id": 7560.5,
         "Elevation": 2749.3225529100528,
         "Aspect": 156.67665343915343,
         "Slope": 16.501587301587303,
         "Horizontal_Distance_To_Hydrology": 227.19570105820105,
         "Vertical_Distance_To_Hydrology": 51.076521164021166,
         "Horizontal_Distance_To_Roadways": 1714.0232142857142,
         "Hillshade_9am": 212.70429894179895,
         "Hillshade_Noon": 218.96560846560845,
         "Hillshade_3pm": 135.09199735449735,
         "Horizontal_Distance_To_Fire_Points": 1511.1472883597883,
         "Wilderness_Area1": 0.23789682539682538,
         "Wilderness_Area2": 0.033002645502645506,
         "Wilderness_Area3": 0.4199074074074074,
         "Wilderness_Area4": 0.3091931216931217,
         "Soil_Type1": 0.023478835978835978,
         "Soil_Type2": 0.0412037037037037,
         "Soil_Type3": 0.06362433862433862,
         "Soil_Type4": 0.05575396825396826,
         "Soil_Type5": 0.010912698412698412,
         "Soil_Type6": 0.04298941798941799,
         "Soil_Type7": 0,
         "Soil_Type8": 0.00006613756613756614,
         "Soil_Type9": 0.0006613756613756613,
         "Soil_Type10": 0.14166666666666666,
         "Soil_Type11": 0.026851851851851852,
         "Soil_Type12": 0.015013227513227513,
         "Soil_Type13": 0.03148148148148148,
         "Soil_Type14": 0.011177248677248678,
         "Soil_Type15": 0,
         "Soil_Type16": 0.00753968253968254,
         "Soil_Type17": 0.04047619047619048,
         "Soil_Type18": 0.003968253968253968,
         "Soil_Type19": 0.0030423280423280425,
         "Soil_Type20": 0.009193121693121692,
         "Soil_Type21": 0.0010582010582010583,
         "Soil_Type22": 0.022817460317460316,
         "Soil_Type23": 0.050066137566137564,
         "Soil_Type24": 0.016997354497354497,
         "Soil_Type25": 0.00006613756613756614,
         "Soil_Type26": 0.0035714285714285713,
         "Soil_Type27": 0.000992063492063492,
         "Soil_Type28": 0.0005952380952380953,
         "Soil_Type29": 0.08538359788359788,
         "Soil_Type30": 0.04794973544973545,
         "Soil_Type31": 0.021957671957671957,
         "Soil_Type32": 0.04563492063492063,
         "Soil_Type33": 0.040740740740740744,
         "Soil_Type34": 0.001455026455026455,
         "Soil_Type35": 0.006746031746031746,
         "Soil_Type36": 0.0006613756613756613,
         "Soil_Type37": 0.0022486772486772486,
         "Soil_Type38": 0.04814814814814815,
         "Soil_Type39": 0.04345238095238095,
         "Soil_Type40": 0.030357142857142857,
         "Cover_Type": 4,
         "_deepnote_index_column": "mean"
        },
        {
         "Id": 4364.912370254413,
         "Elevation": 417.6781873480492,
         "Aspect": 110.0858013861044,
         "Slope": 8.453926761999572,
         "Horizontal_Distance_To_Hydrology": 210.07529570239012,
         "Vertical_Distance_To_Hydrology": 61.23940612944461,
         "Horizontal_Distance_To_Roadways": 1325.0663581692581,
         "Hillshade_9am": 30.561286886177,
         "Hillshade_Noon": 22.801965544098575,
         "Hillshade_3pm": 45.89518870821424,
         "Horizontal_Distance_To_Fire_Points": 1099.9364926736125,
         "Wilderness_Area1": 0.4258097198563575,
         "Wilderness_Area2": 0.17864932608708176,
         "Wilderness_Area3": 0.4935598117838208,
         "Wilderness_Area4": 0.46217622464682095,
         "Soil_Type1": 0.15142356723629694,
         "Soil_Type2": 0.19876763193629401,
         "Soil_Type3": 0.24409060336250168,
         "Soil_Type4": 0.22945357994812152,
         "Soil_Type5": 0.1038957426291268,
         "Soil_Type6": 0.20283995932167176,
         "Soil_Type7": 0,
         "Soil_Type8": 0.008132500607904443,
         "Soil_Type9": 0.025709569411957355,
         "Soil_Type10": 0.34871946446746005,
         "Soil_Type11": 0.16165567805610018,
         "Soil_Type12": 0.12160924557232905,
         "Soil_Type13": 0.1746207733899185,
         "Soil_Type14": 0.10513348092307406,
         "Soil_Type15": 0,
         "Soil_Type16": 0.08650624634186566,
         "Soil_Type17": 0.19707977393105536,
         "Soil_Type18": 0.06287104544363742,
         "Soil_Type19": 0.05507515679231117,
         "Soil_Type20": 0.09544218494816714,
         "Soil_Type21": 0.03251386144597363,
         "Soil_Type22": 0.14932614833751773,
         "Soil_Type23": 0.2180886634244335,
         "Soil_Type24": 0.1292654229343073,
         "Soil_Type25": 0.008132500607904445,
         "Soil_Type26": 0.059656590976664085,
         "Soil_Type27": 0.031482453112798243,
         "Soil_Type28": 0.02439104617715626,
         "Soil_Type29": 0.2794609173649007,
         "Soil_Type30": 0.21366697858244918,
         "Soil_Type31": 0.14655017240956386,
         "Soil_Type32": 0.20869895853152373,
         "Soil_Type33": 0.1976955175854311,
         "Soil_Type34": 0.038118308609981125,
         "Soil_Type35": 0.08185942821260388,
         "Soil_Type36": 0.02570956941195736,
         "Soil_Type37": 0.04736843988074298,
         "Soil_Type38": 0.2140862799360084,
         "Soil_Type39": 0.20387991731293623,
         "Soil_Type40": 0.17157369746416068,
         "Cover_Type": 2.000066140846952,
         "_deepnote_index_column": "std"
        },
        {
         "Id": 1,
         "Elevation": 1863,
         "Aspect": 0,
         "Slope": 0,
         "Horizontal_Distance_To_Hydrology": 0,
         "Vertical_Distance_To_Hydrology": -146,
         "Horizontal_Distance_To_Roadways": 0,
         "Hillshade_9am": 0,
         "Hillshade_Noon": 99,
         "Hillshade_3pm": 0,
         "Horizontal_Distance_To_Fire_Points": 0,
         "Wilderness_Area1": 0,
         "Wilderness_Area2": 0,
         "Wilderness_Area3": 0,
         "Wilderness_Area4": 0,
         "Soil_Type1": 0,
         "Soil_Type2": 0,
         "Soil_Type3": 0,
         "Soil_Type4": 0,
         "Soil_Type5": 0,
         "Soil_Type6": 0,
         "Soil_Type7": 0,
         "Soil_Type8": 0,
         "Soil_Type9": 0,
         "Soil_Type10": 0,
         "Soil_Type11": 0,
         "Soil_Type12": 0,
         "Soil_Type13": 0,
         "Soil_Type14": 0,
         "Soil_Type15": 0,
         "Soil_Type16": 0,
         "Soil_Type17": 0,
         "Soil_Type18": 0,
         "Soil_Type19": 0,
         "Soil_Type20": 0,
         "Soil_Type21": 0,
         "Soil_Type22": 0,
         "Soil_Type23": 0,
         "Soil_Type24": 0,
         "Soil_Type25": 0,
         "Soil_Type26": 0,
         "Soil_Type27": 0,
         "Soil_Type28": 0,
         "Soil_Type29": 0,
         "Soil_Type30": 0,
         "Soil_Type31": 0,
         "Soil_Type32": 0,
         "Soil_Type33": 0,
         "Soil_Type34": 0,
         "Soil_Type35": 0,
         "Soil_Type36": 0,
         "Soil_Type37": 0,
         "Soil_Type38": 0,
         "Soil_Type39": 0,
         "Soil_Type40": 0,
         "Cover_Type": 1,
         "_deepnote_index_column": "min"
        },
        {
         "Id": 3780.75,
         "Elevation": 2376,
         "Aspect": 65,
         "Slope": 10,
         "Horizontal_Distance_To_Hydrology": 67,
         "Vertical_Distance_To_Hydrology": 5,
         "Horizontal_Distance_To_Roadways": 764,
         "Hillshade_9am": 196,
         "Hillshade_Noon": 207,
         "Hillshade_3pm": 106,
         "Horizontal_Distance_To_Fire_Points": 730,
         "Wilderness_Area1": 0,
         "Wilderness_Area2": 0,
         "Wilderness_Area3": 0,
         "Wilderness_Area4": 0,
         "Soil_Type1": 0,
         "Soil_Type2": 0,
         "Soil_Type3": 0,
         "Soil_Type4": 0,
         "Soil_Type5": 0,
         "Soil_Type6": 0,
         "Soil_Type7": 0,
         "Soil_Type8": 0,
         "Soil_Type9": 0,
         "Soil_Type10": 0,
         "Soil_Type11": 0,
         "Soil_Type12": 0,
         "Soil_Type13": 0,
         "Soil_Type14": 0,
         "Soil_Type15": 0,
         "Soil_Type16": 0,
         "Soil_Type17": 0,
         "Soil_Type18": 0,
         "Soil_Type19": 0,
         "Soil_Type20": 0,
         "Soil_Type21": 0,
         "Soil_Type22": 0,
         "Soil_Type23": 0,
         "Soil_Type24": 0,
         "Soil_Type25": 0,
         "Soil_Type26": 0,
         "Soil_Type27": 0,
         "Soil_Type28": 0,
         "Soil_Type29": 0,
         "Soil_Type30": 0,
         "Soil_Type31": 0,
         "Soil_Type32": 0,
         "Soil_Type33": 0,
         "Soil_Type34": 0,
         "Soil_Type35": 0,
         "Soil_Type36": 0,
         "Soil_Type37": 0,
         "Soil_Type38": 0,
         "Soil_Type39": 0,
         "Soil_Type40": 0,
         "Cover_Type": 2,
         "_deepnote_index_column": "25%"
        },
        {
         "Id": 7560.5,
         "Elevation": 2752,
         "Aspect": 126,
         "Slope": 15,
         "Horizontal_Distance_To_Hydrology": 180,
         "Vertical_Distance_To_Hydrology": 32,
         "Horizontal_Distance_To_Roadways": 1316,
         "Hillshade_9am": 220,
         "Hillshade_Noon": 223,
         "Hillshade_3pm": 138,
         "Horizontal_Distance_To_Fire_Points": 1256,
         "Wilderness_Area1": 0,
         "Wilderness_Area2": 0,
         "Wilderness_Area3": 0,
         "Wilderness_Area4": 0,
         "Soil_Type1": 0,
         "Soil_Type2": 0,
         "Soil_Type3": 0,
         "Soil_Type4": 0,
         "Soil_Type5": 0,
         "Soil_Type6": 0,
         "Soil_Type7": 0,
         "Soil_Type8": 0,
         "Soil_Type9": 0,
         "Soil_Type10": 0,
         "Soil_Type11": 0,
         "Soil_Type12": 0,
         "Soil_Type13": 0,
         "Soil_Type14": 0,
         "Soil_Type15": 0,
         "Soil_Type16": 0,
         "Soil_Type17": 0,
         "Soil_Type18": 0,
         "Soil_Type19": 0,
         "Soil_Type20": 0,
         "Soil_Type21": 0,
         "Soil_Type22": 0,
         "Soil_Type23": 0,
         "Soil_Type24": 0,
         "Soil_Type25": 0,
         "Soil_Type26": 0,
         "Soil_Type27": 0,
         "Soil_Type28": 0,
         "Soil_Type29": 0,
         "Soil_Type30": 0,
         "Soil_Type31": 0,
         "Soil_Type32": 0,
         "Soil_Type33": 0,
         "Soil_Type34": 0,
         "Soil_Type35": 0,
         "Soil_Type36": 0,
         "Soil_Type37": 0,
         "Soil_Type38": 0,
         "Soil_Type39": 0,
         "Soil_Type40": 0,
         "Cover_Type": 4,
         "_deepnote_index_column": "50%"
        },
        {
         "Id": 11340.25,
         "Elevation": 3104,
         "Aspect": 261,
         "Slope": 22,
         "Horizontal_Distance_To_Hydrology": 330,
         "Vertical_Distance_To_Hydrology": 79,
         "Horizontal_Distance_To_Roadways": 2270,
         "Hillshade_9am": 235,
         "Hillshade_Noon": 235,
         "Hillshade_3pm": 167,
         "Horizontal_Distance_To_Fire_Points": 1988.25,
         "Wilderness_Area1": 0,
         "Wilderness_Area2": 0,
         "Wilderness_Area3": 1,
         "Wilderness_Area4": 1,
         "Soil_Type1": 0,
         "Soil_Type2": 0,
         "Soil_Type3": 0,
         "Soil_Type4": 0,
         "Soil_Type5": 0,
         "Soil_Type6": 0,
         "Soil_Type7": 0,
         "Soil_Type8": 0,
         "Soil_Type9": 0,
         "Soil_Type10": 0,
         "Soil_Type11": 0,
         "Soil_Type12": 0,
         "Soil_Type13": 0,
         "Soil_Type14": 0,
         "Soil_Type15": 0,
         "Soil_Type16": 0,
         "Soil_Type17": 0,
         "Soil_Type18": 0,
         "Soil_Type19": 0,
         "Soil_Type20": 0,
         "Soil_Type21": 0,
         "Soil_Type22": 0,
         "Soil_Type23": 0,
         "Soil_Type24": 0,
         "Soil_Type25": 0,
         "Soil_Type26": 0,
         "Soil_Type27": 0,
         "Soil_Type28": 0,
         "Soil_Type29": 0,
         "Soil_Type30": 0,
         "Soil_Type31": 0,
         "Soil_Type32": 0,
         "Soil_Type33": 0,
         "Soil_Type34": 0,
         "Soil_Type35": 0,
         "Soil_Type36": 0,
         "Soil_Type37": 0,
         "Soil_Type38": 0,
         "Soil_Type39": 0,
         "Soil_Type40": 0,
         "Cover_Type": 6,
         "_deepnote_index_column": "75%"
        },
        {
         "Id": 15120,
         "Elevation": 3849,
         "Aspect": 360,
         "Slope": 52,
         "Horizontal_Distance_To_Hydrology": 1343,
         "Vertical_Distance_To_Hydrology": 554,
         "Horizontal_Distance_To_Roadways": 6890,
         "Hillshade_9am": 254,
         "Hillshade_Noon": 254,
         "Hillshade_3pm": 248,
         "Horizontal_Distance_To_Fire_Points": 6993,
         "Wilderness_Area1": 1,
         "Wilderness_Area2": 1,
         "Wilderness_Area3": 1,
         "Wilderness_Area4": 1,
         "Soil_Type1": 1,
         "Soil_Type2": 1,
         "Soil_Type3": 1,
         "Soil_Type4": 1,
         "Soil_Type5": 1,
         "Soil_Type6": 1,
         "Soil_Type7": 0,
         "Soil_Type8": 1,
         "Soil_Type9": 1,
         "Soil_Type10": 1,
         "Soil_Type11": 1,
         "Soil_Type12": 1,
         "Soil_Type13": 1,
         "Soil_Type14": 1,
         "Soil_Type15": 0,
         "Soil_Type16": 1,
         "Soil_Type17": 1,
         "Soil_Type18": 1,
         "Soil_Type19": 1,
         "Soil_Type20": 1,
         "Soil_Type21": 1,
         "Soil_Type22": 1,
         "Soil_Type23": 1,
         "Soil_Type24": 1,
         "Soil_Type25": 1,
         "Soil_Type26": 1,
         "Soil_Type27": 1,
         "Soil_Type28": 1,
         "Soil_Type29": 1,
         "Soil_Type30": 1,
         "Soil_Type31": 1,
         "Soil_Type32": 1,
         "Soil_Type33": 1,
         "Soil_Type34": 1,
         "Soil_Type35": 1,
         "Soil_Type36": 1,
         "Soil_Type37": 1,
         "Soil_Type38": 1,
         "Soil_Type39": 1,
         "Soil_Type40": 1,
         "Cover_Type": 7,
         "_deepnote_index_column": "max"
        }
       ]
      },
      "text/plain": "                Id     Elevation        Aspect         Slope  \\\ncount  15120.00000  15120.000000  15120.000000  15120.000000   \nmean    7560.50000   2749.322553    156.676653     16.501587   \nstd     4364.91237    417.678187    110.085801      8.453927   \nmin        1.00000   1863.000000      0.000000      0.000000   \n25%     3780.75000   2376.000000     65.000000     10.000000   \n50%     7560.50000   2752.000000    126.000000     15.000000   \n75%    11340.25000   3104.000000    261.000000     22.000000   \nmax    15120.00000   3849.000000    360.000000     52.000000   \n\n       Horizontal_Distance_To_Hydrology  Vertical_Distance_To_Hydrology  \\\ncount                      15120.000000                    15120.000000   \nmean                         227.195701                       51.076521   \nstd                          210.075296                       61.239406   \nmin                            0.000000                     -146.000000   \n25%                           67.000000                        5.000000   \n50%                          180.000000                       32.000000   \n75%                          330.000000                       79.000000   \nmax                         1343.000000                      554.000000   \n\n       Horizontal_Distance_To_Roadways  Hillshade_9am  Hillshade_Noon  \\\ncount                     15120.000000   15120.000000    15120.000000   \nmean                       1714.023214     212.704299      218.965608   \nstd                        1325.066358      30.561287       22.801966   \nmin                           0.000000       0.000000       99.000000   \n25%                         764.000000     196.000000      207.000000   \n50%                        1316.000000     220.000000      223.000000   \n75%                        2270.000000     235.000000      235.000000   \nmax                        6890.000000     254.000000      254.000000   \n\n       Hillshade_3pm  ...   Soil_Type32   Soil_Type33   Soil_Type34  \\\ncount   15120.000000  ...  15120.000000  15120.000000  15120.000000   \nmean      135.091997  ...      0.045635      0.040741      0.001455   \nstd        45.895189  ...      0.208699      0.197696      0.038118   \nmin         0.000000  ...      0.000000      0.000000      0.000000   \n25%       106.000000  ...      0.000000      0.000000      0.000000   \n50%       138.000000  ...      0.000000      0.000000      0.000000   \n75%       167.000000  ...      0.000000      0.000000      0.000000   \nmax       248.000000  ...      1.000000      1.000000      1.000000   \n\n        Soil_Type35   Soil_Type36   Soil_Type37   Soil_Type38   Soil_Type39  \\\ncount  15120.000000  15120.000000  15120.000000  15120.000000  15120.000000   \nmean       0.006746      0.000661      0.002249      0.048148      0.043452   \nstd        0.081859      0.025710      0.047368      0.214086      0.203880   \nmin        0.000000      0.000000      0.000000      0.000000      0.000000   \n25%        0.000000      0.000000      0.000000      0.000000      0.000000   \n50%        0.000000      0.000000      0.000000      0.000000      0.000000   \n75%        0.000000      0.000000      0.000000      0.000000      0.000000   \nmax        1.000000      1.000000      1.000000      1.000000      1.000000   \n\n        Soil_Type40    Cover_Type  \ncount  15120.000000  15120.000000  \nmean       0.030357      4.000000  \nstd        0.171574      2.000066  \nmin        0.000000      1.000000  \n25%        0.000000      2.000000  \n50%        0.000000      4.000000  \n75%        0.000000      6.000000  \nmax        1.000000      7.000000  \n\n[8 rows x 56 columns]",
      "text/html": "<div>\n<style scoped>\n    .dataframe tbody tr th:only-of-type {\n        vertical-align: middle;\n    }\n\n    .dataframe tbody tr th {\n        vertical-align: top;\n    }\n\n    .dataframe thead th {\n        text-align: right;\n    }\n</style>\n<table border=\"1\" class=\"dataframe\">\n  <thead>\n    <tr style=\"text-align: right;\">\n      <th></th>\n      <th>Id</th>\n      <th>Elevation</th>\n      <th>Aspect</th>\n      <th>Slope</th>\n      <th>Horizontal_Distance_To_Hydrology</th>\n      <th>Vertical_Distance_To_Hydrology</th>\n      <th>Horizontal_Distance_To_Roadways</th>\n      <th>Hillshade_9am</th>\n      <th>Hillshade_Noon</th>\n      <th>Hillshade_3pm</th>\n      <th>...</th>\n      <th>Soil_Type32</th>\n      <th>Soil_Type33</th>\n      <th>Soil_Type34</th>\n      <th>Soil_Type35</th>\n      <th>Soil_Type36</th>\n      <th>Soil_Type37</th>\n      <th>Soil_Type38</th>\n      <th>Soil_Type39</th>\n      <th>Soil_Type40</th>\n      <th>Cover_Type</th>\n    </tr>\n  </thead>\n  <tbody>\n    <tr>\n      <th>count</th>\n      <td>15120.00000</td>\n      <td>15120.000000</td>\n      <td>15120.000000</td>\n      <td>15120.000000</td>\n      <td>15120.000000</td>\n      <td>15120.000000</td>\n      <td>15120.000000</td>\n      <td>15120.000000</td>\n      <td>15120.000000</td>\n      <td>15120.000000</td>\n      <td>...</td>\n      <td>15120.000000</td>\n      <td>15120.000000</td>\n      <td>15120.000000</td>\n      <td>15120.000000</td>\n      <td>15120.000000</td>\n      <td>15120.000000</td>\n      <td>15120.000000</td>\n      <td>15120.000000</td>\n      <td>15120.000000</td>\n      <td>15120.000000</td>\n    </tr>\n    <tr>\n      <th>mean</th>\n      <td>7560.50000</td>\n      <td>2749.322553</td>\n      <td>156.676653</td>\n      <td>16.501587</td>\n      <td>227.195701</td>\n      <td>51.076521</td>\n      <td>1714.023214</td>\n      <td>212.704299</td>\n      <td>218.965608</td>\n      <td>135.091997</td>\n      <td>...</td>\n      <td>0.045635</td>\n      <td>0.040741</td>\n      <td>0.001455</td>\n      <td>0.006746</td>\n      <td>0.000661</td>\n      <td>0.002249</td>\n      <td>0.048148</td>\n      <td>0.043452</td>\n      <td>0.030357</td>\n      <td>4.000000</td>\n    </tr>\n    <tr>\n      <th>std</th>\n      <td>4364.91237</td>\n      <td>417.678187</td>\n      <td>110.085801</td>\n      <td>8.453927</td>\n      <td>210.075296</td>\n      <td>61.239406</td>\n      <td>1325.066358</td>\n      <td>30.561287</td>\n      <td>22.801966</td>\n      <td>45.895189</td>\n      <td>...</td>\n      <td>0.208699</td>\n      <td>0.197696</td>\n      <td>0.038118</td>\n      <td>0.081859</td>\n      <td>0.025710</td>\n      <td>0.047368</td>\n      <td>0.214086</td>\n      <td>0.203880</td>\n      <td>0.171574</td>\n      <td>2.000066</td>\n    </tr>\n    <tr>\n      <th>min</th>\n      <td>1.00000</td>\n      <td>1863.000000</td>\n      <td>0.000000</td>\n      <td>0.000000</td>\n      <td>0.000000</td>\n      <td>-146.000000</td>\n      <td>0.000000</td>\n      <td>0.000000</td>\n      <td>99.000000</td>\n      <td>0.000000</td>\n      <td>...</td>\n      <td>0.000000</td>\n      <td>0.000000</td>\n      <td>0.000000</td>\n      <td>0.000000</td>\n      <td>0.000000</td>\n      <td>0.000000</td>\n      <td>0.000000</td>\n      <td>0.000000</td>\n      <td>0.000000</td>\n      <td>1.000000</td>\n    </tr>\n    <tr>\n      <th>25%</th>\n      <td>3780.75000</td>\n      <td>2376.000000</td>\n      <td>65.000000</td>\n      <td>10.000000</td>\n      <td>67.000000</td>\n      <td>5.000000</td>\n      <td>764.000000</td>\n      <td>196.000000</td>\n      <td>207.000000</td>\n      <td>106.000000</td>\n      <td>...</td>\n      <td>0.000000</td>\n      <td>0.000000</td>\n      <td>0.000000</td>\n      <td>0.000000</td>\n      <td>0.000000</td>\n      <td>0.000000</td>\n      <td>0.000000</td>\n      <td>0.000000</td>\n      <td>0.000000</td>\n      <td>2.000000</td>\n    </tr>\n    <tr>\n      <th>50%</th>\n      <td>7560.50000</td>\n      <td>2752.000000</td>\n      <td>126.000000</td>\n      <td>15.000000</td>\n      <td>180.000000</td>\n      <td>32.000000</td>\n      <td>1316.000000</td>\n      <td>220.000000</td>\n      <td>223.000000</td>\n      <td>138.000000</td>\n      <td>...</td>\n      <td>0.000000</td>\n      <td>0.000000</td>\n      <td>0.000000</td>\n      <td>0.000000</td>\n      <td>0.000000</td>\n      <td>0.000000</td>\n      <td>0.000000</td>\n      <td>0.000000</td>\n      <td>0.000000</td>\n      <td>4.000000</td>\n    </tr>\n    <tr>\n      <th>75%</th>\n      <td>11340.25000</td>\n      <td>3104.000000</td>\n      <td>261.000000</td>\n      <td>22.000000</td>\n      <td>330.000000</td>\n      <td>79.000000</td>\n      <td>2270.000000</td>\n      <td>235.000000</td>\n      <td>235.000000</td>\n      <td>167.000000</td>\n      <td>...</td>\n      <td>0.000000</td>\n      <td>0.000000</td>\n      <td>0.000000</td>\n      <td>0.000000</td>\n      <td>0.000000</td>\n      <td>0.000000</td>\n      <td>0.000000</td>\n      <td>0.000000</td>\n      <td>0.000000</td>\n      <td>6.000000</td>\n    </tr>\n    <tr>\n      <th>max</th>\n      <td>15120.00000</td>\n      <td>3849.000000</td>\n      <td>360.000000</td>\n      <td>52.000000</td>\n      <td>1343.000000</td>\n      <td>554.000000</td>\n      <td>6890.000000</td>\n      <td>254.000000</td>\n      <td>254.000000</td>\n      <td>248.000000</td>\n      <td>...</td>\n      <td>1.000000</td>\n      <td>1.000000</td>\n      <td>1.000000</td>\n      <td>1.000000</td>\n      <td>1.000000</td>\n      <td>1.000000</td>\n      <td>1.000000</td>\n      <td>1.000000</td>\n      <td>1.000000</td>\n      <td>7.000000</td>\n    </tr>\n  </tbody>\n</table>\n<p>8 rows × 56 columns</p>\n</div>"
     },
     "metadata": {}
    }
   ]
  },
  {
   "cell_type": "code",
   "metadata": {
    "tags": [],
    "cell_id": "00009-a9bb417c-8d72-407e-b2ce-c4048f64c876",
    "deepnote_to_be_reexecuted": false,
    "source_hash": "1daf00f",
    "execution_start": 1646776554674,
    "execution_millis": 234,
    "deepnote_cell_type": "code",
    "deepnote_cell_height": 99
   },
   "source": "yaxis_labels = ['Elevation', 'Aspect', 'Slope', 'Horizontal_Distance_To_Hydrology', 'Vertical_Distance_To_Hydrology',\n'Horizontal_Distance_To_Roadways', 'Hillshade_9am', 'Hillshade_Noon', 'Hillshade_3pm', 'Horizontal_Distance_To_Fire_Points']",
   "execution_count": 8,
   "outputs": []
  },
  {
   "cell_type": "code",
   "metadata": {
    "tags": [],
    "cell_id": "00010-3ac6cb95-43b5-42c4-a4b8-749c3bed0ecc",
    "deepnote_to_be_reexecuted": false,
    "source_hash": "193e0be0",
    "execution_start": 1646776554676,
    "execution_millis": 3636,
    "deepnote_cell_type": "code",
    "deepnote_cell_height": 1228,
    "deepnote_output_heights": [
     null,
     611
    ]
   },
   "source": "fig, ax = plt.subplots(5, 2, figsize=(15, 27))\n\nfor i, feature in enumerate(yaxis_labels):\n    sns.distplot(train[feature], bins=20, ax=ax[i//2, i%2])\nplt.show()\n",
   "execution_count": 9,
   "outputs": [
    {
     "name": "stderr",
     "text": "/shared-libs/python3.7/py/lib/python3.7/site-packages/seaborn/distributions.py:2619: FutureWarning: `distplot` is a deprecated function and will be removed in a future version. Please adapt your code to use either `displot` (a figure-level function with similar flexibility) or `histplot` (an axes-level function for histograms).\n  warnings.warn(msg, FutureWarning)\n/shared-libs/python3.7/py/lib/python3.7/site-packages/seaborn/distributions.py:2619: FutureWarning: `distplot` is a deprecated function and will be removed in a future version. Please adapt your code to use either `displot` (a figure-level function with similar flexibility) or `histplot` (an axes-level function for histograms).\n  warnings.warn(msg, FutureWarning)\n/shared-libs/python3.7/py/lib/python3.7/site-packages/seaborn/distributions.py:2619: FutureWarning: `distplot` is a deprecated function and will be removed in a future version. Please adapt your code to use either `displot` (a figure-level function with similar flexibility) or `histplot` (an axes-level function for histograms).\n  warnings.warn(msg, FutureWarning)\n/shared-libs/python3.7/py/lib/python3.7/site-packages/seaborn/distributions.py:2619: FutureWarning: `distplot` is a deprecated function and will be removed in a future version. Please adapt your code to use either `displot` (a figure-level function with similar flexibility) or `histplot` (an axes-level function for histograms).\n  warnings.warn(msg, FutureWarning)\n/shared-libs/python3.7/py/lib/python3.7/site-packages/seaborn/distributions.py:2619: FutureWarning: `distplot` is a deprecated function and will be removed in a future version. Please adapt your code to use either `displot` (a figure-level function with similar flexibility) or `histplot` (an axes-level function for histograms).\n  warnings.warn(msg, FutureWarning)\n/shared-libs/python3.7/py/lib/python3.7/site-packages/seaborn/distributions.py:2619: FutureWarning: `distplot` is a deprecated function and will be removed in a future version. Please adapt your code to use either `displot` (a figure-level function with similar flexibility) or `histplot` (an axes-level function for histograms).\n  warnings.warn(msg, FutureWarning)\n/shared-libs/python3.7/py/lib/python3.7/site-packages/seaborn/distributions.py:2619: FutureWarning: `distplot` is a deprecated function and will be removed in a future version. Please adapt your code to use either `displot` (a figure-level function with similar flexibility) or `histplot` (an axes-level function for histograms).\n  warnings.warn(msg, FutureWarning)\n/shared-libs/python3.7/py/lib/python3.7/site-packages/seaborn/distributions.py:2619: FutureWarning: `distplot` is a deprecated function and will be removed in a future version. Please adapt your code to use either `displot` (a figure-level function with similar flexibility) or `histplot` (an axes-level function for histograms).\n  warnings.warn(msg, FutureWarning)\n/shared-libs/python3.7/py/lib/python3.7/site-packages/seaborn/distributions.py:2619: FutureWarning: `distplot` is a deprecated function and will be removed in a future version. Please adapt your code to use either `displot` (a figure-level function with similar flexibility) or `histplot` (an axes-level function for histograms).\n  warnings.warn(msg, FutureWarning)\n/shared-libs/python3.7/py/lib/python3.7/site-packages/seaborn/distributions.py:2619: FutureWarning: `distplot` is a deprecated function and will be removed in a future version. Please adapt your code to use either `displot` (a figure-level function with similar flexibility) or `histplot` (an axes-level function for histograms).\n  warnings.warn(msg, FutureWarning)\n",
     "output_type": "stream"
    },
    {
     "data": {
      "text/plain": "<Figure size 1080x1944 with 10 Axes>",
      "image/png": "[encoded data removed]"
     },
     "metadata": {
      "needs_background": "light",
      "image/png": {
       "width": 907,
       "height": 1514
      }
     },
     "output_type": "display_data"
    }
   ]
  },
  {
   "cell_type": "code",
   "metadata": {
    "tags": [],
    "cell_id": "00011-ac33cccf-1ec2-4696-82d6-ddf612d60ef8",
    "deepnote_to_be_reexecuted": false,
    "source_hash": "16b7bdd0",
    "execution_start": 1646776558311,
    "execution_millis": 4,
    "deepnote_cell_type": "code",
    "deepnote_cell_height": 117
   },
   "source": "counts = []\nfor i in range(1,8):\n    counts.append(sum(train[train['Cover_Type'] == i]['Soil_Type1']))",
   "execution_count": 10,
   "outputs": []
  },
  {
   "cell_type": "code",
   "metadata": {
    "tags": [],
    "cell_id": "00012-6baf5a64-0d6f-46e1-99f7-aa0ee5c84cd9",
    "deepnote_to_be_reexecuted": false,
    "source_hash": "bc0b0ee0",
    "execution_start": 1646776558321,
    "execution_millis": 6817,
    "deepnote_cell_type": "code",
    "deepnote_cell_height": 906,
    "deepnote_output_heights": [
     611
    ]
   },
   "source": "fig, axs = plt.subplots(20, 2, figsize=(30, 140))\n\nfor i in range(1, 41):\n    counts = []\n    for j in range(1, 8):\n        counts.append(sum(train[train['Cover_Type'] == j]['Soil_Type' + str(i)]))\n    axs[(i-1)//2, (i-1)%2].bar(x=range(1, 8), height=counts)\n    axs[(i-1)//2, (i-1)%2].set_xlabel('Cover_Type')\n    axs[(i-1)//2, (i-1)%2].set_title('Soil_Type' + str(i))\n    axs[(i-1)//2, (i-1)%2].set_ylabel('Count')\nplt.subplots_adjust(hspace = 0.3)\nplt.show()",
   "execution_count": 11,
   "outputs": [
    {
     "data": {
      "text/plain": "<Figure size 2160x10080 with 40 Axes>",
      "image/png": "[encoded data removed]"
     },
     "metadata": {
      "needs_background": "light",
      "image/png": {
       "width": 1739,
       "height": 7672
      }
     },
     "output_type": "display_data"
    }
   ]
  },
  {
   "cell_type": "markdown",
   "source": "## Modeling",
   "metadata": {
    "tags": [],
    "cell_id": "00007-daae918b-9f0b-4ab2-b42b-4ba0f60951a9",
    "deepnote_cell_type": "markdown",
    "deepnote_cell_height": 70
   }
  },
  {
   "cell_type": "code",
   "metadata": {
    "tags": [],
    "cell_id": "00011-b6730ebc-ab8f-4a57-bb60-82aceb0a91d2",
    "deepnote_to_be_reexecuted": false,
    "source_hash": "8f92e348",
    "execution_start": 1646776565038,
    "execution_millis": 123,
    "deepnote_cell_type": "code",
    "deepnote_cell_height": 514
   },
   "source": "from sklearn.model_selection import train_test_split\nfrom sklearn.preprocessing import StandardScaler\nfrom sklearn import metrics\n\n\nXtr, Xva, Ytr, Yva = train_test_split(train.drop('Cover_Type', axis=1), \n                                        train['Cover_Type'],\n                                        test_size = 0.1, \n                                        random_state=0)\n\nXtr[yaxis_labels] = StandardScaler().fit_transform(Xtr[yaxis_labels])\nXva[yaxis_labels] = StandardScaler().fit_transform(Xva[yaxis_labels])\n\nXtr.drop(columns='Id', inplace=True)\nXva.drop(columns='Id', inplace=True)\n\nprint(Xtr.shape)\nprint(Ytr.shape)\nprint(Xva.shape)\nprint(Yva.shape)",
   "execution_count": 12,
   "outputs": [
    {
     "name": "stdout",
     "text": "(13608, 54)\n(13608,)\n(1512, 54)\n(1512,)\n",
     "output_type": "stream"
    }
   ]
  },
  {
   "cell_type": "markdown",
   "source": "### Random Forest",
   "metadata": {
    "tags": [],
    "cell_id": "00015-cccc52db-2300-464f-b4db-43e945706b0d",
    "deepnote_cell_type": "markdown",
    "deepnote_cell_height": 62
   }
  },
  {
   "cell_type": "code",
   "metadata": {
    "tags": [],
    "cell_id": "00016-dbb79627-209a-412b-861f-6d8aee16befd",
    "deepnote_to_be_reexecuted": false,
    "source_hash": "39ef4b5b",
    "execution_start": 1646776565156,
    "execution_millis": 187,
    "deepnote_cell_type": "code",
    "deepnote_cell_height": 81
   },
   "source": "from sklearn.ensemble import RandomForestClassifier",
   "execution_count": 13,
   "outputs": []
  },
  {
   "cell_type": "code",
   "metadata": {
    "tags": [],
    "cell_id": "00017-fef8dadd-b1cb-40d1-a686-013bf0f2ae5b",
    "deepnote_to_be_reexecuted": false,
    "source_hash": "7378b5e1",
    "execution_start": 1646776565348,
    "execution_millis": 8425,
    "deepnote_cell_type": "code",
    "deepnote_cell_height": 155,
    "deepnote_output_heights": [
     40
    ]
   },
   "source": "rf = RandomForestClassifier(n_estimators=500, max_depth=100, min_samples_leaf=4, min_samples_split = 4, max_features='auto')\nrf.fit(Xtr, Ytr)",
   "execution_count": 14,
   "outputs": [
    {
     "output_type": "execute_result",
     "execution_count": 14,
     "data": {
      "text/plain": "RandomForestClassifier(max_depth=100, min_samples_leaf=4, min_samples_split=4,\n                       n_estimators=500)"
     },
     "metadata": {}
    }
   ]
  },
  {
   "cell_type": "code",
   "metadata": {
    "tags": [],
    "cell_id": "00018-0ce10ff8-6146-4061-a607-ef484ce73458",
    "deepnote_to_be_reexecuted": false,
    "source_hash": "b4d784d7",
    "execution_start": 1646776573780,
    "execution_millis": 3948,
    "deepnote_cell_type": "code",
    "deepnote_cell_height": 665,
    "deepnote_output_heights": [
     null,
     264
    ]
   },
   "source": "print(\"Training AUC:\", metrics.roc_auc_score(Ytr, rf.predict_proba(Xtr), multi_class='ovr'))\nprint(\"Training Accuracy:\", metrics.accuracy_score(Ytr, rf.predict(Xtr)))\nprint(\"Validation AUC:\", metrics.roc_auc_score(Yva, rf.predict_proba(Xva), multi_class='ovr'))\nprint(\"Validation Accuracy:\", metrics.accuracy_score(Yva, rf.predict(Xva)))\n\nYpred = rf.predict(Xva)\n\nfrom sklearn.metrics import confusion_matrix\nmat = confusion_matrix(Yva, Ypred)\nsns.heatmap(mat.T, square=True, annot=True, fmt='d', cbar=False)\nplt.xlabel('True Label')\nplt.ylabel('Predicted Label');",
   "execution_count": 15,
   "outputs": [
    {
     "name": "stdout",
     "text": "Training AUC: 0.9968667918599922\nTraining Accuracy: 0.9384185773074663\nValidation AUC: 0.9775856442549149\nValidation Accuracy: 0.8287037037037037\n",
     "output_type": "stream"
    },
    {
     "data": {
      "text/plain": "<Figure size 432x288 with 1 Axes>",
      "image/png": "[encoded data removed]"
     },
     "metadata": {
      "needs_background": "light",
      "image/png": {
       "width": 262,
       "height": 262
      }
     },
     "output_type": "display_data"
    }
   ]
  },
  {
   "cell_type": "markdown",
   "source": "### Neural Network Using Keras",
   "metadata": {
    "tags": [],
    "cell_id": "00020-9eb6a764-838e-41b6-a525-d84495f1831e",
    "deepnote_cell_type": "markdown",
    "deepnote_cell_height": 62
   }
  },
  {
   "cell_type": "code",
   "metadata": {
    "tags": [],
    "cell_id": "00024-09ff6dd1-6376-4f52-ba3c-4373015da312",
    "deepnote_to_be_reexecuted": false,
    "source_hash": "27360ff9",
    "execution_start": 1646776577710,
    "execution_millis": 2130,
    "deepnote_cell_type": "code",
    "deepnote_cell_height": 135
   },
   "source": "from sklearn.model_selection import train_test_split\nfrom sklearn import preprocessing\nimport tensorflow as tf\nfrom tensorflow import keras",
   "execution_count": 16,
   "outputs": []
  },
  {
   "cell_type": "code",
   "metadata": {
    "tags": [],
    "cell_id": "00021-ff2f978e-e1f3-466c-828c-0c1b4dc1cbe2",
    "deepnote_to_be_reexecuted": false,
    "source_hash": "f16b0eb7",
    "execution_start": 1646776579844,
    "execution_millis": 4,
    "deepnote_cell_type": "code",
    "deepnote_cell_height": 81
   },
   "source": "from sklearn import preprocessing",
   "execution_count": 17,
   "outputs": []
  },
  {
   "cell_type": "code",
   "metadata": {
    "tags": [],
    "cell_id": "00022-4e5b9126-3ac9-4e14-97c3-c410bc069da7",
    "deepnote_to_be_reexecuted": false,
    "source_hash": "e58d4f39",
    "execution_start": 1646776579938,
    "execution_millis": 14,
    "deepnote_cell_type": "code",
    "deepnote_cell_height": 171
   },
   "source": "#Data\nx = train[train.columns[1:55]]\nxtest = test[test.columns[1:55]]\ny = train.Cover_Type\n#Splitting into train and test \nx_train, x_test, y_train, y_test = train_test_split(x, y , test_size = 0.2, random_state =  40)",
   "execution_count": 18,
   "outputs": []
  },
  {
   "cell_type": "code",
   "metadata": {
    "tags": [],
    "cell_id": "00023-e3be2272-18c9-4cdf-a758-a1b6a1e13148",
    "deepnote_to_be_reexecuted": false,
    "source_hash": "dbc19762",
    "execution_start": 1646776579958,
    "execution_millis": 22,
    "deepnote_cell_type": "code",
    "deepnote_cell_height": 153
   },
   "source": "#Standarize the Data\nfrom sklearn.preprocessing import StandardScaler\nscaler = StandardScaler().fit(x_train)\nx_train = scaler.transform(x_train)\nx_test = scaler.transform(x_test)",
   "execution_count": 19,
   "outputs": []
  },
  {
   "cell_type": "code",
   "metadata": {
    "tags": [],
    "cell_id": "00025-7289e3f6-475a-4b88-9233-652e5abeb09a",
    "deepnote_to_be_reexecuted": false,
    "source_hash": "45f34f20",
    "execution_start": 1646776579986,
    "execution_millis": 97,
    "deepnote_cell_type": "code",
    "deepnote_cell_height": 243
   },
   "source": "nn = tf.keras.Sequential()\n#Multi-Class Classification\nnn.add(keras.layers.Dense(1000, activation = 'relu', input_shape = (54,)))\nnn.add(keras.layers.Dropout(0.2))\nnn.add(keras.layers.Dense(500, activation = 'relu'))\nnn.add(keras.layers.Dropout(0.2))\nnn.add(keras.layers.Dense(100, activation = 'relu'))\nnn.add(keras.layers.Dropout(0.2))\nnn.add(keras.layers.Dense(8, activation = 'softmax'))\n",
   "execution_count": 20,
   "outputs": []
  },
  {
   "cell_type": "code",
   "metadata": {
    "tags": [],
    "cell_id": "00026-5a8d6c33-2922-48df-ac86-252d1bf3cf1d",
    "deepnote_to_be_reexecuted": false,
    "source_hash": "84204c59",
    "execution_start": 1646776580090,
    "execution_millis": 56960,
    "deepnote_cell_type": "code",
    "deepnote_cell_height": 843,
    "deepnote_output_heights": [
     null,
     21
    ]
   },
   "source": "#Compile and Fit\nnn.compile(optimizer = 'adam', loss = 'categorical_crossentropy', metrics = ['accuracy'])\n\nnn.fit(x_train, keras.utils.to_categorical(y_train), \n            batch_size = 100, epochs = 30, \n            validation_data = (x_test, keras.utils.to_categorical(y_test)))",
   "execution_count": 21,
   "outputs": [
    {
     "name": "stdout",
     "text": "Epoch 1/30\n121/121 [==============================] - 3s 16ms/step - loss: 0.9483 - accuracy: 0.6145 - val_loss: 0.7550 - val_accuracy: 0.6812\nEpoch 2/30\n121/121 [==============================] - 2s 14ms/step - loss: 0.7343 - accuracy: 0.6928 - val_loss: 0.6409 - val_accuracy: 0.7285\nEpoch 3/30\n121/121 [==============================] - 2s 15ms/step - loss: 0.6651 - accuracy: 0.7237 - val_loss: 0.5968 - val_accuracy: 0.7411\nEpoch 4/30\n121/121 [==============================] - 2s 17ms/step - loss: 0.6187 - accuracy: 0.7407 - val_loss: 0.5839 - val_accuracy: 0.7470\nEpoch 5/30\n121/121 [==============================] - 3s 21ms/step - loss: 0.5919 - accuracy: 0.7475 - val_loss: 0.5638 - val_accuracy: 0.7576\nEpoch 6/30\n121/121 [==============================] - 2s 19ms/step - loss: 0.5680 - accuracy: 0.7657 - val_loss: 0.5548 - val_accuracy: 0.7616\nEpoch 7/30\n121/121 [==============================] - 2s 19ms/step - loss: 0.5475 - accuracy: 0.7721 - val_loss: 0.5407 - val_accuracy: 0.7642\nEpoch 8/30\n121/121 [==============================] - 2s 16ms/step - loss: 0.5285 - accuracy: 0.7807 - val_loss: 0.5398 - val_accuracy: 0.7646\nEpoch 9/30\n121/121 [==============================] - 2s 18ms/step - loss: 0.5105 - accuracy: 0.7884 - val_loss: 0.5153 - val_accuracy: 0.7811\nEpoch 10/30\n121/121 [==============================] - 2s 15ms/step - loss: 0.5009 - accuracy: 0.7901 - val_loss: 0.5038 - val_accuracy: 0.7811\nEpoch 11/30\n121/121 [==============================] - 2s 15ms/step - loss: 0.4840 - accuracy: 0.7989 - val_loss: 0.5007 - val_accuracy: 0.7970\nEpoch 12/30\n121/121 [==============================] - 2s 17ms/step - loss: 0.4689 - accuracy: 0.8042 - val_loss: 0.5081 - val_accuracy: 0.7930\nEpoch 13/30\n121/121 [==============================] - 2s 15ms/step - loss: 0.4510 - accuracy: 0.8116 - val_loss: 0.4882 - val_accuracy: 0.8009\nEpoch 14/30\n121/121 [==============================] - 2s 15ms/step - loss: 0.4486 - accuracy: 0.8142 - val_loss: 0.4744 - val_accuracy: 0.8019\nEpoch 15/30\n121/121 [==============================] - 2s 15ms/step - loss: 0.4341 - accuracy: 0.8189 - val_loss: 0.4623 - val_accuracy: 0.8105\nEpoch 16/30\n121/121 [==============================] - 2s 15ms/step - loss: 0.4252 - accuracy: 0.8262 - val_loss: 0.4626 - val_accuracy: 0.8185\nEpoch 17/30\n121/121 [==============================] - 2s 15ms/step - loss: 0.4115 - accuracy: 0.8281 - val_loss: 0.4620 - val_accuracy: 0.8075\nEpoch 18/30\n121/121 [==============================] - 2s 15ms/step - loss: 0.3958 - accuracy: 0.8379 - val_loss: 0.4629 - val_accuracy: 0.8122\nEpoch 19/30\n121/121 [==============================] - 2s 15ms/step - loss: 0.3857 - accuracy: 0.8423 - val_loss: 0.4529 - val_accuracy: 0.8194\nEpoch 20/30\n121/121 [==============================] - 2s 14ms/step - loss: 0.3771 - accuracy: 0.8455 - val_loss: 0.4489 - val_accuracy: 0.8274\nEpoch 21/30\n121/121 [==============================] - 2s 14ms/step - loss: 0.3750 - accuracy: 0.8479 - val_loss: 0.4502 - val_accuracy: 0.8244\nEpoch 22/30\n121/121 [==============================] - 2s 14ms/step - loss: 0.3657 - accuracy: 0.8531 - val_loss: 0.4312 - val_accuracy: 0.8254\nEpoch 23/30\n121/121 [==============================] - 2s 14ms/step - loss: 0.3588 - accuracy: 0.8548 - val_loss: 0.4419 - val_accuracy: 0.8267\nEpoch 24/30\n121/121 [==============================] - 2s 14ms/step - loss: 0.3517 - accuracy: 0.8546 - val_loss: 0.4377 - val_accuracy: 0.8353\nEpoch 25/30\n121/121 [==============================] - 2s 14ms/step - loss: 0.3343 - accuracy: 0.8643 - val_loss: 0.4226 - val_accuracy: 0.8390\nEpoch 26/30\n121/121 [==============================] - 2s 14ms/step - loss: 0.3366 - accuracy: 0.8592 - val_loss: 0.4260 - val_accuracy: 0.8413\nEpoch 27/30\n121/121 [==============================] - 2s 14ms/step - loss: 0.3283 - accuracy: 0.8645 - val_loss: 0.4178 - val_accuracy: 0.8423\nEpoch 28/30\n121/121 [==============================] - 2s 14ms/step - loss: 0.3228 - accuracy: 0.8682 - val_loss: 0.4251 - val_accuracy: 0.8433\nEpoch 29/30\n121/121 [==============================] - 2s 14ms/step - loss: 0.3106 - accuracy: 0.8738 - val_loss: 0.4303 - val_accuracy: 0.8442\nEpoch 30/30\n121/121 [==============================] - 2s 14ms/step - loss: 0.3050 - accuracy: 0.8738 - val_loss: 0.4237 - val_accuracy: 0.8452\n",
     "output_type": "stream"
    },
    {
     "output_type": "execute_result",
     "execution_count": 21,
     "data": {
      "text/plain": "<keras.callbacks.History at 0x7f5efc2da590>"
     },
     "metadata": {}
    }
   ]
  },
  {
   "cell_type": "markdown",
   "source": "32,16: loss: 0.5254 - accuracy: 0.7870",
   "metadata": {
    "tags": [],
    "cell_id": "00027-e7e88098-d8e8-4221-90cf-0d0d4fe35c87",
    "deepnote_cell_type": "markdown",
    "deepnote_cell_height": 52
   }
  },
  {
   "cell_type": "code",
   "metadata": {
    "tags": [],
    "cell_id": "00028-1289dbe8-a813-4c18-8c79-d9afd4352776",
    "deepnote_to_be_reexecuted": false,
    "source_hash": "c131c45b",
    "execution_start": 1646776637049,
    "execution_millis": 486,
    "deepnote_cell_type": "code",
    "deepnote_cell_height": 168
   },
   "source": "y_pred = nn.predict(x_test)\nscore = nn.evaluate(x_test, keras.utils.to_categorical(y_test),verbose=1)\nprint(score)",
   "execution_count": 22,
   "outputs": [
    {
     "name": "stdout",
     "text": "95/95 [==============================] - 0s 2ms/step - loss: 0.4237 - accuracy: 0.8452\n[0.4236614406108856, 0.8452380895614624]\n",
     "output_type": "stream"
    }
   ]
  },
  {
   "cell_type": "markdown",
   "source": "### SVC",
   "metadata": {
    "tags": [],
    "cell_id": "00029-6d68a00b-555a-42b1-a65f-88acf9582072",
    "deepnote_cell_type": "markdown",
    "deepnote_cell_height": 62
   }
  },
  {
   "cell_type": "code",
   "metadata": {
    "tags": [],
    "cell_id": "00029-7e31e027-6869-46fd-848a-b1b22059c8c6",
    "deepnote_to_be_reexecuted": false,
    "source_hash": "e753acb1",
    "execution_start": 1646776637538,
    "execution_millis": 40873,
    "deepnote_cell_type": "code",
    "deepnote_cell_height": 300
   },
   "source": "from sklearn.svm import SVC\n\nC = [70, 85, 100, 115, 130]\nfor c in C:\n    svc = SVC(C=c)\n    svc.fit(Xtr, Ytr)\n    print(c, svc.score(Xva, Yva))",
   "execution_count": 23,
   "outputs": [
    {
     "name": "stdout",
     "text": "70 0.8432539682539683\n85 0.8425925925925926\n100 0.843915343915344\n115 0.8472222222222222\n130 0.8445767195767195\n",
     "output_type": "stream"
    }
   ]
  },
  {
   "cell_type": "code",
   "metadata": {
    "tags": [],
    "cell_id": "00030-f474cd9d-b608-484c-be9a-7b9c8e6032a3",
    "deepnote_to_be_reexecuted": false,
    "source_hash": "71e05ee1",
    "execution_start": 1646776678417,
    "execution_millis": 9400,
    "deepnote_cell_type": "code",
    "deepnote_cell_height": 136,
    "deepnote_output_heights": [
     21
    ]
   },
   "source": "svc = SVC(C=115).fit(Xtr, Ytr)\nsvc.score(Xva, Yva)",
   "execution_count": 24,
   "outputs": [
    {
     "output_type": "execute_result",
     "execution_count": 24,
     "data": {
      "text/plain": "0.8472222222222222"
     },
     "metadata": {}
    }
   ]
  },
  {
   "cell_type": "markdown",
   "source": "### K Nearest Neighbors",
   "metadata": {
    "tags": [],
    "cell_id": "00029-83d40023-698c-4080-a269-2f128fdc881d",
    "deepnote_cell_type": "markdown",
    "deepnote_cell_height": 62
   }
  },
  {
   "cell_type": "code",
   "metadata": {
    "tags": [],
    "cell_id": "00032-b78fbe5c-5387-4efc-8758-1de20738715a",
    "deepnote_to_be_reexecuted": false,
    "source_hash": "ac20abe4",
    "execution_start": 1646776687824,
    "execution_millis": 5147,
    "deepnote_cell_type": "code",
    "deepnote_cell_height": 719,
    "deepnote_output_heights": [
     null,
     264
    ]
   },
   "source": "from sklearn.neighbors import KNeighborsClassifier\n\nfor k in [4,5,6,7]:\n    knn = KNeighborsClassifier(n_neighbors = k)\n    knn.fit(Xtr, Ytr)\n\n    ypred = knn.predict(Xva)\n\n    print(k, knn.score(Xva, Yva))\n\nfrom sklearn.metrics import confusion_matrix\nmat = confusion_matrix(Yva, ypred)\nsns.heatmap(mat.T, square=True, annot=True, fmt='d', cbar=False)\nplt.xlabel('True Label')\nplt.ylabel('Predicted Label');",
   "execution_count": 25,
   "outputs": [
    {
     "name": "stdout",
     "text": "4 0.7784391534391535\n5 0.7804232804232805\n6 0.7777777777777778\n7 0.7738095238095238\n",
     "output_type": "stream"
    },
    {
     "data": {
      "text/plain": "<Figure size 432x288 with 1 Axes>",
      "image/png": "[encoded data removed]"
     },
     "metadata": {
      "needs_background": "light",
      "image/png": {
       "width": 262,
       "height": 262
      }
     },
     "output_type": "display_data"
    }
   ]
  },
  {
   "cell_type": "markdown",
   "source": "<a style='text-decoration:none;line-height:16px;display:flex;color:#5B5B62;padding:10px;justify-content:end;' href='https://deepnote.com?utm_source=created-in-deepnote-cell&projectId=33e77cfb-76b3-4929-b427-63f56a4dc527' target=\"_blank\">\n<img alt='Created in deepnote.com' style='display:inline;max-height:16px;margin:0px;margin-right:7.5px;' src='data:image/svg+xml;base64,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' > </img>\nCreated in <span style='font-weight:600;margin-left:4px;'>Deepnote</span></a>",
   "metadata": {
    "tags": [],
    "created_in_deepnote_cell": true,
    "deepnote_cell_type": "markdown"
   }
  }
 ],
 "nbformat": 4,
 "nbformat_minor": 2,
 "metadata": {
  "orig_nbformat": 2,
  "deepnote": {
   "is_reactive": false
  },
  "deepnote_notebook_id": "ce00c2f5-6a5b-46e7-a6a1-bfe7b0e57879",
  "deepnote_execution_queue": []
 }
}